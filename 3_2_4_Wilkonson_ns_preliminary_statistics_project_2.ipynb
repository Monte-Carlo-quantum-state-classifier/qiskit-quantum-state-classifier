{
 "cells": [
  {
   "cell_type": "code",
   "execution_count": 12,
   "metadata": {},
   "outputs": [],
   "source": [
    "import numpy as np\n",
    "import pandas as pd\n",
    "import json as json\n",
    "from scipy import stats\n",
    "from statsmodels.formula.api import ols\n",
    "import matplotlib.pyplot as plt\n",
    "from scipy.signal import savgol_filter"
   ]
  },
  {
   "cell_type": "code",
   "execution_count": 13,
   "metadata": {},
   "outputs": [],
   "source": [
    "from o_plot import opl # a small local package dedicated to this project"
   ]
  },
  {
   "cell_type": "code",
   "execution_count": 14,
   "metadata": {},
   "outputs": [],
   "source": [
    "# Prepare the data"
   ]
  },
  {
   "cell_type": "code",
   "execution_count": 15,
   "metadata": {},
   "outputs": [
    {
     "name": "stdout",
     "output_type": "stream",
     "text": [
      "148\n"
     ]
    }
   ],
   "source": [
    "# loading the data\n",
    "file_name = 'Up_to_Belem_TE4AL2_data_new.json'\n",
    "f = open(file_name)\n",
    "All_data = json.load(f)\n",
    "print(len(All_data))"
   ]
  },
  {
   "cell_type": "markdown",
   "metadata": {},
   "source": [
    "## Note for the interpretation of the curves and definition of the statistical variables\n",
    "\n",
    "The quantum state classifier (QSC) error rates $\\widehat{r}_i$ in function of the number of experimental shots $n$ were determined for each highly entangled quantum state $\\omega_i$ in the $\\Omega$ set, with $i=1...m$.\n",
    "\n",
    "The curves seen on the figures represents the mean of the QSC error rate $\\widehat{r}_{mean}$ over the $m$ quantum states at each $n$ value.\n",
    "\n",
    "This Monte Carlo simulation allowed to determine a safe shot number $n_s$ such that $\\forall i\\; \\widehat{r}_i\\le \\epsilon_s$. The value of $\\epsilon_s$ was set at 0.001.\n",
    "\n",
    "$\\widehat{r}_{max}$ is the maximal value observed among all the $\\widehat{r}_i$ values for the determined  number of shots $n_s$.\n",
    "\n",
    "Similarly, from the error curves stored in the data file, was computed the safe shot number $n_t$ such that $\\widehat{r}_{mean}\\le \\epsilon_t$. The value of $\\epsilon_t$ was set at 0.0005 after verifying that all $\\widehat{r}_{mean}$ at $n_s$ were $\\le \\epsilon_s$ in the different experimental settings. \n",
    "\n",
    "Correspondance between variables names in the text and in the data base:\n",
    "\n",
    "- $\\widehat{r}_{mean}$: error_curve\n",
    "- $n_s$: shots\n",
    "- max ($\\widehat{r}_i$) at $n_s$: shot_rate\n",
    "- $\\widehat{r}_{mean}$ at $n_s$: mns_rate\n",
    "- $n_t$: m_shots\n",
    "- $\\widehat{r}_{mean}$ at $n_t$: m_shot_rate\n",
    "\n",
    "\n"
   ]
  },
  {
   "cell_type": "code",
   "execution_count": 16,
   "metadata": {},
   "outputs": [],
   "source": [
    "# Calculate shot number 'm_shots' for mean error rate 'm_shot_rates' <= epsilon_t\n",
    "len_data = len(All_data)\n",
    "epsilon_t = 0.0005\n",
    "window = 11\n",
    "for i in range(len_data):            \n",
    "    curve = np.array(All_data[i]['error_curve'])\n",
    "    # filter the curve only for real devices:\n",
    "    if All_data[i]['device']!=\"ideal_device\":    \n",
    "        curve = savgol_filter(curve,window,2) \n",
    "    # find the safe shot number:    \n",
    "    len_c = len(curve)                               \n",
    "    n_a = np.argmin(np.flip(curve)<=epsilon_t)+1                          \n",
    "    if n_a == 1:\n",
    "        n_a = np.nan\n",
    "        m_r = np.nan\n",
    "    else:\n",
    "        m_r = curve[len_c-n_a+1]\n",
    "    All_data[i]['min_r_shots'] = len_c-n_a\n",
    "    All_data[i]['min_r'] = m_r"
   ]
  },
  {
   "cell_type": "code",
   "execution_count": 17,
   "metadata": {},
   "outputs": [],
   "source": [
    "# find mean error rate at n_s\n",
    "for i in range(len_data):\n",
    "    i_shot = All_data[i][\"shots\"]\n",
    "    if not np.isnan(i_shot):\n",
    "        j = int(i_shot)-1        \n",
    "        All_data[i]['mns_rate'] = All_data[i]['error_curve'][j]\n",
    "    else:\n",
    "        All_data[i]['mns_rate'] = np.nan"
   ]
  },
  {
   "cell_type": "code",
   "execution_count": 159,
   "metadata": {},
   "outputs": [],
   "source": [
    "#defining the pandas data frame for statistics excluding from here ibmqx2 data\n",
    "df_All= pd.DataFrame(All_data,columns=['shot_rates','shots', 'device', 'fidelity',\n",
    "                                        'mitigation','model','id_gates',\n",
    "                                        'QV', 'metric','error_curve',\n",
    "                                        'mns_rate','min_r_shots',\n",
    "                                        'min_r']).query(\"device != 'ibmqx2'\")\n",
    "\n",
    "# any shot number >= 488 indicates that the curve calculation \n",
    "# was ended after reaching n = 500, hence this data correction:\n",
    "df_All.loc[df_All.shots>=488,\"shots\"]=np.nan\n",
    "\n",
    "# add the variable neperian log of safe shot number: \n",
    "df_All['log_shots'] = np.log(df_All['shots'])\n",
    "df_All['log_min_r_shots'] = np.log(df_All['min_r_shots'])\n",
    "\n",
    "# add the delta shots variables \n",
    "# we know that we need 16 shots anyway in the ideal conditions for this case\n",
    "df_All['d_shots'] = df_All['shots'] - 16 # this  is valid for both metrics\n"
   ]
  },
  {
   "cell_type": "markdown",
   "metadata": {},
   "source": [
    "### Error rates in function of chosen $\\epsilon_s$ and $\\epsilon_t$"
   ]
  },
  {
   "cell_type": "code",
   "execution_count": 19,
   "metadata": {},
   "outputs": [
    {
     "name": "stdout",
     "output_type": "stream",
     "text": [
      "max mean error rate at n_s over all experiments = 0.000515\n"
     ]
    }
   ],
   "source": [
    "print(\"max mean error rate at n_s over all experiments =\", round(max(df_All.mns_rate[:-2]),6))"
   ]
  },
  {
   "cell_type": "code",
   "execution_count": 20,
   "metadata": {},
   "outputs": [
    {
     "name": "stdout",
     "output_type": "stream",
     "text": [
      "min mean error rate at n_t over all experiments = 0.000225\n"
     ]
    }
   ],
   "source": [
    "print(\"min mean error rate at n_t over all experiments =\", round(min(df_All.min_r[:-2]),6))"
   ]
  },
  {
   "cell_type": "code",
   "execution_count": 21,
   "metadata": {},
   "outputs": [
    {
     "name": "stdout",
     "output_type": "stream",
     "text": [
      "max mean error rate at n_t over all experiments = 0.0005\n"
     ]
    }
   ],
   "source": [
    "print(\"max mean error rate at n_t over all experiments =\", round(max(df_All.min_r[:-2]),6))"
   ]
  },
  {
   "cell_type": "code",
   "execution_count": 22,
   "metadata": {},
   "outputs": [
    {
     "data": {
      "text/plain": [
       "<AxesSubplot:ylabel='Frequency'>"
      ]
     },
     "execution_count": 22,
     "metadata": {},
     "output_type": "execute_result"
    },
    {
     "data": {
      "image/png": "[encoded data removed]",
      "text/plain": [
       "<Figure size 432x288 with 1 Axes>"
      ]
     },
     "metadata": {
      "needs_background": "light"
     },
     "output_type": "display_data"
    }
   ],
   "source": [
    "df_All.mns_rate[:-2].plot.hist(alpha=0.5, legend = True)\n",
    "df_All.min_r[:-2].plot.hist(alpha=0.5, legend = True)"
   ]
  },
  {
   "cell_type": "markdown",
   "metadata": {},
   "source": [
    "### Determine the options\n",
    "Running sequentially these cells will end up with the main streaming options"
   ]
  },
  {
   "cell_type": "code",
   "execution_count": 80,
   "metadata": {},
   "outputs": [],
   "source": [
    "# this for Jensen-Shannon metric \n",
    "s_metric = 'jensenshannon'\n",
    "sm = np.array([96+16+16+16]) # added Quito and Lima and Belem\n",
    "SAD=0\n",
    "# ! will be unselected by running the next cell"
   ]
  },
  {
   "cell_type": "code",
   "execution_count": 107,
   "metadata": {},
   "outputs": [],
   "source": [
    "# mainstream option for metric: squared euclidean distance\n",
    "# skip this cell if you don't want this option\n",
    "s_metric = 'sqeuclidean'\n",
    "sm = np.array([97+16+16+16]) # added Quito and Lima and Belem\n",
    "SAD=2   "
   ]
  },
  {
   "cell_type": "markdown",
   "metadata": {},
   "source": [
    "## 1. Compare distribution models\n"
   ]
  },
  {
   "cell_type": "code",
   "execution_count": 171,
   "metadata": {},
   "outputs": [],
   "source": [
    "# this for no mitigation\n",
    "mit = 'no'\n",
    "MIT=-4"
   ]
  },
  {
   "cell_type": "code",
   "execution_count": 172,
   "metadata": {
    "scrolled": true
   },
   "outputs": [
    {
     "name": "stderr",
     "output_type": "stream",
     "text": [
      "<ipython-input-172-af347b9ea33a>:2: UserWarning: Boolean Series key will be reindexed to match DataFrame index.\n",
      "  df_mod = df_All[df_All.mitigation == mit][df_All.metric == s_metric]\n"
     ]
    }
   ],
   "source": [
    "# select data according to the options\n",
    "df_mod = df_All[df_All.mitigation == mit][df_All.metric == s_metric]"
   ]
  },
  {
   "cell_type": "code",
   "execution_count": 173,
   "metadata": {},
   "outputs": [
    {
     "name": "stdout",
     "output_type": "stream",
     "text": [
      "mitigation: no   metric: sqeuclidean\n"
     ]
    },
    {
     "data": {
      "text/html": [
       "<div>\n",
       "<style scoped>\n",
       "    .dataframe tbody tr th:only-of-type {\n",
       "        vertical-align: middle;\n",
       "    }\n",
       "\n",
       "    .dataframe tbody tr th {\n",
       "        vertical-align: top;\n",
       "    }\n",
       "\n",
       "    .dataframe thead tr th {\n",
       "        text-align: left;\n",
       "    }\n",
       "\n",
       "    .dataframe thead tr:last-of-type th {\n",
       "        text-align: right;\n",
       "    }\n",
       "</style>\n",
       "<table border=\"1\" class=\"dataframe\">\n",
       "  <thead>\n",
       "    <tr>\n",
       "      <th></th>\n",
       "      <th colspan=\"6\" halign=\"left\">d_shots</th>\n",
       "      <th colspan=\"6\" halign=\"left\">shots</th>\n",
       "    </tr>\n",
       "    <tr>\n",
       "      <th></th>\n",
       "      <th>count</th>\n",
       "      <th>mean</th>\n",
       "      <th>std</th>\n",
       "      <th>min</th>\n",
       "      <th>50%</th>\n",
       "      <th>max</th>\n",
       "      <th>count</th>\n",
       "      <th>mean</th>\n",
       "      <th>std</th>\n",
       "      <th>min</th>\n",
       "      <th>50%</th>\n",
       "      <th>max</th>\n",
       "    </tr>\n",
       "    <tr>\n",
       "      <th>device</th>\n",
       "      <th></th>\n",
       "      <th></th>\n",
       "      <th></th>\n",
       "      <th></th>\n",
       "      <th></th>\n",
       "      <th></th>\n",
       "      <th></th>\n",
       "      <th></th>\n",
       "      <th></th>\n",
       "      <th></th>\n",
       "      <th></th>\n",
       "      <th></th>\n",
       "    </tr>\n",
       "  </thead>\n",
       "  <tbody>\n",
       "    <tr>\n",
       "      <th>ibmq_athens</th>\n",
       "      <td>4.0</td>\n",
       "      <td>30.00</td>\n",
       "      <td>14.628739</td>\n",
       "      <td>18.0</td>\n",
       "      <td>26.5</td>\n",
       "      <td>49.0</td>\n",
       "      <td>4.0</td>\n",
       "      <td>46.00</td>\n",
       "      <td>14.628739</td>\n",
       "      <td>34.0</td>\n",
       "      <td>42.5</td>\n",
       "      <td>65.0</td>\n",
       "    </tr>\n",
       "    <tr>\n",
       "      <th>ibmq_belem</th>\n",
       "      <td>4.0</td>\n",
       "      <td>43.00</td>\n",
       "      <td>27.141604</td>\n",
       "      <td>22.0</td>\n",
       "      <td>34.5</td>\n",
       "      <td>81.0</td>\n",
       "      <td>4.0</td>\n",
       "      <td>59.00</td>\n",
       "      <td>27.141604</td>\n",
       "      <td>38.0</td>\n",
       "      <td>50.5</td>\n",
       "      <td>97.0</td>\n",
       "    </tr>\n",
       "    <tr>\n",
       "      <th>ibmq_lima</th>\n",
       "      <td>4.0</td>\n",
       "      <td>89.75</td>\n",
       "      <td>91.928867</td>\n",
       "      <td>32.0</td>\n",
       "      <td>51.0</td>\n",
       "      <td>225.0</td>\n",
       "      <td>4.0</td>\n",
       "      <td>105.75</td>\n",
       "      <td>91.928867</td>\n",
       "      <td>48.0</td>\n",
       "      <td>67.0</td>\n",
       "      <td>241.0</td>\n",
       "    </tr>\n",
       "    <tr>\n",
       "      <th>ibmq_ourense</th>\n",
       "      <td>4.0</td>\n",
       "      <td>35.75</td>\n",
       "      <td>11.026483</td>\n",
       "      <td>22.0</td>\n",
       "      <td>36.0</td>\n",
       "      <td>49.0</td>\n",
       "      <td>4.0</td>\n",
       "      <td>51.75</td>\n",
       "      <td>11.026483</td>\n",
       "      <td>38.0</td>\n",
       "      <td>52.0</td>\n",
       "      <td>65.0</td>\n",
       "    </tr>\n",
       "    <tr>\n",
       "      <th>ibmq_quito</th>\n",
       "      <td>4.0</td>\n",
       "      <td>141.00</td>\n",
       "      <td>134.880194</td>\n",
       "      <td>33.0</td>\n",
       "      <td>96.5</td>\n",
       "      <td>338.0</td>\n",
       "      <td>4.0</td>\n",
       "      <td>157.00</td>\n",
       "      <td>134.880194</td>\n",
       "      <td>49.0</td>\n",
       "      <td>112.5</td>\n",
       "      <td>354.0</td>\n",
       "    </tr>\n",
       "    <tr>\n",
       "      <th>ibmq_santiago</th>\n",
       "      <td>4.0</td>\n",
       "      <td>34.50</td>\n",
       "      <td>9.327379</td>\n",
       "      <td>21.0</td>\n",
       "      <td>37.5</td>\n",
       "      <td>42.0</td>\n",
       "      <td>4.0</td>\n",
       "      <td>50.50</td>\n",
       "      <td>9.327379</td>\n",
       "      <td>37.0</td>\n",
       "      <td>53.5</td>\n",
       "      <td>58.0</td>\n",
       "    </tr>\n",
       "    <tr>\n",
       "      <th>ibmq_valencia</th>\n",
       "      <td>4.0</td>\n",
       "      <td>37.75</td>\n",
       "      <td>14.174508</td>\n",
       "      <td>21.0</td>\n",
       "      <td>40.0</td>\n",
       "      <td>50.0</td>\n",
       "      <td>4.0</td>\n",
       "      <td>53.75</td>\n",
       "      <td>14.174508</td>\n",
       "      <td>37.0</td>\n",
       "      <td>56.0</td>\n",
       "      <td>66.0</td>\n",
       "    </tr>\n",
       "    <tr>\n",
       "      <th>ibmq_vigo</th>\n",
       "      <td>4.0</td>\n",
       "      <td>28.50</td>\n",
       "      <td>13.771952</td>\n",
       "      <td>17.0</td>\n",
       "      <td>24.5</td>\n",
       "      <td>48.0</td>\n",
       "      <td>4.0</td>\n",
       "      <td>44.50</td>\n",
       "      <td>13.771952</td>\n",
       "      <td>33.0</td>\n",
       "      <td>40.5</td>\n",
       "      <td>64.0</td>\n",
       "    </tr>\n",
       "  </tbody>\n",
       "</table>\n",
       "</div>"
      ],
      "text/plain": [
       "              d_shots                                        shots          \\\n",
       "                count    mean         std   min   50%    max count    mean   \n",
       "device                                                                       \n",
       "ibmq_athens       4.0   30.00   14.628739  18.0  26.5   49.0   4.0   46.00   \n",
       "ibmq_belem        4.0   43.00   27.141604  22.0  34.5   81.0   4.0   59.00   \n",
       "ibmq_lima         4.0   89.75   91.928867  32.0  51.0  225.0   4.0  105.75   \n",
       "ibmq_ourense      4.0   35.75   11.026483  22.0  36.0   49.0   4.0   51.75   \n",
       "ibmq_quito        4.0  141.00  134.880194  33.0  96.5  338.0   4.0  157.00   \n",
       "ibmq_santiago     4.0   34.50    9.327379  21.0  37.5   42.0   4.0   50.50   \n",
       "ibmq_valencia     4.0   37.75   14.174508  21.0  40.0   50.0   4.0   53.75   \n",
       "ibmq_vigo         4.0   28.50   13.771952  17.0  24.5   48.0   4.0   44.50   \n",
       "\n",
       "                                               \n",
       "                      std   min    50%    max  \n",
       "device                                         \n",
       "ibmq_athens     14.628739  34.0   42.5   65.0  \n",
       "ibmq_belem      27.141604  38.0   50.5   97.0  \n",
       "ibmq_lima       91.928867  48.0   67.0  241.0  \n",
       "ibmq_ourense    11.026483  38.0   52.0   65.0  \n",
       "ibmq_quito     134.880194  49.0  112.5  354.0  \n",
       "ibmq_santiago    9.327379  37.0   53.5   58.0  \n",
       "ibmq_valencia   14.174508  37.0   56.0   66.0  \n",
       "ibmq_vigo       13.771952  33.0   40.5   64.0  "
      ]
     },
     "execution_count": 173,
     "metadata": {},
     "output_type": "execute_result"
    }
   ],
   "source": [
    "print(\"mitigation:\",mit,\"  metric:\",s_metric )\n",
    "df_mod.groupby('device')[['d_shots','shots']].describe(percentiles=[0.5])"
   ]
  },
  {
   "cell_type": "markdown",
   "metadata": {},
   "source": [
    "## Ideal vs empirical model: "
   ]
  },
  {
   "cell_type": "markdown",
   "metadata": {},
   "source": [
    "## without mitigation"
   ]
  },
  {
   "cell_type": "markdown",
   "metadata": {},
   "source": [
    "### excess shots for creation + Bob measurement"
   ]
  },
  {
   "cell_type": "markdown",
   "metadata": {},
   "source": [
    "#### Paired t-test and Wilcoxon test"
   ]
  },
  {
   "cell_type": "code",
   "execution_count": 174,
   "metadata": {
    "scrolled": false
   },
   "outputs": [
    {
     "name": "stdout",
     "output_type": "stream",
     "text": [
      "mitigation: no   metric: sqeuclidean variable: d_shots\n",
      "           count    mean        std   min   50%    max\n",
      "model                                                 \n",
      "empirical    8.0  23.250   5.994045  17.0  21.5   33.0\n",
      "ideal_sim    8.0  40.875  27.843632  19.0  34.0  105.0 \n",
      "\n",
      "paired data\n",
      "[21. 18. 21. 17. 22. 33. 32. 22.]\n",
      "[ 39.  19.  50.  21.  36. 105.  32.  25.] \n",
      "\n",
      "Ttest_relResult(statistic=-2.0633865777506637, pvalue=0.07797431270417877)\n",
      "WilcoxonResult(statistic=0.0, pvalue=0.017960477526078766) \n",
      "\n"
     ]
    },
    {
     "name": "stderr",
     "output_type": "stream",
     "text": [
      "C:\\Users\\decpi\\Anaconda3\\envs\\QK25\\lib\\site-packages\\scipy\\stats\\morestats.py:2967: UserWarning: Exact p-value calculation does not work if there are ties. Switching to normal approximation.\n",
      "  warnings.warn(\"Exact p-value calculation does not work if there are \"\n",
      "C:\\Users\\decpi\\Anaconda3\\envs\\QK25\\lib\\site-packages\\scipy\\stats\\morestats.py:2981: UserWarning: Sample size too small for normal approximation.\n",
      "  warnings.warn(\"Sample size too small for normal approximation.\")\n"
     ]
    }
   ],
   "source": [
    "for depvar in ['d_shots' ]:\n",
    "    print(\"mitigation:\",mit,\"  metric:\",s_metric, \"variable:\", depvar)\n",
    "    df_dep = df_mod.query(\"id_gates == 0.0\").groupby(['model'])[depvar]\n",
    "    print(df_dep.describe(percentiles=[0.5]),\"\\n\")\n",
    "    # no error rate curve obtained for ibmqx2 with the ideal model, hence this exclusion:\n",
    "    df_emp=df_mod.query(\"model == 'empirical' & id_gates == 0.0\")\n",
    "    df_ide=df_mod.query(\"model == 'ideal_sim' & id_gates == 0.0\")  #.reindex_like(df_emp,'nearest')\n",
    "    # back to numpy arrays from pandas: \n",
    "    print(\"paired data\")\n",
    "    print(np.asarray(df_emp[depvar]))\n",
    "    print(np.asarray(df_ide[depvar]),\"\\n\")\n",
    "\n",
    "    print(stats.ttest_rel(np.asarray(df_emp[depvar]),np.asarray(df_ide[depvar])))\n",
    "    print(stats.wilcoxon(np.asarray(df_emp[depvar]),np.asarray(df_ide[depvar])),\"\\n\")\n",
    "# added for delta calculations\n",
    "cb_shots_emp = np.asarray(df_emp[depvar])\n",
    "cb_shots_ide = np.asarray(df_ide[depvar])"
   ]
  },
  {
   "cell_type": "markdown",
   "metadata": {},
   "source": [
    "### excess shots for creation + transmission time of 256  id gates + Bob measurement"
   ]
  },
  {
   "cell_type": "markdown",
   "metadata": {},
   "source": [
    "#### Paired t-test and Wilcoxon test"
   ]
  },
  {
   "cell_type": "code",
   "execution_count": 175,
   "metadata": {
    "scrolled": false
   },
   "outputs": [
    {
     "name": "stdout",
     "output_type": "stream",
     "text": [
      "mitigation: no   metric: sqeuclidean variable: d_shots\n",
      "           count     mean         std   min   50%    max\n",
      "model                                                   \n",
      "empirical    8.0   45.875   21.503737  28.0  36.0   88.0\n",
      "ideal_sim    8.0  110.125  110.635098  42.0  49.0  338.0 \n",
      "\n",
      "paired data\n",
      "[36. 34. 31. 28. 36. 88. 70. 44.]\n",
      "[ 42.  49.  49.  48.  49. 338. 225.  81.] \n",
      "\n",
      "Ttest_relResult(statistic=-2.031337223285547, pvalue=0.0817513058528155)\n",
      "WilcoxonResult(statistic=0.0, pvalue=0.0078125) \n",
      "\n"
     ]
    }
   ],
   "source": [
    "for depvar in ['d_shots' ]:\n",
    "    print(\"mitigation:\",mit,\"  metric:\",s_metric, \"variable:\", depvar)\n",
    "    df_dep = df_mod.query(\"id_gates == 256.0 \").groupby(['model'])[depvar]\n",
    "    print(df_dep.describe(percentiles=[0.5]),\"\\n\")\n",
    "    # no error rate curve obtained for ibmqx2   with the ideal model, hence their exclusion:\n",
    "    df_emp=df_mod.query(\"model == 'empirical' & id_gates == 256.0 \")\n",
    "    df_ide=df_mod.query(\"model == 'ideal_sim' & id_gates == 256.0\")  #.reindex_like(df_emp,'nearest') \n",
    "    # back to numpy arrays from pandas: \n",
    "    print(\"paired data\")\n",
    "    print(np.asarray(df_emp[depvar]))\n",
    "    print(np.asarray(df_ide[depvar]),\"\\n\")\n",
    "    \n",
    "    print(stats.ttest_rel(np.asarray(df_emp[depvar]),np.asarray(df_ide[depvar])))\n",
    "    print(stats.wilcoxon(np.asarray(df_emp[depvar]),np.asarray(df_ide[depvar])),\"\\n\")\n",
    "# added for delta calculations\n",
    "tb_shots_emp = np.asarray(df_emp[depvar])\n",
    "tb_shots_ide = np.asarray(df_ide[depvar])"
   ]
  },
  {
   "cell_type": "markdown",
   "metadata": {},
   "source": [
    "### excess shots for  transmission time of 256  id gates + Bob measurement"
   ]
  },
  {
   "cell_type": "code",
   "execution_count": 176,
   "metadata": {
    "scrolled": false
   },
   "outputs": [
    {
     "name": "stdout",
     "output_type": "stream",
     "text": [
      "mitigation: no   metric: sqeuclidean\n",
      "22.625 +/- 14.815005062435855\n",
      "69.25 +/- 85.23313616194115\n",
      "[15. 16. 10. 11. 14. 55. 38. 22.]\n",
      "[  3.  30.  -1.  27.  13. 233. 193.  56.]\n",
      "Ttest_relResult(statistic=-1.7403785611738531, pvalue=0.12533964536100758)\n",
      "WilcoxonResult(statistic=6.0, pvalue=0.109375)\n"
     ]
    }
   ],
   "source": [
    "\n",
    "print(\"mitigation:\",mit,\"  metric:\",s_metric)\n",
    "d_tb_emp = tb_shots_emp-cb_shots_emp\n",
    "d_tb_ide = tb_shots_ide-cb_shots_ide\n",
    "print(np.mean(d_tb_emp), '+/-',np.std(d_tb_emp))\n",
    "print(np.mean(d_tb_ide), '+/-', np.std(d_tb_ide))\n",
    "print(d_tb_emp)\n",
    "print(d_tb_ide)\n",
    "print(stats.ttest_rel(tb_shots_emp-cb_shots_emp,tb_shots_ide-cb_shots_ide))\n",
    "print(stats.wilcoxon(tb_shots_emp-cb_shots_emp,tb_shots_ide-cb_shots_ide))"
   ]
  },
  {
   "cell_type": "markdown",
   "metadata": {},
   "source": [
    "## with mitigation"
   ]
  },
  {
   "cell_type": "code",
   "execution_count": 177,
   "metadata": {},
   "outputs": [],
   "source": [
    "mit = 'yes'\n",
    "MIT= 0"
   ]
  },
  {
   "cell_type": "code",
   "execution_count": 178,
   "metadata": {
    "scrolled": true
   },
   "outputs": [
    {
     "name": "stderr",
     "output_type": "stream",
     "text": [
      "<ipython-input-178-af347b9ea33a>:2: UserWarning: Boolean Series key will be reindexed to match DataFrame index.\n",
      "  df_mod = df_All[df_All.mitigation == mit][df_All.metric == s_metric]\n"
     ]
    }
   ],
   "source": [
    "# select data according to the options\n",
    "df_mod = df_All[df_All.mitigation == mit][df_All.metric == s_metric]"
   ]
  },
  {
   "cell_type": "code",
   "execution_count": 179,
   "metadata": {},
   "outputs": [
    {
     "name": "stdout",
     "output_type": "stream",
     "text": [
      "mitigation: yes   metric: sqeuclidean\n"
     ]
    },
    {
     "data": {
      "text/html": [
       "<div>\n",
       "<style scoped>\n",
       "    .dataframe tbody tr th:only-of-type {\n",
       "        vertical-align: middle;\n",
       "    }\n",
       "\n",
       "    .dataframe tbody tr th {\n",
       "        vertical-align: top;\n",
       "    }\n",
       "\n",
       "    .dataframe thead tr th {\n",
       "        text-align: left;\n",
       "    }\n",
       "\n",
       "    .dataframe thead tr:last-of-type th {\n",
       "        text-align: right;\n",
       "    }\n",
       "</style>\n",
       "<table border=\"1\" class=\"dataframe\">\n",
       "  <thead>\n",
       "    <tr>\n",
       "      <th></th>\n",
       "      <th colspan=\"6\" halign=\"left\">d_shots</th>\n",
       "      <th colspan=\"6\" halign=\"left\">shots</th>\n",
       "    </tr>\n",
       "    <tr>\n",
       "      <th></th>\n",
       "      <th>count</th>\n",
       "      <th>mean</th>\n",
       "      <th>std</th>\n",
       "      <th>min</th>\n",
       "      <th>50%</th>\n",
       "      <th>max</th>\n",
       "      <th>count</th>\n",
       "      <th>mean</th>\n",
       "      <th>std</th>\n",
       "      <th>min</th>\n",
       "      <th>50%</th>\n",
       "      <th>max</th>\n",
       "    </tr>\n",
       "    <tr>\n",
       "      <th>device</th>\n",
       "      <th></th>\n",
       "      <th></th>\n",
       "      <th></th>\n",
       "      <th></th>\n",
       "      <th></th>\n",
       "      <th></th>\n",
       "      <th></th>\n",
       "      <th></th>\n",
       "      <th></th>\n",
       "      <th></th>\n",
       "      <th></th>\n",
       "      <th></th>\n",
       "    </tr>\n",
       "  </thead>\n",
       "  <tbody>\n",
       "    <tr>\n",
       "      <th>ibmq_athens</th>\n",
       "      <td>4.0</td>\n",
       "      <td>24.75</td>\n",
       "      <td>10.078856</td>\n",
       "      <td>16.0</td>\n",
       "      <td>23.0</td>\n",
       "      <td>37.0</td>\n",
       "      <td>4.0</td>\n",
       "      <td>40.75</td>\n",
       "      <td>10.078856</td>\n",
       "      <td>32.0</td>\n",
       "      <td>39.0</td>\n",
       "      <td>53.0</td>\n",
       "    </tr>\n",
       "    <tr>\n",
       "      <th>ibmq_belem</th>\n",
       "      <td>4.0</td>\n",
       "      <td>23.00</td>\n",
       "      <td>15.077577</td>\n",
       "      <td>9.0</td>\n",
       "      <td>20.5</td>\n",
       "      <td>42.0</td>\n",
       "      <td>4.0</td>\n",
       "      <td>39.00</td>\n",
       "      <td>15.077577</td>\n",
       "      <td>25.0</td>\n",
       "      <td>36.5</td>\n",
       "      <td>58.0</td>\n",
       "    </tr>\n",
       "    <tr>\n",
       "      <th>ibmq_lima</th>\n",
       "      <td>4.0</td>\n",
       "      <td>34.50</td>\n",
       "      <td>25.722882</td>\n",
       "      <td>13.0</td>\n",
       "      <td>29.5</td>\n",
       "      <td>66.0</td>\n",
       "      <td>4.0</td>\n",
       "      <td>50.50</td>\n",
       "      <td>25.722882</td>\n",
       "      <td>29.0</td>\n",
       "      <td>45.5</td>\n",
       "      <td>82.0</td>\n",
       "    </tr>\n",
       "    <tr>\n",
       "      <th>ibmq_ourense</th>\n",
       "      <td>4.0</td>\n",
       "      <td>18.75</td>\n",
       "      <td>4.112988</td>\n",
       "      <td>14.0</td>\n",
       "      <td>18.5</td>\n",
       "      <td>24.0</td>\n",
       "      <td>4.0</td>\n",
       "      <td>34.75</td>\n",
       "      <td>4.112988</td>\n",
       "      <td>30.0</td>\n",
       "      <td>34.5</td>\n",
       "      <td>40.0</td>\n",
       "    </tr>\n",
       "    <tr>\n",
       "      <th>ibmq_quito</th>\n",
       "      <td>4.0</td>\n",
       "      <td>84.50</td>\n",
       "      <td>72.399355</td>\n",
       "      <td>23.0</td>\n",
       "      <td>63.0</td>\n",
       "      <td>189.0</td>\n",
       "      <td>4.0</td>\n",
       "      <td>100.50</td>\n",
       "      <td>72.399355</td>\n",
       "      <td>39.0</td>\n",
       "      <td>79.0</td>\n",
       "      <td>205.0</td>\n",
       "    </tr>\n",
       "    <tr>\n",
       "      <th>ibmq_santiago</th>\n",
       "      <td>4.0</td>\n",
       "      <td>22.75</td>\n",
       "      <td>8.180261</td>\n",
       "      <td>11.0</td>\n",
       "      <td>25.0</td>\n",
       "      <td>30.0</td>\n",
       "      <td>4.0</td>\n",
       "      <td>38.75</td>\n",
       "      <td>8.180261</td>\n",
       "      <td>27.0</td>\n",
       "      <td>41.0</td>\n",
       "      <td>46.0</td>\n",
       "    </tr>\n",
       "    <tr>\n",
       "      <th>ibmq_valencia</th>\n",
       "      <td>4.0</td>\n",
       "      <td>16.75</td>\n",
       "      <td>5.737305</td>\n",
       "      <td>9.0</td>\n",
       "      <td>18.0</td>\n",
       "      <td>22.0</td>\n",
       "      <td>4.0</td>\n",
       "      <td>32.75</td>\n",
       "      <td>5.737305</td>\n",
       "      <td>25.0</td>\n",
       "      <td>34.0</td>\n",
       "      <td>38.0</td>\n",
       "    </tr>\n",
       "    <tr>\n",
       "      <th>ibmq_vigo</th>\n",
       "      <td>4.0</td>\n",
       "      <td>16.50</td>\n",
       "      <td>7.724420</td>\n",
       "      <td>9.0</td>\n",
       "      <td>16.0</td>\n",
       "      <td>25.0</td>\n",
       "      <td>4.0</td>\n",
       "      <td>32.50</td>\n",
       "      <td>7.724420</td>\n",
       "      <td>25.0</td>\n",
       "      <td>32.0</td>\n",
       "      <td>41.0</td>\n",
       "    </tr>\n",
       "  </tbody>\n",
       "</table>\n",
       "</div>"
      ],
      "text/plain": [
       "              d_shots                                      shots          \\\n",
       "                count   mean        std   min   50%    max count    mean   \n",
       "device                                                                     \n",
       "ibmq_athens       4.0  24.75  10.078856  16.0  23.0   37.0   4.0   40.75   \n",
       "ibmq_belem        4.0  23.00  15.077577   9.0  20.5   42.0   4.0   39.00   \n",
       "ibmq_lima         4.0  34.50  25.722882  13.0  29.5   66.0   4.0   50.50   \n",
       "ibmq_ourense      4.0  18.75   4.112988  14.0  18.5   24.0   4.0   34.75   \n",
       "ibmq_quito        4.0  84.50  72.399355  23.0  63.0  189.0   4.0  100.50   \n",
       "ibmq_santiago     4.0  22.75   8.180261  11.0  25.0   30.0   4.0   38.75   \n",
       "ibmq_valencia     4.0  16.75   5.737305   9.0  18.0   22.0   4.0   32.75   \n",
       "ibmq_vigo         4.0  16.50   7.724420   9.0  16.0   25.0   4.0   32.50   \n",
       "\n",
       "                                             \n",
       "                     std   min   50%    max  \n",
       "device                                       \n",
       "ibmq_athens    10.078856  32.0  39.0   53.0  \n",
       "ibmq_belem     15.077577  25.0  36.5   58.0  \n",
       "ibmq_lima      25.722882  29.0  45.5   82.0  \n",
       "ibmq_ourense    4.112988  30.0  34.5   40.0  \n",
       "ibmq_quito     72.399355  39.0  79.0  205.0  \n",
       "ibmq_santiago   8.180261  27.0  41.0   46.0  \n",
       "ibmq_valencia   5.737305  25.0  34.0   38.0  \n",
       "ibmq_vigo       7.724420  25.0  32.0   41.0  "
      ]
     },
     "execution_count": 179,
     "metadata": {},
     "output_type": "execute_result"
    }
   ],
   "source": [
    "print(\"mitigation:\",mit,\"  metric:\",s_metric )\n",
    "df_mod.groupby('device')[['d_shots','shots']].describe(percentiles=[0.5])"
   ]
  },
  {
   "cell_type": "markdown",
   "metadata": {},
   "source": [
    "### excess shots for creation "
   ]
  },
  {
   "cell_type": "markdown",
   "metadata": {},
   "source": [
    "#### Paired t-test and Wilcoxon test"
   ]
  },
  {
   "cell_type": "code",
   "execution_count": 180,
   "metadata": {
    "scrolled": false
   },
   "outputs": [
    {
     "name": "stdout",
     "output_type": "stream",
     "text": [
      "mitigation: yes   metric: sqeuclidean variable: d_shots\n",
      "           count   mean        std   min   50%   max\n",
      "model                                               \n",
      "empirical    8.0  13.00   4.810702   9.0  12.0  23.0\n",
      "ideal_sim    8.0  23.75  19.255797  11.0  17.5  70.0 \n",
      "\n",
      "paired data\n",
      "[11. 16.  9.  9. 14. 23. 13.  9.]\n",
      "[25. 17. 22. 11. 18. 70. 14. 13.] \n",
      "\n",
      "Ttest_relResult(statistic=-1.95830614638339, pvalue=0.0910466335786169)\n",
      "WilcoxonResult(statistic=0.0, pvalue=0.0078125) \n",
      "\n"
     ]
    }
   ],
   "source": [
    "for depvar in ['d_shots' ]:\n",
    "    print(\"mitigation:\",mit,\"  metric:\",s_metric, \"variable:\", depvar)\n",
    "    df_dep = df_mod.query(\"id_gates == 0.0\").groupby(['model'])[depvar]\n",
    "    print(df_dep.describe(percentiles=[0.5]),\"\\n\")\n",
    "    # no error rate curve obtained for ibmqx2 with the ideal model, hence this exclusion:\n",
    "    df_emp=df_mod.query(\"model == 'empirical' & id_gates == 0.0 \")\n",
    "    df_ide=df_mod.query(\"model == 'ideal_sim' & id_gates == 0.0\")  #.reindex_like(df_emp,'nearest')\n",
    "    # back to numpy arrays from pandas: \n",
    "    print(\"paired data\")\n",
    "    print(np.asarray(df_emp[depvar]))\n",
    "    print(np.asarray(df_ide[depvar]),\"\\n\")\n",
    "\n",
    "    print(stats.ttest_rel(np.asarray(df_emp[depvar]),np.asarray(df_ide[depvar])))\n",
    "    print(stats.wilcoxon(np.asarray(df_emp[depvar]),np.asarray(df_ide[depvar])),\"\\n\")\n",
    "# added for delta calculations\n",
    "c_shots_emp = np.asarray(df_emp[depvar])\n",
    "c_shots_ide = np.asarray(df_ide[depvar])"
   ]
  },
  {
   "cell_type": "markdown",
   "metadata": {},
   "source": [
    "### excess shots for creation + transmission time of 256  id gates"
   ]
  },
  {
   "cell_type": "markdown",
   "metadata": {},
   "source": [
    "#### Paired t-test and Wilcoxon test"
   ]
  },
  {
   "cell_type": "code",
   "execution_count": 181,
   "metadata": {
    "scrolled": false
   },
   "outputs": [
    {
     "name": "stdout",
     "output_type": "stream",
     "text": [
      "mitigation: yes   metric: sqeuclidean variable: d_shots\n",
      "           count  mean        std   min   50%    max\n",
      "model                                               \n",
      "empirical    8.0  30.5  13.638182  16.0  28.5   56.0\n",
      "ideal_sim    8.0  53.5  56.742526  20.0  31.0  189.0 \n",
      "\n",
      "paired data\n",
      "[30. 29. 16. 21. 19. 56. 45. 28.]\n",
      "[ 25.  37.  20.  25.  24. 189.  66.  42.] \n",
      "\n",
      "Ttest_relResult(statistic=-1.4423373664478383, pvalue=0.19241441998644923)\n",
      "WilcoxonResult(statistic=3.5, pvalue=0.0390625) \n",
      "\n"
     ]
    }
   ],
   "source": [
    "for depvar in ['d_shots' ]:\n",
    "    print(\"mitigation:\",mit,\"  metric:\",s_metric, \"variable:\", depvar)\n",
    "    df_dep = df_mod.query(\"id_gates == 256.0 \").groupby(['model'])[depvar]\n",
    "    print(df_dep.describe(percentiles=[0.5]),\"\\n\")\n",
    "    # no error rate curve obtained for ibmqx2   with the ideal model, hence their exclusion:\n",
    "    df_emp=df_mod.query(\"model == 'empirical' & id_gates == 256.0 \")\n",
    "    df_ide=df_mod.query(\"model == 'ideal_sim' & id_gates == 256.0\")  #.reindex_like(df_emp,'nearest') \n",
    "    # back to numpy arrays from pandas: \n",
    "    print(\"paired data\")\n",
    "    print(np.asarray(df_emp[depvar]))\n",
    "    print(np.asarray(df_ide[depvar]),\"\\n\")\n",
    "    \n",
    "    print(stats.ttest_rel(np.asarray(df_emp[depvar]),np.asarray(df_ide[depvar])))\n",
    "    print(stats.wilcoxon(np.asarray(df_emp[depvar]),np.asarray(df_ide[depvar])),\"\\n\")\n",
    "# added for delta calculations\n",
    "t_shots_emp = np.asarray(df_emp[depvar])\n",
    "t_shots_ide = np.asarray(df_ide[depvar])"
   ]
  },
  {
   "cell_type": "markdown",
   "metadata": {},
   "source": [
    "### excess shots for  transmission time of 256  id gates"
   ]
  },
  {
   "cell_type": "code",
   "execution_count": 184,
   "metadata": {
    "scrolled": false
   },
   "outputs": [
    {
     "name": "stdout",
     "output_type": "stream",
     "text": [
      "mitigation: yes   metric: sqeuclidean\n",
      "17.5 9.82344135219425\n",
      "29.75 +/- 37.51916177102042\n",
      "[19. 13.  7. 12.  5. 33. 32. 19.]\n",
      "[  0.  20.  -2.  14.   6. 119.  52.  29.]\n",
      "Ttest_relResult(statistic=-1.080986722892825, pvalue=0.31553203528646223)\n",
      "WilcoxonResult(statistic=10.0, pvalue=0.3125)\n"
     ]
    }
   ],
   "source": [
    "print(\"mitigation:\",mit,\"  metric:\",s_metric)\n",
    "d_t_emp = t_shots_emp-c_shots_emp\n",
    "d_t_ide = t_shots_ide-c_shots_ide\n",
    "\n",
    "print(np.mean(d_t_emp), np.std(d_t_emp))\n",
    "print(np.mean(d_t_ide), '+/-', np.std(d_t_ide))\n",
    "print(d_t_emp)\n",
    "print(d_t_ide)\n",
    "print(stats.ttest_rel(t_shots_emp-c_shots_emp,t_shots_ide-c_shots_ide))\n",
    "print(stats.wilcoxon(t_shots_emp-c_shots_emp,t_shots_ide-c_shots_ide))"
   ]
  },
  {
   "cell_type": "code",
   "execution_count": null,
   "metadata": {},
   "outputs": [],
   "source": []
  }
 ],
 "metadata": {
  "kernelspec": {
   "display_name": "Python 3",
   "language": "python",
   "name": "python3"
  },
  "language_info": {
   "codemirror_mode": {
    "name": "ipython",
    "version": 3
   },
   "file_extension": ".py",
   "mimetype": "text/x-python",
   "name": "python",
   "nbconvert_exporter": "python",
   "pygments_lexer": "ipython3",
   "version": "3.8.3"
  },
  "varInspector": {
   "cols": {
    "lenName": 16,
    "lenType": 16,
    "lenVar": 40
   },
   "kernels_config": {
    "python": {
     "delete_cmd_postfix": "",
     "delete_cmd_prefix": "del ",
     "library": "var_list.py",
     "varRefreshCmd": "print(var_dic_list())"
    },
    "r": {
     "delete_cmd_postfix": ") ",
     "delete_cmd_prefix": "rm(",
     "library": "var_list.r",
     "varRefreshCmd": "cat(var_dic_list()) "
    }
   },
   "types_to_exclude": [
    "module",
    "function",
    "builtin_function_or_method",
    "instance",
    "_Feature"
   ],
   "window_display": false
  }
 },
 "nbformat": 4,
 "nbformat_minor": 2
}
