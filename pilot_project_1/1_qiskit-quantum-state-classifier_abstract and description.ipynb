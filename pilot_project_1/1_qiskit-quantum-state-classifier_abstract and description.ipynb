{
 "cells": [
  {
   "cell_type": "markdown",
   "metadata": {},
   "source": [
    "## Classification of quantum states with high dimensional entanglement using Qiskit\n",
    "\n",
    "### Pilot project\n",
    "\n",
    "#### Short abstract:\n",
    "\n",
    "A quantum state classifier (QSC) based on distance matrix computation using Scipy was tested experimentally by submission of count distributions obtained from a circuit set $S$ of twenty separable states (mixing of $GHZ\\otimes\\Psi^+$ and $W\\otimes\\Phi^+$) created using Qiskit. The sets were run on six different 5-qubit superconducting computing devices. A Monte Carlo simulation using the QSC allowed calculation of the number $n_s$ of experimental iterations (shots) corresponding to a QSC error rate $\\le 0.001$ across $S$. The $n_s$ values were identical for two tested QSC metrics, the squared euclidean and the Jensen-Shannon distances. Log $n_s$ was lower when the QSC was confronted with the empirical front-end model of count distributions rather than a noise-free computer distribution model (t=6.52, p<0.01). Log $n_s$ was lower when measurement error mitigation was applied ((t=4.470, p<0.001) and higher when a delay was created in the circuits by inserting 252 identity gates between state creation and measurements (t=8.398, p<0.001). Log $n_s$ was correlated with device quantum measurement fidelity $f$ (r=.978, p<0.001), but not with quantum volume. In the devices with the higher values for $f$ (IBM Athens, Santiago  and Vigo), $n_s$ was in the range 19-23 shots, which is barely double the theoretical value $n_s$=11 for an ideal device.\n",
    "\n",
    "#### Introduction: \n",
    "\n",
    "High dimensional entanglement is proposed for transmission and memory storage of quantum information, e.g. possibly in future quantum imaging protocols.\n",
    " \n",
    "Qiskit allows online access to real devices with different quantum readout fidelity $f$ and quantum volumes $QV$.\n",
    "\n",
    "Qiskit therefore is an appealing playground for testing categorization protocols on a set of highly entangled quantum states.\n",
    "\n",
    "#### Methods:\n",
    "\n",
    "The study state set consisted of separable 5-qubit states $s_i,\\; i = 1...20$, namely the 10 possible combinations of  $GHZ\\otimes\\Psi^+$ state and 10 possibles combinations of $W\\otimes\\Phi^+$ state.\n",
    "\n",
    "The corresponding circuit sets were first established at the lower transpile level for an ideal fully connected device and result distributions were obtained an ideal model $M_i$.\n",
    "\n",
    "The following experimental protocol was achieved on six backends available online ('ibmq_athens', 'ibmq_ourense', ‘ibmqx2’, 'ibmq_santiago', 'ibmq_valencia and 'ibmq_vigo'):\n",
    "\t\n",
    "- A corresponding circuit set was transpiled at level 3 into a frozen form and submitted to experiments on the real device. \n",
    "\n",
    "- Sets of result distributions were obtained for an empirical model $M_e$ using 8192 experiment iterations (shots).\n",
    "\n",
    "- For increasing shot number $n$, pseudo-random result distributions were drawn from the empirical distributions for Monte Carlo simulation (1000 draws/state) of test experiments.\n",
    "\n",
    "- These distributions were submitted to a quantum state classifier (QSC) based on distance matrix computation using Scipy. As QSC metric, the Jensen-Shannon distance and the euclidean squared distance were both tested. For $M_i$ and $M_e$, the QSC error rates $\\widehat{r_i}$ in function of $n$ were observed for each separable state $s_i$ allowing to estimate a safe shot number $n_s$ such that $\\forall i  \\widehat{r_i}\\le \\epsilon$. A $2^d$ degree polynomial Savitzky-Golay interpolation on a 11-points moving window was used for fitting the $\\widehat{r_i}$ curves and determining $n_s$ for $\\epsilon$= .001.\n",
    "\n",
    "- The entire process was repeated for circuit sets with delay time $\\delta t$  consisting of 256 identity gates inserted between state creation and measurement.\n",
    "\n",
    "- Statistical method: statsmodels OLS was used taking $\\log\\ n_s$ (neperian logarithm of $n_s$) as the dependent variable. \n",
    " \n",
    "#### Results:\n",
    "\n",
    "- With $M_e$ and no $\\delta t$, for the devices with the higher $f$ (athens, santiago and vigo) $n_s$ was in range 19-23, which is barely double the expected value $n_s$=11 for an ideal noise-free quantum device. This whether or not mitigation was applied.\n",
    "\n",
    "\n",
    "- $\\log n_s$ was lower using $M_e$ rather than $M_i$ (t=6.523, p<0.001), lower when mitigation was applied ((t=4.470, p<0.001) and higher with $\\delta t$ (t=8.388, p<0.001).\n",
    "\n",
    "\n",
    "- Using $M_e$ without mitigation and without $\\delta t$, $\\log n_s$ was highly correlated with $f$ (r=.978, p<0.001), but was not significantly correlated with $QV$ (r=.659, NS).\n",
    "\n",
    "\n",
    "- Both QSC metrics gave identical values for $\\log n_s$.\n",
    "\n",
    "\n",
    "#### Conclusion:\n",
    "\n",
    "The developed QSC confronted with a front-end empirical model was efficient in presence of a set of separable highly entangled quantum states. \n",
    " \n"
   ]
  }
 ],
 "metadata": {
  "kernelspec": {
   "display_name": "Python 3",
   "language": "python",
   "name": "python3"
  },
  "language_info": {
   "codemirror_mode": {
    "name": "ipython",
    "version": 3
   },
   "file_extension": ".py",
   "mimetype": "text/x-python",
   "name": "python",
   "nbconvert_exporter": "python",
   "pygments_lexer": "ipython3",
   "version": "3.8.1"
  }
 },
 "nbformat": 4,
 "nbformat_minor": 4
}
