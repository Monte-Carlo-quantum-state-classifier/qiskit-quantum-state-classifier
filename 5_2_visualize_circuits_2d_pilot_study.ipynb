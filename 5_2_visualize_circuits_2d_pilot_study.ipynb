{
 "cells": [
  {
   "cell_type": "markdown",
   "metadata": {},
   "source": [
    "# Quantum states with high dimensional entanglement\n",
    "\n",
    "This notebook allows visualizing the 20 circuits of the second pilot study with mention of their depth and gate repartition.\n",
    "\n",
    "At the end, a toy protocol of ballot transmission is presented with experimental verification."
   ]
  },
  {
   "cell_type": "code",
   "execution_count": 1,
   "metadata": {},
   "outputs": [],
   "source": [
    "import numpy as np\n",
    "import copy\n",
    "from qiskit import QuantumRegister, QuantumCircuit, ClassicalRegister, Aer, execute, transpile, assemble\n",
    "from qiskit.tools.visualization import *\n",
    "from qiskit.ignis.mitigation.measurement import (complete_meas_cal, tensored_meas_cal,\n",
    "                                                 CompleteMeasFitter, TensoredMeasFitter)\n",
    "import json\n",
    "import time\n",
    "from qiskit.tools.monitor import job_monitor\n",
    "from scipy.spatial.distance import cdist\n",
    "import matplotlib.pyplot as plt"
   ]
  },
  {
   "cell_type": "code",
   "execution_count": 2,
   "metadata": {},
   "outputs": [],
   "source": [
    "from c_utils import new_cut # circuit building utilities\n",
    "from o_utils import ora"
   ]
  },
  {
   "cell_type": "code",
   "execution_count": 3,
   "metadata": {},
   "outputs": [],
   "source": [
    "data_directory = \"data2_files/\" # this directory for 2d pilot project data\n",
    "def json_dic_loader(dic_name):\n",
    "    f = open(data_directory+dic_name+'.json')\n",
    "    return json.load(f)\n",
    "def json_dic_dumper(dic, dic_name):\n",
    "    with open(data_directory+dic_name+'.json', 'w') as f:\n",
    "        json.dump(dic,f)   "
   ]
  },
  {
   "cell_type": "markdown",
   "metadata": {},
   "source": [
    "## Set up the simulator and layout for 5 qubits"
   ]
  },
  {
   "cell_type": "code",
   "execution_count": 4,
   "metadata": {},
   "outputs": [],
   "source": [
    "simulator = Aer.get_backend('qasm_simulator')"
   ]
  },
  {
   "cell_type": "code",
   "execution_count": 5,
   "metadata": {},
   "outputs": [],
   "source": [
    "#specify the layout of the devices\n",
    "used_qubits = 5\n",
    "qubit_list = [0,1,2,3,4]"
   ]
  },
  {
   "cell_type": "code",
   "execution_count": 6,
   "metadata": {},
   "outputs": [],
   "source": [
    "program_name=\"AL2\" # This for a mix of W/Psi+ and W_bar/Phi+ separable states (2d pilot project)\n",
    "Flag_char = \"DS\" # use the joint set\n",
    "if len(Flag_char) >= 2:\n",
    "    unique_char = \"M\" # for \"mixed\"\n",
    "else:\n",
    "    unique_char = Flag_char"
   ]
  },
  {
   "cell_type": "markdown",
   "metadata": {},
   "source": [
    "###### OLD VERSION TO BE DELETED These dictionaries for the devices used in the study\n",
    "QV_dic = {'ibmq_athens': 32.0, 'ibmq_valencia': 16.0, 'ibmq_ourense': 8.0, \n",
    "          \"ibmqx2\": 8.0, 'ibmq_santiago': 32.0, 'ibmq_vigo': 16.0, 'ideal_device': np.inf}\n",
    "dev_dic =  {'ibmq_santiago': \"San\",'ibmq_athens': \"Ath\", 'ibmq_valencia': \"Val\", 'ibmq_vigo': 'Vig','ibmq_ourense': \"Our\",\n",
    "               \"ibmqx2\": 'Yor',  'ideal_device': \"Ide\"}"
   ]
  },
  {
   "cell_type": "code",
   "execution_count": 7,
   "metadata": {},
   "outputs": [],
   "source": [
    "# These dictionaries for the devices used in the study\n",
    "if program_name == \"QAD\":\n",
    "    fidelity_dic = {'ibmq_athens': 0.925110, 'ibmq_valencia': 0.809101, 'ibmq_ourense': 0.802380,\"ibmqx2\": 0.627392, \n",
    "                    'ibmq_santiago': 0.919399, 'ibmq_vigo': 0.908840, 'ibmq_lima':0.771835, 'ideal_device': 1.0}\n",
    "    data_directory = \"data_files/\"\n",
    "elif program_name == \"AL2\":\n",
    "    fidelity_dic = {'ibmq_athens': 0.910145, 'ibmq_valencia': 0.794262, 'ibmq_ourense': 0.818974, \"ibmqx2\": 0.359528,\n",
    "                    'ibmq_santiago': 0.900024, 'ibmq_vigo': 0.841831, 'ibmq_quito': 0.839985, 'ibmq_lima':0.771835,\n",
    "                    'ibmq_belem':0.842281,'ideal_device': 1.0}\n",
    "    data_directory = \"data2_files/\"\n",
    "QV_dic = {'ibmq_athens': 32.0, 'ibmq_valencia': 16.0, 'ibmq_ourense': 8.0,\"ibmqx2\": 8.0, 'ibmq_santiago': 32.0,\n",
    "          'ibmq_vigo': 16.0, 'ideal_device': np.inf,  'ibmq_quito': 16.0, 'ibmq_lima': \"Lim\",'ibmq_belem':16.0}\n",
    "dev_dic =  {'ibmq_santiago': \"San\",'ibmq_athens': \"Ath\", 'ibmq_valencia': \"Val\", 'ibmq_vigo': 'Vig','ibmq_ourense': \"Our\",\n",
    "               \"ibmqx2\": 'Yor', 'ibmq_quito': \"Qui\", 'ibmq_lima': \"Lim\", 'ibmq_belem': \"Bel\",'ideal_device': \"Ide\" }"
   ]
  },
  {
   "cell_type": "code",
   "execution_count": 8,
   "metadata": {},
   "outputs": [],
   "source": [
    "# specify the device: here first the ideal noise-free device\n",
    "project_device = 'ideal_device'\n",
    "device_name = dev_dic[project_device]"
   ]
  },
  {
   "cell_type": "code",
   "execution_count": 9,
   "metadata": {},
   "outputs": [],
   "source": [
    "# specify the nb of id gates between state creation and measurements\n",
    "# zero for the ideal device of course\n",
    "id_gates = 0\n",
    "str_nb_id = str(id_gates)\n",
    "zfilled = str_nb_id.zfill(4-len(str_nb_id))"
   ]
  },
  {
   "cell_type": "code",
   "execution_count": 10,
   "metadata": {},
   "outputs": [
    {
     "name": "stdout",
     "output_type": "stream",
     "text": [
      "AL2_Ide\n",
      "AL2_Ide_M000\n"
     ]
    }
   ],
   "source": [
    "# tail of the file names for RAM storage\n",
    "mitig_name = program_name + \"_\" + device_name\n",
    "project_name = mitig_name + \"_\" + unique_char + zfilled\n",
    "print(mitig_name)\n",
    "print(project_name)"
   ]
  },
  {
   "cell_type": "code",
   "execution_count": 11,
   "metadata": {},
   "outputs": [
    {
     "name": "stdout",
     "output_type": "stream",
     "text": [
      "32 ['00000', '00001', '00010', '00011', '00100', '00101', '00110', '00111', '01000', '01001', '01010', '01011', '01100', '01101', '01110', '01111', '10000', '10001', '10010', '10011', '10100', '10101', '10110', '10111', '11000', '11001', '11010', '11011', '11100', '11101', '11110', '11111']\n"
     ]
    }
   ],
   "source": [
    "# establish the result label list\n",
    "# meas_calibs will be used for mitigation in the real device section\n",
    "qr = QuantumRegister(used_qubits) # \n",
    "meas_calibs, label_list = complete_meas_cal(qubit_list=qubit_list, qr=qr, circlabel='mcal')\n",
    "nb_labels=len(label_list)\n",
    "print(nb_labels,label_list)"
   ]
  },
  {
   "cell_type": "code",
   "execution_count": 12,
   "metadata": {},
   "outputs": [
    {
     "data": {
      "text/plain": [
       "32"
      ]
     },
     "execution_count": 12,
     "metadata": {},
     "output_type": "execute_result"
    }
   ],
   "source": [
    "len(meas_calibs)"
   ]
  },
  {
   "cell_type": "code",
   "execution_count": 13,
   "metadata": {},
   "outputs": [],
   "source": [
    "# permutation list\n",
    "# here it is simple to write down the list, \n",
    "# but a version using itertools will be wellcome for >5 qubits projects\n",
    "q_perm = [[0, 1, 2, 3, 4], [0, 1, 3, 2, 4], [0, 1, 4, 2, 3], [0, 2, 3, 1, 4], [0, 2, 4, 1, 3],\n",
    "          [0, 3, 4, 1, 2], [1, 2, 3, 0, 4], [1, 2, 4, 0, 3], [1, 3, 4, 0, 2], [2, 3, 4, 0, 1]]"
   ]
  },
  {
   "cell_type": "markdown",
   "metadata": {},
   "source": [
    "## Create the quantum states\n"
   ]
  },
  {
   "cell_type": "code",
   "execution_count": 14,
   "metadata": {},
   "outputs": [],
   "source": [
    "# define the two subsets of 10 separable states\n",
    "if program_name == \"QAD\":\n",
    "    state_1a = [\"W\",\"Phi+\"]\n",
    "    state_1b = [\"GHZ\",\"Psi+\"]\n",
    "elif program_name == \"ALT\" or \"AL2\":\n",
    "    state_1a = [\"W\",\"Psi+\"]\n",
    "    state_1b = [\"Wbar\",\"Phi+\"]\n",
    "l_states = state_1a+state_1b"
   ]
  },
  {
   "cell_type": "code",
   "execution_count": 15,
   "metadata": {},
   "outputs": [
    {
     "data": {
      "text/plain": [
       "['W', 'Psi+', 'Wbar', 'Phi+']"
      ]
     },
     "execution_count": 15,
     "metadata": {},
     "output_type": "execute_result"
    }
   ],
   "source": [
    "l_states"
   ]
  },
  {
   "cell_type": "code",
   "execution_count": 16,
   "metadata": {},
   "outputs": [],
   "source": [
    "# version 20 circuits for demonstration\n",
    "# (in the version run on real devices: two batches of 10 circuits)\n",
    "\n",
    "# these circuits limited to state creation are ready to be saved \n",
    "# for  ultimately building circuits adapted to noisy simulator and real devices\n",
    "# as option, these circuits will include a row of id gates between creation and measurements\n",
    "\n",
    "circ_ori = []\n",
    "for i_s in range(0,len(l_states),2):\n",
    "    for perm in q_perm:\n",
    "            mycircuit = QuantumCircuit(used_qubits, used_qubits)                                   \n",
    "            mycircuit = new_cut.circuit_builder(mycircuit, perm, l_states[i_s],l_states[i_s+1])\n",
    "            circ_ori.append(mycircuit)"
   ]
  },
  {
   "cell_type": "code",
   "execution_count": 17,
   "metadata": {},
   "outputs": [],
   "source": [
    "# add measurement section to the circuit set newly created:\n",
    "nb_states = len(circ_ori)\n",
    "circ_ideal = copy.deepcopy(circ_ori)\n",
    "for i_state in range(nb_states):\n",
    "    new_cut.add_barrier_and_measure(circ_ideal[i_state],qubit_list)"
   ]
  },
  {
   "cell_type": "markdown",
   "metadata": {},
   "source": [
    "## Obtain result distributions on  noise free simulator"
   ]
  },
  {
   "cell_type": "code",
   "execution_count": 18,
   "metadata": {},
   "outputs": [],
   "source": [
    "# execute on noise free simulator  \n",
    "s_sim = 12000\n",
    "job_simul = execute(circ_ideal, backend=simulator, shots=s_sim)\n",
    "tot_results_simul = job_simul.result()"
   ]
  },
  {
   "cell_type": "code",
   "execution_count": 19,
   "metadata": {},
   "outputs": [],
   "source": [
    "# establish a dictionary of count results on noise free simulator:\n",
    "# (this step is only useful if ram storage is performed)\n",
    "void_counts = dict(zip(label_list, np.full(2**used_qubits,0.0))) #, dtype=int)))\n",
    "tot_results_sim_dic = {}\n",
    "ideal_dic = {}\n",
    "for i_state in range(nb_states):\n",
    "    counts_simul = copy.deepcopy(void_counts)\n",
    "    counts_simul.update(tot_results_simul.get_counts(i_state))\n",
    "    ideal_dic[str(i_state)]=counts_simul"
   ]
  },
  {
   "cell_type": "markdown",
   "metadata": {},
   "source": [
    "Example of circuit for separable state of the first type : $|W\\rangle\\otimes|\\Psi^+\\rangle$"
   ]
  },
  {
   "cell_type": "code",
   "execution_count": 20,
   "metadata": {},
   "outputs": [
    {
     "name": "stdout",
     "output_type": "stream",
     "text": [
      "Ide circuit # 5\n"
     ]
    },
    {
     "data": {
      "image/png": "[encoded data removed]",
      "text/plain": [
       "<Figure size 929.397x385.28 with 1 Axes>"
      ]
     },
     "execution_count": 20,
     "metadata": {},
     "output_type": "execute_result"
    }
   ],
   "source": [
    "i_state_test = 5\n",
    "print(device_name, \"circuit #\",i_state_test)\n",
    "circ_ideal[i_state_test].draw(output='mpl')"
   ]
  },
  {
   "cell_type": "code",
   "execution_count": 21,
   "metadata": {
    "scrolled": false
   },
   "outputs": [
    {
     "name": "stdout",
     "output_type": "stream",
     "text": [
      "Ide circuit # 5\n"
     ]
    },
    {
     "data": {
      "image/png": "[encoded data removed]",
      "text/plain": [
       "<Figure size 720x360 with 1 Axes>"
      ]
     },
     "execution_count": 21,
     "metadata": {},
     "output_type": "execute_result"
    }
   ],
   "source": [
    "print(device_name, \"circuit #\",i_state_test)\n",
    "plot_histogram(ideal_dic[str(i_state_test)],\n",
    "               legend=['noise free simulation'],\n",
    "               color = \"b\", figsize=(10.,5.))"
   ]
  },
  {
   "cell_type": "markdown",
   "metadata": {},
   "source": [
    "Example of circuit for separable state of the second type : $|W\\rangle^{\\otimes X}\\otimes|\\Phi^+\\rangle$"
   ]
  },
  {
   "cell_type": "code",
   "execution_count": 22,
   "metadata": {},
   "outputs": [
    {
     "name": "stdout",
     "output_type": "stream",
     "text": [
      "Ide circuit # 15\n"
     ]
    },
    {
     "data": {
      "image/png": "[encoded data removed]",
      "text/plain": [
       "<Figure size 989.597x385.28 with 1 Axes>"
      ]
     },
     "execution_count": 22,
     "metadata": {},
     "output_type": "execute_result"
    }
   ],
   "source": [
    "i_state_test = 15\n",
    "print(device_name, \"circuit #\",i_state_test)\n",
    "circ_ideal[i_state_test].draw(output='mpl')"
   ]
  },
  {
   "cell_type": "code",
   "execution_count": 23,
   "metadata": {
    "scrolled": false
   },
   "outputs": [
    {
     "name": "stdout",
     "output_type": "stream",
     "text": [
      "Ide circuit # 15\n"
     ]
    },
    {
     "data": {
      "image/png": "[encoded data removed]",
      "text/plain": [
       "<Figure size 720x360 with 1 Axes>"
      ]
     },
     "execution_count": 23,
     "metadata": {},
     "output_type": "execute_result"
    }
   ],
   "source": [
    "print(device_name, \"circuit #\",i_state_test)\n",
    "plot_histogram(ideal_dic[str(i_state_test)],\n",
    "               legend=['noise free simulation'],\n",
    "               color = \"b\", figsize=(10.,5.))"
   ]
  },
  {
   "cell_type": "markdown",
   "metadata": {},
   "source": [
    "### Obtain the matrix of probability distribution of shape(nb_state,nb_labels) used by the classifier"
   ]
  },
  {
   "cell_type": "code",
   "execution_count": 24,
   "metadata": {},
   "outputs": [],
   "source": [
    "def print_first_and_last_row(PDM):\n",
    "    print(\"first and last rows of the probability distribution matrix of dimension \"+str(nb_states)+\"x\"+str(nb_labels))\n",
    "    print(np.round(PDM[0:1,:],4))\n",
    "    print(\"   ...\")\n",
    "    print(np.round(PDM[-1:,:],4))"
   ]
  },
  {
   "cell_type": "code",
   "execution_count": 25,
   "metadata": {},
   "outputs": [
    {
     "name": "stdout",
     "output_type": "stream",
     "text": [
      "first and last rows of the probability distribution matrix of dimension 20x32\n",
      "[[0.     0.     0.     0.     0.     0.     0.     0.     0.     0.1667\n",
      "  0.1667 0.     0.1667 0.     0.     0.     0.     0.1667 0.1667 0.\n",
      "  0.1667 0.     0.     0.     0.     0.     0.     0.     0.     0.\n",
      "  0.     0.    ]]\n",
      "   ...\n",
      "[[0.     0.     0.     0.     0.     0.     0.     0.     0.     0.\n",
      "  0.     0.     0.1667 0.     0.     0.1667 0.     0.     0.     0.\n",
      "  0.1667 0.     0.     0.1667 0.1667 0.     0.     0.1667 0.     0.\n",
      "  0.     0.    ]]\n"
     ]
    }
   ],
   "source": [
    "PD_ideal =  np.ndarray((nb_states,nb_labels))\n",
    "for i_state in range(nb_states):\n",
    "    PD_ideal[i_state, :] = list(ideal_dic[str(i_state)].values())\n",
    "# now a little trick to get the ideal values from the simulator approximated values\n",
    "with np.errstate(divide='ignore'): # ignore the divide by zero warning\n",
    "    PD_ideal = 1/np.round(s_sim/(PD_ideal))\n",
    "# have a look at the matrix head and tail:\n",
    "print_first_and_last_row(PD_ideal)"
   ]
  },
  {
   "cell_type": "markdown",
   "metadata": {},
   "source": [
    "# Real device section"
   ]
  },
  {
   "cell_type": "code",
   "execution_count": 26,
   "metadata": {},
   "outputs": [],
   "source": [
    "from qiskit import IBMQ"
   ]
  },
  {
   "cell_type": "code",
   "execution_count": 27,
   "metadata": {},
   "outputs": [
    {
     "data": {
      "text/plain": [
       "<AccountProvider for IBMQ(hub='ibm-q', group='open', project='main')>"
      ]
     },
     "execution_count": 27,
     "metadata": {},
     "output_type": "execute_result"
    }
   ],
   "source": [
    "IBMQ.load_account()"
   ]
  },
  {
   "cell_type": "code",
   "execution_count": 28,
   "metadata": {},
   "outputs": [],
   "source": [
    "provider = IBMQ.get_provider(hub='ibm-q')"
   ]
  },
  {
   "cell_type": "code",
   "execution_count": 29,
   "metadata": {},
   "outputs": [
    {
     "name": "stdout",
     "output_type": "stream",
     "text": [
      "[<IBMQSimulator('ibmq_qasm_simulator') from IBMQ(hub='ibm-q', group='open', project='main')>, <IBMQBackend('ibmqx2') from IBMQ(hub='ibm-q', group='open', project='main')>, <IBMQBackend('ibmq_16_melbourne') from IBMQ(hub='ibm-q', group='open', project='main')>, <IBMQBackend('ibmq_armonk') from IBMQ(hub='ibm-q', group='open', project='main')>, <IBMQBackend('ibmq_athens') from IBMQ(hub='ibm-q', group='open', project='main')>, <IBMQBackend('ibmq_santiago') from IBMQ(hub='ibm-q', group='open', project='main')>, <IBMQBackend('ibmq_lima') from IBMQ(hub='ibm-q', group='open', project='main')>, <IBMQBackend('ibmq_belem') from IBMQ(hub='ibm-q', group='open', project='main')>, <IBMQBackend('ibmq_quito') from IBMQ(hub='ibm-q', group='open', project='main')>, <IBMQSimulator('simulator_statevector') from IBMQ(hub='ibm-q', group='open', project='main')>, <IBMQSimulator('simulator_mps') from IBMQ(hub='ibm-q', group='open', project='main')>, <IBMQSimulator('simulator_extended_stabilizer') from IBMQ(hub='ibm-q', group='open', project='main')>, <IBMQSimulator('simulator_stabilizer') from IBMQ(hub='ibm-q', group='open', project='main')>, <IBMQBackend('ibmq_manila') from IBMQ(hub='ibm-q', group='open', project='main')>]\n"
     ]
    }
   ],
   "source": [
    "print(provider.backends())"
   ]
  },
  {
   "cell_type": "code",
   "execution_count": 30,
   "metadata": {},
   "outputs": [
    {
     "name": "stdout",
     "output_type": "stream",
     "text": [
      "AL2_San\n"
     ]
    }
   ],
   "source": [
    "project_device = 'ibmq_santiago'# you may choice here a different backend\n",
    "device_name = dev_dic[project_device]\n",
    "mitig_name = program_name + \"_\" + device_name\n",
    "print(mitig_name)"
   ]
  },
  {
   "cell_type": "code",
   "execution_count": 31,
   "metadata": {},
   "outputs": [],
   "source": [
    "# determine here the backend\n",
    "device = provider.get_backend(project_device) # the backend names are listed here above\n",
    "properties = device.properties()\n",
    "coupling_map = device.configuration().coupling_map"
   ]
  },
  {
   "cell_type": "markdown",
   "metadata": {},
   "source": [
    "### Load circuits run on real device\n",
    " "
   ]
  },
  {
   "cell_type": "code",
   "execution_count": 32,
   "metadata": {},
   "outputs": [
    {
     "name": "stdout",
     "output_type": "stream",
     "text": [
      "AL2_San_M256\n"
     ]
    }
   ],
   "source": [
    "id_gates = 256 # choice of 0 or 256 at this time\n",
    "str_nb_id = str(id_gates)\n",
    "zfilled = str_nb_id.zfill(4-len(str_nb_id))\n",
    "project_name = mitig_name + \"_\" + unique_char + zfilled\n",
    "print(project_name)"
   ]
  },
  {
   "cell_type": "code",
   "execution_count": 33,
   "metadata": {},
   "outputs": [],
   "source": [
    "circuit_dic = json_dic_loader(\"circuit_\"+ project_name)"
   ]
  },
  {
   "cell_type": "code",
   "execution_count": 34,
   "metadata": {},
   "outputs": [],
   "source": [
    "real_circs = []\n",
    "for i_state in list(range(nb_states)): \n",
    "    real_circs.append(QuantumCircuit().from_qasm_str(circuit_dic[str(i_state)]))  "
   ]
  },
  {
   "cell_type": "code",
   "execution_count": 35,
   "metadata": {},
   "outputs": [
    {
     "name": "stdout",
     "output_type": "stream",
     "text": [
      "ibmq_santiago circuit # 11 circuit depth: 309\n",
      "gates =  OrderedDict([('id', 1280), ('rz', 36), ('sx', 33), ('cx', 10), ('measure', 5), ('x', 4), ('u1', 3), ('barrier', 2)])\n"
     ]
    }
   ],
   "source": [
    "i_state_test = 11\n",
    "print(project_device, \"circuit #\",i_state_test,\n",
    "      \"circuit depth:\",real_circs[i_state_test].depth())\n",
    "print('gates = ',real_circs[i_state_test].count_ops())"
   ]
  },
  {
   "cell_type": "code",
   "execution_count": 36,
   "metadata": {},
   "outputs": [
    {
     "name": "stdout",
     "output_type": "stream",
     "text": [
      "skipped\n"
     ]
    }
   ],
   "source": [
    "if id_gates <= 16:\n",
    "# you may want to skip this if large nb of id gates before measurement\n",
    "    real_circs[i_state_test].draw(output='mpl')\n",
    "else:\n",
    "    print(\"skipped\")"
   ]
  },
  {
   "cell_type": "markdown",
   "metadata": {},
   "source": [
    "## Histogram on simulator"
   ]
  },
  {
   "cell_type": "code",
   "execution_count": 37,
   "metadata": {},
   "outputs": [
    {
     "name": "stdout",
     "output_type": "stream",
     "text": [
      "ibmq_santiago circuit # 11 on noise free simulator\n"
     ]
    },
    {
     "data": {
      "image/png": "[encoded data removed]",
      "text/plain": [
       "<Figure size 720x360 with 1 Axes>"
      ]
     },
     "execution_count": 37,
     "metadata": {},
     "output_type": "execute_result"
    }
   ],
   "source": [
    "job_simul = execute(real_circs[i_state_test], backend=simulator, shots=s_sim)\n",
    "print(project_device, \"circuit #\",i_state_test, \"on noise free simulator\")\n",
    "simul_results = job_simul.result().get_counts()\n",
    "plot_histogram(simul_results,\n",
    "               legend=['noise free simulation'],\n",
    "               color = \"b\", figsize=(10.,5.))"
   ]
  },
  {
   "cell_type": "markdown",
   "metadata": {},
   "source": [
    "# Results on real device"
   ]
  },
  {
   "cell_type": "markdown",
   "metadata": {},
   "source": [
    "### Obtain mitigation filter"
   ]
  },
  {
   "cell_type": "code",
   "execution_count": 38,
   "metadata": {},
   "outputs": [],
   "source": [
    "# retrieve the corresponding measurement mitigation filter obtained at experimental time\n",
    "# use a fake job because the calibration results were stored as dictionary\n",
    "simulator = Aer.get_backend('qasm_simulator')\n",
    "fake_job_cal = execute(meas_calibs, backend=simulator, shots=1)\n",
    "fake_cal_results = fake_job_cal.result()\n",
    "cal_results_dic = json_dic_loader(\"cal_results_dic_\"+mitig_name)"
   ]
  },
  {
   "cell_type": "code",
   "execution_count": 39,
   "metadata": {},
   "outputs": [],
   "source": [
    "if 'date' in cal_results_dic.keys():\n",
    "    str(cal_results_dic['date'])"
   ]
  },
  {
   "cell_type": "code",
   "execution_count": 40,
   "metadata": {},
   "outputs": [],
   "source": [
    "cal_results = fake_cal_results.from_dict(cal_results_dic)"
   ]
  },
  {
   "cell_type": "code",
   "execution_count": 41,
   "metadata": {},
   "outputs": [
    {
     "name": "stdout",
     "output_type": "stream",
     "text": [
      "Average Measurement Fidelity was: 0.900024 for ibmq_santiago\n"
     ]
    }
   ],
   "source": [
    "meas_fitter = CompleteMeasFitter(cal_results, label_list, qubit_list=qubit_list, circlabel='mcal')\n",
    "meas_filter = meas_fitter.filter\n",
    "# have a look at the average measurement fidefily of this device:\n",
    "print(\"Average Measurement Fidelity was: %f\" % meas_fitter.readout_fidelity(), \"for\",project_device)"
   ]
  },
  {
   "cell_type": "markdown",
   "metadata": {},
   "source": [
    "### Obtain the matrix of probability distribution of shape(nb_state,nb_labels) used by the classifier"
   ]
  },
  {
   "cell_type": "code",
   "execution_count": 42,
   "metadata": {},
   "outputs": [],
   "source": [
    "empirical_dic = json_dic_loader('experimental_'+project_name)\n",
    "test_dic = json_dic_loader('test_'+project_name) "
   ]
  },
  {
   "cell_type": "code",
   "execution_count": 43,
   "metadata": {},
   "outputs": [],
   "source": [
    "def rectify_counts(tot_res, test_cqi,mitigation,m_filter) :       \n",
    "        \n",
    "        void_counts = dict(zip(label_list, np.zeros(2**used_qubits)))\n",
    "        try:\n",
    "            counts_results_real_test = tot_res[test_cqi]\n",
    "        except KeyError as error:            \n",
    "            counts_results_real_test = tot_res[str(test_cqi)]\n",
    "\n",
    "        raw_counts_test = copy.deepcopy(void_counts)\n",
    "        raw_counts_test.update(counts_results_real_test)\n",
    "\n",
    "        if mitigation:\n",
    "            mitigated_results_test = meas_filter.apply(raw_counts_test, method = 'least_squares')\n",
    "            returned_counts = copy.deepcopy(void_counts)\n",
    "            returned_counts.update(mitigated_results_test)\n",
    "                        \n",
    "        else:\n",
    "            returned_counts = copy.deepcopy(raw_counts_test)\n",
    "            \n",
    "        return returned_counts"
   ]
  },
  {
   "cell_type": "code",
   "execution_count": 44,
   "metadata": {},
   "outputs": [],
   "source": [
    "def get_clean_matrix(dic, mitigation,m_filter):\n",
    "    clean_matrix =  np.ndarray((nb_states,nb_labels)) \n",
    "    for i_state in range(nb_states):\n",
    "        rectified_counts = rectify_counts(dic,i_state, mitigation,m_filter) # get a rectified counts dictionary       \n",
    "        clean_matrix[i_state, :] = list(rectified_counts.values())\n",
    "    clean_matrix = clean_matrix/clean_matrix.sum(axis=1, keepdims=True)\n",
    "    return clean_matrix\n",
    "\n",
    "def obtain_pooled_PDM(mitigation):\n",
    "    PD_exper = get_clean_matrix(empirical_dic, mitigation=mitigation,\n",
    "                                m_filter=meas_filter)\n",
    "    PD_test = get_clean_matrix(test_dic, mitigation=mitigation,\n",
    "                                m_filter=meas_filter)\n",
    "    return PD_exper, PD_test, PD_exper + PD_test"
   ]
  },
  {
   "cell_type": "code",
   "execution_count": 45,
   "metadata": {},
   "outputs": [],
   "source": [
    "PD_exper, PD_test, PD_sum = obtain_pooled_PDM(mitigation=False)\n",
    "PD_experm, PD_testm, PD_summ = obtain_pooled_PDM(mitigation=True)\n",
    "PD_tot = PD_sum/2\n",
    "PD_totm = PD_summ/2"
   ]
  },
  {
   "cell_type": "code",
   "execution_count": 46,
   "metadata": {},
   "outputs": [],
   "source": [
    "# adapted from https://stackoverflow.com/questions/40887753/display-matrix-values-and-colormap:\n",
    "def color_matrix(matrix, multiplier=1000, show_values = True, figsize=(10.,10.), cmap = \"Purples\"):\n",
    "    fig, ax = plt.subplots(figsize=figsize)\n",
    "    #figsize=(20.,20.)\n",
    "    min_val, max_val =  np.min(matrix), np.max(matrix)\n",
    "    ax.matshow(matrix, cmap=cmap)\n",
    "    if show_values:\n",
    "        for i in range(matrix.shape[1]):\n",
    "            for j in range(matrix.shape[0]):\n",
    "                c = round(multiplier*matrix[j,i])\n",
    "                ax.text(i, j, str(c), va='center', ha='center')    "
   ]
  },
  {
   "cell_type": "code",
   "execution_count": 47,
   "metadata": {},
   "outputs": [
    {
     "data": {
      "image/png": "[encoded data removed]",
      "text/plain": [
       "<Figure size 432x432 with 1 Axes>"
      ]
     },
     "metadata": {
      "needs_background": "light"
     },
     "output_type": "display_data"
    }
   ],
   "source": [
    "color_matrix(PD_exper, show_values = False, multiplier=100,  figsize=(6.,6.))"
   ]
  },
  {
   "cell_type": "code",
   "execution_count": 48,
   "metadata": {},
   "outputs": [
    {
     "data": {
      "image/png": "[encoded data removed]",
      "text/plain": [
       "<Figure size 432x432 with 1 Axes>"
      ]
     },
     "metadata": {
      "needs_background": "light"
     },
     "output_type": "display_data"
    }
   ],
   "source": [
    "color_matrix(PD_ideal, show_values = False, multiplier=100,  figsize=(6.,6.))"
   ]
  },
  {
   "cell_type": "code",
   "execution_count": 49,
   "metadata": {},
   "outputs": [
    {
     "name": "stdout",
     "output_type": "stream",
     "text": [
      "ibmq_santiago circuit # 11 circuit depth: 309\n",
      "gates =  OrderedDict([('id', 1280), ('rz', 36), ('sx', 33), ('cx', 10), ('measure', 5), ('x', 4), ('u1', 3), ('barrier', 2)])\n"
     ]
    },
    {
     "data": {
      "image/png": "[encoded data removed]",
      "text/plain": [
       "<Figure size 720x360 with 1 Axes>"
      ]
     },
     "execution_count": 49,
     "metadata": {},
     "output_type": "execute_result"
    }
   ],
   "source": [
    "i_state_test = 11 # choose here the circuit\n",
    "print(project_device, \"circuit #\",i_state_test,\n",
    "      \"circuit depth:\",real_circs[i_state_test].depth())\n",
    "print('gates = ',real_circs[i_state_test].count_ops())\n",
    "\n",
    "ideal_results = dict(zip(label_list,PD_ideal[i_state_test]))\n",
    "real_results = dict(zip(label_list,PD_tot[i_state_test]))\n",
    "mit_results = dict(zip(label_list,PD_totm[i_state_test]))\n",
    "\n",
    "plot_histogram([ideal_results, real_results, mit_results],\n",
    "               legend=['ideal device','real results on\\n '+ project_device, 'after measurement\\n errror mitigation'],\n",
    "               color =[\"b\",\"r\",\"g\"],\n",
    "               bar_labels=False,\n",
    "               figsize=(10.,5.))"
   ]
  },
  {
   "cell_type": "code",
   "execution_count": 50,
   "metadata": {},
   "outputs": [],
   "source": [
    "# Matrix of distances between distributions\n",
    "# Numbers in squares are \"distances expressed per thousand\", thus from 0 to 1000\n",
    "\n",
    "Y_dist_tot = cdist(PD_tot,PD_ideal, metric='sqeuclidean') \n",
    "# !cdist(1st matrix -> Y rows, 2d matrix -> Y columns)  "
   ]
  },
  {
   "cell_type": "code",
   "execution_count": 51,
   "metadata": {},
   "outputs": [
    {
     "data": {
      "image/png": "[encoded data removed]",
      "text/plain": [
       "<Figure size 288x288 with 1 Axes>"
      ]
     },
     "metadata": {
      "needs_background": "light"
     },
     "output_type": "display_data"
    }
   ],
   "source": [
    "color_matrix(Y_dist_tot, cmap = \"Oranges\", show_values = False,  figsize=(4.,4))"
   ]
  },
  {
   "cell_type": "markdown",
   "metadata": {},
   "source": [
    "# Transmission protocol\n",
    "\n",
    "In this toy example, the ballots of 10 voters are transmitted from Alice's vote station to Bob through a 5-qubit quantum channel.\n",
    "\n",
    "- Each voter possesses a secret key consisting of one of the possible combinations of three out of five qubits.\n",
    "\n",
    "- For \"Yes\", the voter creates as valid state the corresponding $W\\otimes\\Psi^+$ state and for \"No\" the corresponding $\\bar{W}\\otimes\\Phi^+$ state. This state is stored on quantum RAM.\n",
    "\n",
    "- For check, the voter creates the discarded state, which is also stored on RAM.\n",
    "\n",
    "- When all votes are obtained, the pairs of valid and discarded states are shuffled to preserve confidenciality.\n",
    "\n",
    "- The sets of valid and discarded states are sent separately to Bob, who measures them.\n",
    "\n",
    "- Bob checks if all voter keys are different within and over the sets and if the second set is the mirror of first.\n",
    " one.\n",
    " \n",
    "- From these checks, Bob proclaims the result of the vote or reports irregularities."
   ]
  },
  {
   "cell_type": "code",
   "execution_count": 52,
   "metadata": {},
   "outputs": [],
   "source": [
    "# safe shot number:\n",
    "if id_gates == 0:\n",
    "# for the case: mitigation, empirical model, no time delay, squared euclidean distance\n",
    "    copies_dic =  {'ibmq_santiago': 27,'ibmq_athens': 32, 'ibmq_valencia': 25,\n",
    "                   'ibmq_vigo': 25,'ibmq_ourense': 30, \"ibmqx2\": 209,'ibmq_quito': 35,\n",
    "                   'ibmq_lima':29,'ibmq_belem':25,'ideal_device': 16}\n",
    "elif id_gates == 256:\n",
    "# for the case: mitigation, empirical model, 256 id gates time delay, squared euclidean distance\n",
    "    copies_dic =  {'ibmq_santiago': 46,'ibmq_athens': 45, 'ibmq_valencia': 32,\n",
    "                   'ibmq_vigo': 37,'ibmq_ourense': 35, \"ibmqx2\": 253,'ibmq_quito': 74,\n",
    "                   'ibmq_lima':61,'ibmq_belem':44,'ideal_device': 16}"
   ]
  },
  {
   "cell_type": "code",
   "execution_count": 53,
   "metadata": {},
   "outputs": [],
   "source": [
    "def get_circ_results(circs_list, option, retrieve_job):\n",
    "    c_list = []\n",
    "    result_list=[]    \n",
    "    count_list=[]\n",
    "    \n",
    "    if option != \"draw\":\n",
    "        if option == \"run\":\n",
    "            dict_counts = dict(zip(label_list, np.full(2**used_qubits,0.0)))\n",
    "            circ_job=[]\n",
    "            for i_state in circs_list:\n",
    "                circ_job.append(real_circs[i_state])\n",
    "            time_exp = time.strftime('%d_%m_%Y_%H_%M_%S')\n",
    "            print(\"DMY: \",time_exp) \n",
    "            job_real = execute(circ_job,\n",
    "                               backend = device,\n",
    "                               optimization_level=0,\n",
    "                               shots=copies_dic[project_device])\n",
    "            job_real_id = job_real.job_id()\n",
    "            print(\"job id:\", job_real_id)\n",
    "            job_monitor(job_real)\n",
    "            time_exp = time.strftime('%d_%m_%Y_%H_%M_%S')\n",
    "            print(\"DMY: \",time_exp, \"job id:\", job_real_id)\n",
    "        \n",
    "        elif option == \"retrieve\":    \n",
    "            job_real = device.retrieve_job(retrieve_job)\n",
    "                \n",
    "        tot_results_real = job_real.result().get_counts()\n",
    "        \n",
    "        for cqi in range(len(circs_list)):\n",
    "            counts = rectify_counts(tot_results_real,\n",
    "                                cqi, mitigation=True, \n",
    "                                m_filter = meas_filter)\n",
    "            result = list(counts.values())\n",
    "            count_list.append(counts)\n",
    "            result_list.append(result)          \n",
    "            \n",
    "    elif option == \"draw\":        \n",
    "        \n",
    "        for i_state in circs_list:\n",
    "            result = (ora.obtain_rnd_samples(copies_dic[project_device],\n",
    "                                             PD_totm[i_state].reshape(1,len(label_list))))\n",
    "            counts = dict(zip(label_list, result.tolist()[0]))\n",
    "            count_list.append(counts)\n",
    "            result_list.append(result)\n",
    "        \n",
    "    for i in range(len(circs_list)):        \n",
    "        sample = np.array(result_list[i]).reshape(1,len(label_list)) # cdist requires 2D arrays      \n",
    "        Y_dist = cdist(PD_totm,sample,metric='sqeuclidean')        \n",
    "        c_list.append(np.argmin(Y_dist))\n",
    "   \n",
    "    return np.array(c_list), count_list"
   ]
  },
  {
   "cell_type": "markdown",
   "metadata": {},
   "source": [
    "Three option are offered:\n",
    "    \n",
    "    - draw: no experimental data but probability distribution vectors drawn from the best PDM estimate\n",
    "    - retrieve : data for a real-device experiment \n",
    "    - run : your own experiment, requires knowing the corresponding safe shot number \n"
   ]
  },
  {
   "cell_type": "code",
   "execution_count": 54,
   "metadata": {},
   "outputs": [
    {
     "name": "stdout",
     "output_type": "stream",
     "text": [
      "[18, 1, 2, 13, 14, 19, 10, 7, 5, 16] [8, 11, 12, 3, 4, 9, 0, 17, 15, 6]\n",
      "YES: 4   NO: 6\n"
     ]
    }
   ],
   "source": [
    "# choose option among \"draw\", \"retrieve\" or \"run\")\n",
    "\n",
    "option = \"retrieve\" # this for demo, use 'draw' if you don't have access to the provider\n",
    "\n",
    "ballots_job = None\n",
    "discard_job = None\n",
    "if option == \"retrieve\":\n",
    "# if other jobs to retrieve, add it here:\n",
    "    if project_device == 'ibmq_santiago' and id_gates == 0:\n",
    "        ballots_job = \"601431a1009c57184251fd75\" \n",
    "        discard_job = \"6014468a33e5610c14ba32f3\" \n",
    "        votes = [1, 0, 0, 0, 0, 0, 1, 1, 1, 1]\n",
    "        ballots = [ 0, 11, 12, 13, 14, 15,  6,  7,  8,  9]\n",
    "        discard = [10,  1,  2,  3,  4,  5, 16, 17, 18, 19]\n",
    "        \n",
    "    elif project_device == 'ibmq_santiago' and id_gates == 256:\n",
    "        ballots_job = \"6016ab0e31750877f41b8065\" \n",
    "        discard_job = \"6016b05d2e48d200fa8313b4\" \n",
    "        votes = [0, 1, 1, 0, 0, 0, 0, 1, 1, 0]\n",
    "        ballots = [18,  1,  2, 13, 14, 19, 10,  7,  5, 16,]\n",
    "        discard = [ 8, 11, 12,  3,  4,  9,  0, 17, 15,  6]\n",
    "    \n",
    "    elif project_device == 'ibmq_athens' and id_gates == 0:\n",
    "        ballots_job = \"60151b8ae22886f085850545\" \n",
    "        discard_job = \"60152b0b691ba121c061a7a8\" \n",
    "        votes = [1, 1, 1, 1, 0, 1, 0, 0, 0, 1]\n",
    "        ballots = [ 0, 1, 2, 3, 14, 5,  16,  17,  18,  9]\n",
    "        discard = [10,  11,  12,  13,  4,  15, 6, 7, 8, 19]\n",
    "        \n",
    "    elif project_device == 'ibmq_athens' and id_gates == 256:\n",
    "        ballots_job = \"6015e1053757e808bad4827d\" \n",
    "        discard_job = \"6015f630834cac24de76f193\" \n",
    "        votes = [1, 0, 1, 1, 1, 0, 1, 0, 1, 1]\n",
    "        ballots = [ 4, 15,  8,  9,  7, 12,  0, 16,  3,  1]\n",
    "        discard = [14,  5, 18, 19, 17,  2, 10,  6, 13, 11]\n",
    "    \n",
    "    elif project_device == 'ibmqx2' and id_gates == 0:    \n",
    "        ballots_job = \"6015a2d02e48d2c379830956\" \n",
    "        discard_job = \"6015a4b23b717dc22fa6f5de\" \n",
    "        votes = [1, 1, 1, 1, 0, 1, 1, 0, 0, 1]\n",
    "        ballots = [ 0, 1, 2, 3, 14, 5,  6,  17,  18,  9]\n",
    "        discard = [10,  11,  12,  13,  4,  15, 16, 7, 8, 19]\n",
    "    \n",
    "    else:\n",
    "        print(\"no data for these jobs\")\n",
    "else:\n",
    "    rng = np.random.default_rng()\n",
    "    votes = rng.integers(0,2,10)\n",
    "    \n",
    "    discard = np.array(range(0,10)) + votes*10\n",
    "    rng.shuffle(discard)\n",
    "    ballots = (discard - 10) %20\n",
    "print(ballots, discard)\n",
    "print(\"YES:\", int(sum(votes)), \"  NO:\", 10 - int(sum(votes)))"
   ]
  },
  {
   "cell_type": "code",
   "execution_count": 55,
   "metadata": {},
   "outputs": [],
   "source": [
    "# from state creation to measurement\n",
    "t_ballots, c_ballots = get_circ_results(ballots, option, retrieve_job = ballots_job)\n",
    "t_discard, c_discard = get_circ_results(discard, option, retrieve_job = discard_job)"
   ]
  },
  {
   "cell_type": "markdown",
   "metadata": {},
   "source": [
    "In the example presented in this notebook (santiago 256 id gates, option = retrieve) , there was a transmission error in the ballot set, but not in the discard set. \n",
    "\n",
    "Bob detects the error and uses the alternate set, most probably error free.  "
   ]
  },
  {
   "cell_type": "code",
   "execution_count": 56,
   "metadata": {
    "scrolled": true
   },
   "outputs": [
    {
     "name": "stdout",
     "output_type": "stream",
     "text": [
      "ibmq_santiago - id gates: 256 - shots: 46 - option: retrieve\n",
      "check all: False - check equivalence: False - check ballots: False - check discard: True\n",
      "[18  1  2 13 14 19 10  7  0 16] [ 8 11 12  3  4  9  0 17 15  6]\n",
      "YES: 4  NO: 6\n"
     ]
    }
   ],
   "source": [
    "# check obtained circuit lists\n",
    "t_total=np.hstack((t_ballots,t_discard))\n",
    "flag_total = len(t_total) == len(set(t_total))\n",
    "flag_ballots = len(t_ballots) == len(set(t_ballots%len(t_ballots)))\n",
    "flag_discard = len(t_discard) == len(set(t_discard%len(t_discard)))\n",
    "flag_equiv = np.array_equiv(t_discard, (t_ballots - 10)%20)\n",
    "print(device, \"- id gates:\", id_gates,\n",
    "      \"- shots:\", copies_dic[project_device], \"- option:\", option)\n",
    "print(\"check all:\", flag_total, \"- check equivalence:\", flag_equiv,\n",
    "      \"- check ballots:\", flag_ballots, \"- check discard:\",flag_discard)\n",
    "print(t_ballots, t_discard)\n",
    "\n",
    "# report from the apparently correct set \n",
    "if (flag_ballots and not flag_equiv) or (flag_equiv and flag_total and flag_ballots and flag_discard):\n",
    "    no = int((sum(t_ballots) - sum(range(0,10)))/10)\n",
    "    yes = len(t_ballots) - no\n",
    "    \n",
    "elif flag_discard and not flag_equiv: \n",
    "    yes = int((sum(t_discard) - sum(range(0,10)))/10)\n",
    "    no = len(t_discard) - yes\n",
    "\n",
    "if flag_ballots or flag_discard:\n",
    "    print(\"YES:\", yes, \" NO:\", no)          \n",
    "else:\n",
    "    print(\"error(s) in ballot transmission\")"
   ]
  },
  {
   "cell_type": "markdown",
   "metadata": {},
   "source": [
    "Have a closer look at the error in the notebook example:"
   ]
  },
  {
   "cell_type": "code",
   "execution_count": 57,
   "metadata": {},
   "outputs": [
    {
     "data": {
      "image/png": "[encoded data removed]",
      "text/plain": [
       "<Figure size 720x360 with 1 Axes>"
      ]
     },
     "execution_count": 57,
     "metadata": {},
     "output_type": "execute_result"
    }
   ],
   "source": [
    "# look at some transmitted state and its supposed \"W-mirrored\"\n",
    "v_nb = 8 # in range(0,10), original votes shuffled for confidentiality\n",
    "plot_histogram([c_ballots[v_nb], c_discard[v_nb]],\n",
    "               legend=['ballot circuit '+str(t_ballots[v_nb]),\n",
    "                       'discarded circuit '+str(t_discard[v_nb])],\n",
    "               color =[\"cyan\",\"orange\"],\n",
    "               bar_labels=False,\n",
    "               figsize=(10.,5.))"
   ]
  },
  {
   "cell_type": "code",
   "execution_count": 58,
   "metadata": {},
   "outputs": [
    {
     "data": {
      "text/html": [
       "<h3>Version Information</h3><table><tr><th>Qiskit Software</th><th>Version</th></tr><tr><td>Qiskit</td><td>0.25.2</td></tr><tr><td>Terra</td><td>0.17.1</td></tr><tr><td>Aer</td><td>0.8.1</td></tr><tr><td>Ignis</td><td>0.6.0</td></tr><tr><td>Aqua</td><td>0.9.1</td></tr><tr><td>IBM Q Provider</td><td>0.12.3</td></tr><tr><th>System information</th></tr><tr><td>Python</td><td>3.8.3 (default, May 19 2020, 06:50:17) [MSC v.1916 64 bit (AMD64)]</td></tr><tr><td>OS</td><td>Windows</td></tr><tr><td>CPUs</td><td>4</td></tr><tr><td>Memory (Gb)</td><td>7.878513336181641</td></tr><tr><td colspan='2'>Sun Jun 06 22:48:34 2021 Paris, Madrid (heure d’été)</td></tr></table>"
      ],
      "text/plain": [
       "<IPython.core.display.HTML object>"
      ]
     },
     "metadata": {},
     "output_type": "display_data"
    }
   ],
   "source": [
    "import qiskit.tools.jupyter\n",
    "%qiskit_version_table"
   ]
  }
 ],
 "metadata": {
  "kernelspec": {
   "display_name": "Python 3",
   "language": "python",
   "name": "python3"
  },
  "language_info": {
   "codemirror_mode": {
    "name": "ipython",
    "version": 3
   },
   "file_extension": ".py",
   "mimetype": "text/x-python",
   "name": "python",
   "nbconvert_exporter": "python",
   "pygments_lexer": "ipython3",
   "version": "3.8.3"
  },
  "varInspector": {
   "cols": {
    "lenName": 16,
    "lenType": 16,
    "lenVar": 40
   },
   "kernels_config": {
    "python": {
     "delete_cmd_postfix": "",
     "delete_cmd_prefix": "del ",
     "library": "var_list.py",
     "varRefreshCmd": "print(var_dic_list())"
    },
    "r": {
     "delete_cmd_postfix": ") ",
     "delete_cmd_prefix": "rm(",
     "library": "var_list.r",
     "varRefreshCmd": "cat(var_dic_list()) "
    }
   },
   "types_to_exclude": [
    "module",
    "function",
    "builtin_function_or_method",
    "instance",
    "_Feature"
   ],
   "window_display": false
  }
 },
 "nbformat": 4,
 "nbformat_minor": 2
}
