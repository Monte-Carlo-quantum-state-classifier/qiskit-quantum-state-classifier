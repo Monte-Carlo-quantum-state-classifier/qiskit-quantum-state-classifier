{
 "cells": [
  {
   "cell_type": "markdown",
   "metadata": {},
   "source": [
    "# Classification of quantum states with high dimensional entanglement "
   ]
  },
  {
   "cell_type": "markdown",
   "metadata": {},
   "source": [
    "### This version bypasses circuit building, transpile and run"
   ]
  },
  {
   "cell_type": "code",
   "execution_count": 1,
   "metadata": {},
   "outputs": [],
   "source": [
    "import numpy as np\n",
    "import copy\n",
    "from qiskit import QuantumRegister, QuantumCircuit, ClassicalRegister, Aer, execute, transpile, assemble\n",
    "from qiskit.tools.visualization import *\n",
    "from qiskit.ignis.mitigation.measurement import (complete_meas_cal, tensored_meas_cal,\n",
    "                                                 CompleteMeasFitter, TensoredMeasFitter)\n",
    "import json\n",
    "from scipy.signal import savgol_filter\n",
    "import time\n",
    "from qiskit.tools.monitor import job_monitor"
   ]
  },
  {
   "cell_type": "code",
   "execution_count": 2,
   "metadata": {},
   "outputs": [],
   "source": [
    "from o_utils import ora # classifier utilities\n",
    "from o_plot import opl # utilities for result plot\n",
    "from c_utils import new_cut # circuit building utilities"
   ]
  },
  {
   "cell_type": "code",
   "execution_count": 3,
   "metadata": {},
   "outputs": [],
   "source": [
    "def json_dic_loader(dic_name):\n",
    "    f = open(data_directory+dic_name+'.json')\n",
    "    return json.load(f)"
   ]
  },
  {
   "cell_type": "markdown",
   "metadata": {},
   "source": [
    "#markdown for safety on demo\n",
    "def json_dic_dumper(dic, dic_name):\n",
    "    with open(data_directory+dic_name+'.json', 'w') as f:\n",
    "        json.dump(dic,f)   "
   ]
  },
  {
   "cell_type": "code",
   "execution_count": 4,
   "metadata": {},
   "outputs": [],
   "source": [
    "# common code for calling the classifier for ideal device and for real devices\n",
    "def add_single_dic(target_data_list):\n",
    "    start_time = time.time()                \n",
    "           \n",
    "    print(\"started\",time.strftime('%d/%m/%Y %H:%M:%S'),mitig_name,\n",
    "          \"mitigation\",mit_str,o_metric,model_name)\n",
    "    \n",
    "    # added for D,S,M choice. Mainstream : mixed set of 20 states\n",
    "    first = 0\n",
    "    last = nb_states\n",
    "    if unique_char == \"D\":\n",
    "        last = int(nb_states/2)\n",
    "    elif unique_char == \"S\":\n",
    "        first = int(nb_states/2)\n",
    "    \n",
    "    # get the classifier error curve in function of the number of shot and the \"safe shot number\" \n",
    "    error_curve, safe_rate, ernb = ora.provide_error_curve(PD_model=model_dic[model_name][first:last,:],\n",
    "                                                   PD_test=PD_test[first:last,:],\n",
    "                                                   trials=trials,\n",
    "                                                   window=window,\n",
    "                                                   epsilon=epsilon,\n",
    "                                                   max_shots=max_shots,\n",
    "                                                   pol=pol,\n",
    "                                                   verbosality=verbosality)\n",
    "\n",
    "    tail = savgol_filter(ernb, window, pol, axis=0)\n",
    "    len_curve = len(error_curve)\n",
    "    safe_shot_nb = len_curve - int((window-1)/2) # OK\n",
    "    print('safe_shot_nb',safe_shot_nb, 'safe_rate',safe_rate, \"nb trials:\",trials)\n",
    "    err_rates = tail[int((window-1)/2),:]/trials \n",
    "    err_rate_max = np.max(err_rates)\n",
    "    err_rate_min = np.min(err_rates)\n",
    "    r=4\n",
    "    print(\"savgol interpolated error rate mean:\", np.round(np.mean(err_rates),r),\n",
    "          \"min:\", np.round(err_rate_min,r),\n",
    "          \"max:\", np.round(err_rate_max,r), \"for\",\n",
    "          [ien for ien, jen in enumerate(err_rates) if jen == err_rate_max])\n",
    "    end_time = time.time()\n",
    "    \n",
    "    #save the data in a list of dictionaries :\n",
    "    single_dic={\"project\":mitig_name,\n",
    "                \"id_gates\":id_gates,\n",
    "                \"mitigation\":mit_str,\n",
    "                \"model\":model_name,\n",
    "                \"metric\":o_metric, \"device\":project_device,                              \n",
    "                \"curve_length\":len_curve, \n",
    "                \"shots\": safe_shot_nb,\n",
    "                \"shots_rate\": safe_rate,                                                                                    \n",
    "                \"error_curve\":error_curve,\n",
    "                \"trials\":trials,\"window\":window,\n",
    "                \"epsilon\":epsilon,\"SG_pol\": pol,                         \n",
    "                \"computation_time\":end_time-start_time,\n",
    "                \"time_completed\":time.strftime('%d/%m/%Y %H:%M:%S'),\n",
    "                \"trials\":trials,\n",
    "                \"QV\": QV_dic[project_device],\n",
    "                \"fidelity\": fidelity_dic[project_device],\n",
    "                \"error_nb\":ernb}\n",
    "    target_data_list.append(single_dic)\n",
    "    \n",
    "    print(\"completed\",time.strftime('%d/%m/%Y %H:%M:%S'),mitig_name,\n",
    "          \"mitigation\",mit_str,o_metric,model_name,\"\\n\")"
   ]
  },
  {
   "cell_type": "markdown",
   "metadata": {},
   "source": [
    "## Set up the simulator and layout for 5 qubits"
   ]
  },
  {
   "cell_type": "code",
   "execution_count": 5,
   "metadata": {},
   "outputs": [],
   "source": [
    "simulator = Aer.get_backend('qasm_simulator')"
   ]
  },
  {
   "cell_type": "code",
   "execution_count": 6,
   "metadata": {},
   "outputs": [],
   "source": [
    "#specify the layout of the devices\n",
    "used_qubits = 5\n",
    "qubit_list = [0,1,2,3,4]"
   ]
  },
  {
   "cell_type": "code",
   "execution_count": 7,
   "metadata": {},
   "outputs": [],
   "source": [
    "short_version = True\n",
    "#program_name=\"QAD\" # 1st pilot project GHZ Psi+ / W Phi+\n",
    "program_name=\"AL2\" # 2d pilot project W Psi+ / Wbar Phi+\n",
    "Flag_char = \"DS\" # this for a mix of two types of separable states\n",
    "if len(Flag_char) >= 2:\n",
    "    unique_char = \"M\"\n",
    "else:\n",
    "    unique_char = Flag_char"
   ]
  },
  {
   "cell_type": "code",
   "execution_count": 8,
   "metadata": {},
   "outputs": [],
   "source": [
    "# These dictionaries for the devices used in the study\n",
    "if program_name == \"QAD\":\n",
    "    fidelity_dic = {'ibmq_athens': 0.925110, 'ibmq_valencia': 0.809101, 'ibmq_ourense': 0.802380,\n",
    "                \"ibmqx2\": 0.627392, 'ibmq_santiago': 0.919399, 'ibmq_vigo': 0.908840, 'ideal_device': 1.0}\n",
    "    data_directory = \"data_files/\"\n",
    "elif program_name == \"AL2\":\n",
    "    fidelity_dic = {'ibmq_athens': 0.910145, 'ibmq_valencia': 0.794262, 'ibmq_ourense': 0.818974,\n",
    "                \"ibmqx2\": 0.359528, 'ibmq_santiago': 0.900024, 'ibmq_vigo': 0.841831, 'ideal_device': 1.0}\n",
    "    data_directory = \"data2_files/\"\n",
    "QV_dic = {'ibmq_athens': 32.0, 'ibmq_valencia': 16.0, 'ibmq_ourense': 8.0, \n",
    "          \"ibmqx2\": 8.0, 'ibmq_santiago': 32.0, 'ibmq_vigo': 16.0, 'ideal_device': np.inf}\n",
    "dev_dic =  {'ibmq_santiago': \"San\",'ibmq_athens': \"Ath\", 'ibmq_valencia': \"Val\", 'ibmq_vigo': 'Vig','ibmq_ourense': \"Our\",\n",
    "               \"ibmqx2\": 'Yor',  'ideal_device': \"Ide\"}"
   ]
  },
  {
   "cell_type": "code",
   "execution_count": 9,
   "metadata": {},
   "outputs": [],
   "source": [
    "# specify the device: here first the ideal noise-free device\n",
    "project_device = 'ideal_device'\n",
    "device_name = dev_dic[project_device]"
   ]
  },
  {
   "cell_type": "code",
   "execution_count": 10,
   "metadata": {},
   "outputs": [],
   "source": [
    "# specify the nb of id gates between state creation and measurements\n",
    "# zero for the ideal device\n",
    "id_gates = 0\n",
    "str_nb_id = str(id_gates)\n",
    "zfilled = str_nb_id.zfill(4-len(str_nb_id))"
   ]
  },
  {
   "cell_type": "code",
   "execution_count": 11,
   "metadata": {},
   "outputs": [
    {
     "name": "stdout",
     "output_type": "stream",
     "text": [
      "AL2_Ide\n",
      "AL2_Ide_M000\n"
     ]
    }
   ],
   "source": [
    "# tail of the file names for RAM storage\n",
    "mitig_name = program_name + \"_\" + device_name\n",
    "project_name = mitig_name + \"_\" + unique_char + zfilled\n",
    "print(mitig_name)\n",
    "print(project_name)"
   ]
  },
  {
   "cell_type": "code",
   "execution_count": 12,
   "metadata": {},
   "outputs": [
    {
     "name": "stdout",
     "output_type": "stream",
     "text": [
      "32 ['00000', '00001', '00010', '00011', '00100', '00101', '00110', '00111', '01000', '01001', '01010', '01011', '01100', '01101', '01110', '01111', '10000', '10001', '10010', '10011', '10100', '10101', '10110', '10111', '11000', '11001', '11010', '11011', '11100', '11101', '11110', '11111']\n"
     ]
    }
   ],
   "source": [
    "# establish the result label list\n",
    "# meas_calibs will be used for mitigation in the real device section\n",
    "qr = QuantumRegister(used_qubits) \n",
    "meas_calibs, label_list = complete_meas_cal(qubit_list=qubit_list, qr=qr, circlabel='mcal')\n",
    "nb_labels=len(label_list)\n",
    "print(nb_labels,label_list)"
   ]
  },
  {
   "cell_type": "code",
   "execution_count": 13,
   "metadata": {},
   "outputs": [
    {
     "data": {
      "text/plain": [
       "32"
      ]
     },
     "execution_count": 13,
     "metadata": {},
     "output_type": "execute_result"
    }
   ],
   "source": [
    "len(meas_calibs)"
   ]
  },
  {
   "cell_type": "code",
   "execution_count": 14,
   "metadata": {},
   "outputs": [],
   "source": [
    "# permutation list\n",
    "# here it is simple to write down the list, \n",
    "# but a version using itertools will be wellcome for >5 qubits projects\n",
    "if used_qubits == 5:\n",
    "    q_perm = [[0, 1, 2, 3, 4], [0, 1, 3, 2, 4], [0, 1, 4, 2, 3], [0, 2, 3, 1, 4], [0, 2, 4, 1, 3],\n",
    "          [0, 3, 4, 1, 2], [1, 2, 3, 0, 4], [1, 2, 4, 0, 3], [1, 3, 4, 0, 2], [2, 3, 4, 0, 1]]\n",
    "else:\n",
    "    print(\"work in progress - meanwhile please provide the list of permutations\")"
   ]
  },
  {
   "cell_type": "markdown",
   "metadata": {},
   "source": [
    "### Obtain the matrix of probability distribution of shape(nb_state,nb_labels) used by the classifier"
   ]
  },
  {
   "cell_type": "code",
   "execution_count": 15,
   "metadata": {},
   "outputs": [],
   "source": [
    "# try loading the dictionary of results if its creation was skipped\n",
    "if short_version == True:\n",
    "    ideal_dic = json_dic_loader(\"ideal_dic_\"+project_name)"
   ]
  },
  {
   "cell_type": "code",
   "execution_count": 16,
   "metadata": {},
   "outputs": [],
   "source": [
    "nb_states = len(ideal_dic)\n",
    "nb_labels = len(list(ideal_dic.values())[0])\n",
    "s_sim = sum(list(ideal_dic.values())[0].values())"
   ]
  },
  {
   "cell_type": "code",
   "execution_count": 17,
   "metadata": {},
   "outputs": [
    {
     "name": "stdout",
     "output_type": "stream",
     "text": [
      "first and last state probability distributions:\n",
      "[[0.     0.     0.     0.     0.     0.     0.     0.     0.     0.1667\n",
      "  0.1667 0.     0.1667 0.     0.     0.     0.     0.1667 0.1667 0.\n",
      "  0.1667 0.     0.     0.     0.     0.     0.     0.     0.     0.\n",
      "  0.     0.    ]\n",
      " [0.     0.     0.     0.     0.     0.     0.     0.     0.     0.\n",
      "  0.     0.     0.1667 0.     0.     0.1667 0.     0.     0.     0.\n",
      "  0.1667 0.     0.     0.1667 0.1667 0.     0.     0.1667 0.     0.\n",
      "  0.     0.    ]]\n"
     ]
    }
   ],
   "source": [
    "PD_ideal =  np.ndarray((nb_states,nb_labels))\n",
    "for i_state in range(nb_states):\n",
    "    PD_ideal[i_state, :] = list(ideal_dic[str(i_state)].values())\n",
    "# now a little trick to get the ideal values from the simulator approximated values\n",
    "with np.errstate(divide='ignore'): # ignore the divide by zero warning\n",
    "    PD_ideal = 1/np.round(s_sim/(PD_ideal))\n",
    "# have a look at the matrix head and tail:\n",
    "print(\"first and last state probability distributions:\")\n",
    "print(np.round(np.vstack((PD_ideal[0:1,:],PD_ideal[-1:,:])),4)) "
   ]
  },
  {
   "cell_type": "markdown",
   "metadata": {},
   "source": [
    "## Monte Carlo simulation for the ideal device"
   ]
  },
  {
   "cell_type": "code",
   "execution_count": 20,
   "metadata": {},
   "outputs": [],
   "source": [
    "# here will be appended the data we want for the curve plot \n",
    "ideal_data_list=[]"
   ]
  },
  {
   "cell_type": "markdown",
   "metadata": {
    "scrolled": false
   },
   "source": [
    "###  you may skip this cell and get stored curves by running the next cell"
   ]
  },
  {
   "cell_type": "code",
   "execution_count": null,
   "metadata": {},
   "outputs": [],
   "source": [
    "# you may want to skip this cell as it will require a long time\n",
    "# because of the high number of trials required by the Monte Carlo simulation for each nb o shots value\n",
    "\n",
    "# the following values are defined in the study summary (readme file):\n",
    "trials=100 # should be 10000 if not demo\n",
    "window=5 # shorter window than for the real device counts\n",
    "epsilon = .001\n",
    "min_shots = 5\n",
    "max_shots = 100\n",
    "pol=2\n",
    "\n",
    "subset = None # variable not used here\n",
    "verbosality = 5 # printing step for intermediate results when increasing the experiment shot number \n",
    "\n",
    "PD_test = PD_ideal\n",
    "mitigation_dic =  {\"Na\": None} \n",
    "o_metrics_desired = ['jensenshannon', 'sqeuclidean']\n",
    "model_dic = {\"ideal_sim\": PD_ideal}\n",
    "for mit_str, mitigation in mitigation_dic.items():\n",
    "    if mitigation != None: # thus only for counts on real device\n",
    "        PD_exper = get_clean_matrix(empirical_dic, mitigation=mitigation,\n",
    "                                m_filter=meas_filter) \n",
    "    for o_metric in o_metrics_desired:           \n",
    "            for model_name in model_dic.keys():\n",
    "                add_single_dic(ideal_data_list)                "
   ]
  },
  {
   "cell_type": "markdown",
   "metadata": {},
   "source": [
    "markdown for safety\n",
    "json_dic_dumper(ideal_data_list,\"ideal_device_data_list_\"+project_name)"
   ]
  },
  {
   "cell_type": "code",
   "execution_count": 21,
   "metadata": {},
   "outputs": [],
   "source": [
    "# get the stored results of the Monte Carlo simulation in case you skipped the previous step\n",
    "if len(ideal_data_list) == 0:\n",
    "    ideal_data_list = json_dic_loader(\"ideal_device_data_list_\"+project_name)"
   ]
  },
  {
   "cell_type": "code",
   "execution_count": 22,
   "metadata": {},
   "outputs": [
    {
     "data": {
      "text/plain": [
       "<Figure size 432x288 with 0 Axes>"
      ]
     },
     "metadata": {},
     "output_type": "display_data"
    },
    {
     "data": {
      "image/png": "[encoded data removed]",
      "text/plain": [
       "<Figure size 864x576 with 1 Axes>"
      ]
     },
     "metadata": {
      "needs_background": "light"
     },
     "output_type": "display_data"
    }
   ],
   "source": [
    "# have a look at the mean error rate curves and error rate at save shot number n_s\n",
    "# NB the r_hat_mean curves and legend reported r_hat_max errors the unsmoothed values \n",
    "opl.plot_curves(ideal_data_list,np.array([0,1]),\n",
    "            \"Jensen-Shannon vs squared euclidean distance - $\\epsilon=0.001$\" , \n",
    "             [\"model\"], [\"device\",\"metric\"],\n",
    "             right_xlimit = 20, bottom_ylimit = -0.001, top_ylimit = 0.05)"
   ]
  },
  {
   "cell_type": "markdown",
   "metadata": {},
   "source": [
    "# Real device section"
   ]
  },
  {
   "cell_type": "code",
   "execution_count": 23,
   "metadata": {},
   "outputs": [
    {
     "name": "stderr",
     "output_type": "stream",
     "text": [
      "C:\\Users\\decpi\\Anaconda3\\envs\\QK20\\lib\\site-packages\\qiskit\\providers\\ibmq\\ibmqfactory.py:192: UserWarning: Timestamps in IBMQ backend properties, jobs, and job results are all now in local time instead of UTC.\n",
      "  warnings.warn('Timestamps in IBMQ backend properties, jobs, and job results '\n"
     ]
    },
    {
     "data": {
      "text/plain": [
       "[<IBMQSimulator('ibmq_qasm_simulator') from IBMQ(hub='ibm-q', group='open', project='main')>,\n",
       " <IBMQBackend('ibmqx2') from IBMQ(hub='ibm-q', group='open', project='main')>,\n",
       " <IBMQBackend('ibmq_16_melbourne') from IBMQ(hub='ibm-q', group='open', project='main')>,\n",
       " <IBMQBackend('ibmq_vigo') from IBMQ(hub='ibm-q', group='open', project='main')>,\n",
       " <IBMQBackend('ibmq_ourense') from IBMQ(hub='ibm-q', group='open', project='main')>,\n",
       " <IBMQBackend('ibmq_valencia') from IBMQ(hub='ibm-q', group='open', project='main')>,\n",
       " <IBMQBackend('ibmq_armonk') from IBMQ(hub='ibm-q', group='open', project='main')>,\n",
       " <IBMQBackend('ibmq_athens') from IBMQ(hub='ibm-q', group='open', project='main')>,\n",
       " <IBMQBackend('ibmq_santiago') from IBMQ(hub='ibm-q', group='open', project='main')>]"
      ]
     },
     "execution_count": 23,
     "metadata": {},
     "output_type": "execute_result"
    }
   ],
   "source": [
    "from qiskit import IBMQ\n",
    "IBMQ.load_account()\n",
    "provider = IBMQ.get_provider(hub='ibm-q')\n",
    "provider.backends()"
   ]
  },
  {
   "cell_type": "code",
   "execution_count": 24,
   "metadata": {},
   "outputs": [
    {
     "name": "stdout",
     "output_type": "stream",
     "text": [
      "AL2_Val\n"
     ]
    }
   ],
   "source": [
    "project_device = 'ibmq_valencia'# you may choice here a different backend\n",
    "device_name = dev_dic[project_device]\n",
    "mitig_name = program_name + \"_\" + device_name\n",
    "print(mitig_name)"
   ]
  },
  {
   "cell_type": "code",
   "execution_count": 25,
   "metadata": {},
   "outputs": [],
   "source": [
    "#determine here the backend\n",
    "device = provider.get_backend(project_device) # the backend names are listed here above\n",
    "properties = device.properties()\n",
    "coupling_map = device.configuration().coupling_map"
   ]
  },
  {
   "cell_type": "code",
   "execution_count": 26,
   "metadata": {},
   "outputs": [],
   "source": [
    "# retrieve the corresponding measurement mitigation filter obtained at experimental time\n",
    "# use a fake job because the calibration results were stored as dictionary\n",
    "simulator = Aer.get_backend('qasm_simulator')\n",
    "fake_job_cal = execute(meas_calibs, backend=simulator, shots=1)\n",
    "fake_cal_results = fake_job_cal.result()\n",
    "cal_results_dic = json_dic_loader(\"cal_results_dic_\"+mitig_name) "
   ]
  },
  {
   "cell_type": "code",
   "execution_count": 27,
   "metadata": {},
   "outputs": [],
   "source": [
    "if 'date' in cal_results_dic.keys():\n",
    "    str(cal_results_dic['date'])"
   ]
  },
  {
   "cell_type": "code",
   "execution_count": 28,
   "metadata": {},
   "outputs": [],
   "source": [
    "cal_results = fake_cal_results.from_dict(cal_results_dic)"
   ]
  },
  {
   "cell_type": "code",
   "execution_count": 29,
   "metadata": {},
   "outputs": [
    {
     "name": "stdout",
     "output_type": "stream",
     "text": [
      "Average Measurement Fidelity was: 0.794262 for ibmq_valencia\n"
     ]
    }
   ],
   "source": [
    "meas_fitter = CompleteMeasFitter(cal_results, label_list, qubit_list=qubit_list, circlabel='mcal')\n",
    "meas_filter = meas_fitter.filter\n",
    "# have a look at the average measurement fidefily of this device:\n",
    "print(\"Average Measurement Fidelity was: %f\" % meas_fitter.readout_fidelity(), \"for\",project_device)"
   ]
  },
  {
   "cell_type": "code",
   "execution_count": 30,
   "metadata": {},
   "outputs": [
    {
     "name": "stdout",
     "output_type": "stream",
     "text": [
      "AL2_Val_M000\n"
     ]
    }
   ],
   "source": [
    "id_gates = 0\n",
    "str_nb_id = str(id_gates)\n",
    "zfilled = str_nb_id.zfill(4-len(str_nb_id))\n",
    "project_name = mitig_name + \"_\" + unique_char + zfilled\n",
    "print(project_name)"
   ]
  },
  {
   "cell_type": "markdown",
   "metadata": {},
   "source": [
    "### Load  the transpiled circuits that were actually run \n",
    "##### legacy: valid only for the GHZ Psi+ / W Phi- combination\n",
    "otherwise go instead to:\n",
    "#### \"Obtain the matrix of probability distribution of shape(nb_state,nb_labels) used by the classifier\"\n"
   ]
  },
  {
   "cell_type": "code",
   "execution_count": 31,
   "metadata": {},
   "outputs": [],
   "source": [
    "#changing keys of dictionary for merging:    \n",
    "def key_change(ini_dict, i_subset):\n",
    "    ini_list = []\n",
    "    len_ini = len(ini_dict)\n",
    "    for i in range(len_ini):\n",
    "        ini_list.append(str(i+i_subset*len_ini))\n",
    "    return dict(zip(ini_list, list(ini_dict.values()))) "
   ]
  },
  {
   "cell_type": "code",
   "execution_count": 32,
   "metadata": {},
   "outputs": [],
   "source": [
    "if program_name == \"QAD\":\n",
    "    #retrieve the data corresponding to the 1st project\n",
    "    lfc = list(Flag_char)\n",
    "    circ_ideal =[]\n",
    "    empirical_dic = {}\n",
    "\n",
    "    for i_subset, subset in enumerate(lfc):\n",
    "        qasm_circs_dic = json_dic_loader('qasm_circs_dic_QAD_'+device_name+'_'+ subset + zfilled)\n",
    "        j=0 # j included for project with several transpilation sessions for each device - not used here\n",
    "        qasm_circs = qasm_circs_dic[str(j)]\n",
    "        nb_circs = len(qasm_circs)        \n",
    "        for i_circs in range(nb_circs):\n",
    "            circ_ideal.append(QuantumCircuit().from_qasm_str(qasm_circs[i_circs]))\n",
    "        empirical_dic = {**empirical_dic,\n",
    "                     **key_change(json_dic_loader(\"experimental\"+\"_\"+mitig_name +\"_\"\\\n",
    "                                  +subset+zfilled), i_subset)}\n",
    "    test_dic = copy.deepcopy(empirical_dic)\n",
    "    #nb_states = len(circ_ideal)"
   ]
  },
  {
   "cell_type": "markdown",
   "metadata": {},
   "source": [
    "### Obtain the matrix of probability distribution of shape(nb_state,nb_labels) used by the classifier"
   ]
  },
  {
   "cell_type": "code",
   "execution_count": 33,
   "metadata": {},
   "outputs": [
    {
     "data": {
      "text/plain": [
       "'AL2_Val_M000'"
      ]
     },
     "execution_count": 33,
     "metadata": {},
     "output_type": "execute_result"
    }
   ],
   "source": [
    "project_name"
   ]
  },
  {
   "cell_type": "code",
   "execution_count": 34,
   "metadata": {},
   "outputs": [],
   "source": [
    "if program_name == \"AL2\":\n",
    "    empirical_dic = json_dic_loader('experimental_'+project_name) \n",
    "    test_dic = json_dic_loader('test_'+project_name) "
   ]
  },
  {
   "cell_type": "code",
   "execution_count": 35,
   "metadata": {},
   "outputs": [],
   "source": [
    "def rectify_counts(tot_res, test_cqi,mitigation,m_filter) :       \n",
    "        \n",
    "        void_counts = dict(zip(label_list, np.zeros(2**used_qubits)))\n",
    "        try:\n",
    "            counts_results_real_test = tot_res[str(test_cqi)]\n",
    "        except KeyError as error:            \n",
    "            counts_results_real_test = tot_res[test_cqi]\n",
    "\n",
    "        raw_counts_test = copy.deepcopy(void_counts)\n",
    "        raw_counts_test.update(counts_results_real_test)\n",
    "\n",
    "        if mitigation:\n",
    "            mitigated_results_test = meas_filter.apply(raw_counts_test, method = 'least_squares')\n",
    "            returned_counts = copy.deepcopy(void_counts)\n",
    "            returned_counts.update(mitigated_results_test)\n",
    "                        \n",
    "        else:\n",
    "            returned_counts = copy.deepcopy(raw_counts_test)\n",
    "            \n",
    "        return returned_counts"
   ]
  },
  {
   "cell_type": "markdown",
   "metadata": {},
   "source": [
    "### Obtain the matrix of probability distribution of shape(nb_state,nb_labels) used by the classifier"
   ]
  },
  {
   "cell_type": "code",
   "execution_count": 36,
   "metadata": {},
   "outputs": [],
   "source": [
    "def get_clean_matrix(dic, mitigation,m_filter):\n",
    "    clean_matrix =  np.ndarray((nb_states,nb_labels)) \n",
    "    for i_state in range(nb_states):\n",
    "        rectified_counts = rectify_counts(dic,i_state, mitigation,m_filter) # get a rectified counts dictionary       \n",
    "        clean_matrix[i_state, :] = list(rectified_counts.values())\n",
    "    clean_matrix = clean_matrix/clean_matrix.sum(axis=1, keepdims=True)\n",
    "    return clean_matrix  "
   ]
  },
  {
   "cell_type": "code",
   "execution_count": 37,
   "metadata": {},
   "outputs": [
    {
     "name": "stdout",
     "output_type": "stream",
     "text": [
      "first and last state probability distributions:\n",
      "[[0.003 0.014 0.013 0.    0.017 0.001 0.001 0.001 0.031 0.096 0.078 0.003\n",
      "  0.104 0.003 0.005 0.004 0.043 0.142 0.123 0.004 0.159 0.005 0.005 0.009\n",
      "  0.013 0.039 0.033 0.002 0.043 0.001 0.002 0.001]\n",
      " [0.007 0.002 0.002 0.008 0.016 0.002 0.002 0.012 0.033 0.007 0.007 0.025\n",
      "  0.147 0.022 0.026 0.142 0.015 0.003 0.004 0.011 0.064 0.011 0.009 0.062\n",
      "  0.128 0.021 0.02  0.083 0.048 0.01  0.01  0.04 ]]\n"
     ]
    }
   ],
   "source": [
    "# We need to create a first matrix version. It will then vary for each considered set of distribution\n",
    "mitigation = False\n",
    "PD_exper = get_clean_matrix(empirical_dic, mitigation=mitigation,\n",
    "                            m_filter=meas_filter) \n",
    "print(\"first and last state probability distributions:\")\n",
    "print(np.round(np.vstack((PD_exper[0:1,:],PD_exper[-1:,:])),3)) "
   ]
  },
  {
   "cell_type": "code",
   "execution_count": 38,
   "metadata": {},
   "outputs": [
    {
     "name": "stdout",
     "output_type": "stream",
     "text": [
      "first and last state probability distributions:\n",
      "[[0.005 0.013 0.011 0.    0.016 0.    0.    0.    0.032 0.094 0.078 0.002\n",
      "  0.103 0.004 0.005 0.006 0.048 0.138 0.116 0.004 0.16  0.006 0.007 0.007\n",
      "  0.016 0.039 0.032 0.001 0.048 0.002 0.002 0.003]\n",
      " [0.011 0.001 0.003 0.009 0.014 0.003 0.004 0.016 0.033 0.008 0.009 0.025\n",
      "  0.141 0.024 0.024 0.139 0.014 0.003 0.002 0.01  0.066 0.011 0.012 0.055\n",
      "  0.127 0.019 0.021 0.09  0.048 0.008 0.01  0.039]]\n"
     ]
    }
   ],
   "source": [
    "if program_name == \"QAD\":\n",
    "    PD_test = copy.deepcopy(PD_exper)\n",
    "elif program_name == \"AL2\":\n",
    "    mitigation = False\n",
    "    PD_test = get_clean_matrix(test_dic, mitigation=mitigation,\n",
    "                                m_filter=meas_filter) \n",
    "    print(\"first and last state probability distributions:\")\n",
    "    print(np.round(np.vstack((PD_test[0:1,:],PD_test[-1:,:])),3)) "
   ]
  },
  {
   "cell_type": "markdown",
   "metadata": {},
   "source": [
    "## Monte Carlo simulation for the real device"
   ]
  },
  {
   "cell_type": "code",
   "execution_count": 41,
   "metadata": {},
   "outputs": [],
   "source": [
    "# here will be appended the data we want for the final plot of this notebook\n",
    "empirical_data_list=[]"
   ]
  },
  {
   "cell_type": "markdown",
   "metadata": {
    "scrolled": false
   },
   "source": [
    "###  you may want to skip this cell and get stored curves by running the next cell"
   ]
  },
  {
   "cell_type": "code",
   "execution_count": null,
   "metadata": {},
   "outputs": [],
   "source": [
    "# you may want to skip this cell as it will require a long time\n",
    "# because of the high number of trials required by the Monte Carlo simulation for each nb o shots value\n",
    "\n",
    "# the following values are defined in the study summary notebook:\n",
    "trials=100\n",
    "window=11\n",
    "epsilon = .001\n",
    "max_shots = 500\n",
    "pol=2\n",
    "\n",
    "verbosality = 10 # printing step for intermediate results when increasing the experiment shot number \n",
    "\n",
    "# In this section you can easily make your choice of combinations\n",
    "# mitigation or not, metric and model \n",
    "\n",
    "mitigation_dic =  {\"no\":False, \"yes\" : True} \n",
    "#mitigation_dic =  {\"no\":False} \n",
    "#mitigation_dic =  {\"yes\" : True} \n",
    "\n",
    "o_metrics_desired = ['jensenshannon', 'sqeuclidean']\n",
    "#o_metrics_desired = ['jensenshannon']\n",
    "#o_metrics_desired = ['sqeuclidean']\n",
    "\n",
    "model_dic = {\"empirical\": PD_exper, \"ideal_sim\": PD_ideal}\n",
    "#model_dic = {\"empirical\": PD_exper}\n",
    "#model_dic = {\"ideal_sim\": PD_ideal}\n",
    "\n",
    "# Obtain a sequence of results in form of a list of dictionaries\n",
    "\n",
    "for mit_str, mitigation in mitigation_dic.items():\n",
    "    # here we toggle PD_exper as we toggled mitigation status\n",
    "    PD_exper = get_clean_matrix(empirical_dic, mitigation=mitigation,\n",
    "                            m_filter=meas_filter)\n",
    "    PD_test = get_clean_matrix(test_dic, mitigation=mitigation,\n",
    "                            m_filter=meas_filter)\n",
    "    for o_metric in o_metrics_desired:\n",
    "        print(project_name, model_dic.keys(), o_metric)        \n",
    "        for model_name in model_dic.keys():\n",
    "            add_single_dic(empirical_data_list)"
   ]
  },
  {
   "cell_type": "markdown",
   "metadata": {},
   "source": [
    "markdown fo security\n",
    "json_dic_dumper(empirical_data_list,'Tnemp_data_list_'+project_name)"
   ]
  },
  {
   "cell_type": "code",
   "execution_count": 42,
   "metadata": {},
   "outputs": [],
   "source": [
    "# get the stored results of the Monte Carlo simulation in case you skipped the previous step\n",
    "if len(empirical_data_list) == 0:\n",
    "    empirical_data_list  = json_dic_loader('nemp_data_list_'+project_name) "
   ]
  },
  {
   "cell_type": "code",
   "execution_count": 43,
   "metadata": {},
   "outputs": [
    {
     "data": {
      "text/plain": [
       "<Figure size 432x288 with 0 Axes>"
      ]
     },
     "metadata": {},
     "output_type": "display_data"
    },
    {
     "data": {
      "image/png": "[encoded data removed]",
      "text/plain": [
       "<Figure size 864x576 with 1 Axes>"
      ]
     },
     "metadata": {
      "needs_background": "light"
     },
     "output_type": "display_data"
    }
   ],
   "source": [
    "# have a look at the mean error rate curves and error rate at save shot number n_s\n",
    "# NB the r_hat_mean curves and legend reported r_hat_max errors are the unsmoothed values \n",
    "opl.plot_curves(ideal_data_list + empirical_data_list,\n",
    "                np.array(range(2+len(empirical_data_list))),\n",
    "            \"$\\epsilon=0.001$\" , [\"device\"],\n",
    "            [\"model\",\"metric\",\"mitigation\",\"id_gates\"],\n",
    "            right_xlimit = 80, bottom_ylimit = -0.02, top_ylimit = 1)"
   ]
  },
  {
   "cell_type": "code",
   "execution_count": 44,
   "metadata": {},
   "outputs": [],
   "source": [
    "import winsound\n",
    "duration = 2000  # milliseconds \n",
    "freq = 800  # Hz\n",
    "winsound.Beep(freq, duration)"
   ]
  },
  {
   "cell_type": "code",
   "execution_count": null,
   "metadata": {},
   "outputs": [],
   "source": [
    "import qiskit.tools.jupyter\n",
    "%qiskit_version_table"
   ]
  },
  {
   "cell_type": "code",
   "execution_count": null,
   "metadata": {},
   "outputs": [],
   "source": []
  }
 ],
 "metadata": {
  "kernelspec": {
   "display_name": "Python 3",
   "language": "python",
   "name": "python3"
  },
  "language_info": {
   "codemirror_mode": {
    "name": "ipython",
    "version": 3
   },
   "file_extension": ".py",
   "mimetype": "text/x-python",
   "name": "python",
   "nbconvert_exporter": "python",
   "pygments_lexer": "ipython3",
   "version": "3.8.1"
  },
  "varInspector": {
   "cols": {
    "lenName": 16,
    "lenType": 16,
    "lenVar": 40
   },
   "kernels_config": {
    "python": {
     "delete_cmd_postfix": "",
     "delete_cmd_prefix": "del ",
     "library": "var_list.py",
     "varRefreshCmd": "print(var_dic_list())"
    },
    "r": {
     "delete_cmd_postfix": ") ",
     "delete_cmd_prefix": "rm(",
     "library": "var_list.r",
     "varRefreshCmd": "cat(var_dic_list()) "
    }
   },
   "types_to_exclude": [
    "module",
    "function",
    "builtin_function_or_method",
    "instance",
    "_Feature"
   ],
   "window_display": false
  }
 },
 "nbformat": 4,
 "nbformat_minor": 2
}
