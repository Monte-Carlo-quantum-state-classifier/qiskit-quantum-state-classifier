{
 "cells": [
  {
   "cell_type": "markdown",
   "metadata": {},
   "source": [
    "# Classification of quantum states with high dimensional entanglement "
   ]
  },
  {
   "cell_type": "markdown",
   "metadata": {},
   "source": [
    "## Circuits and computations\n",
    "Version compatible with 1st and 2d pilot studies"
   ]
  },
  {
   "cell_type": "code",
   "execution_count": 2,
   "metadata": {},
   "outputs": [],
   "source": [
    "import numpy as np\n",
    "import copy\n",
    "from qiskit import QuantumRegister, QuantumCircuit, ClassicalRegister, Aer, execute, transpile, assemble\n",
    "from qiskit.tools.visualization import *\n",
    "from qiskit.ignis.mitigation.measurement import (complete_meas_cal, tensored_meas_cal,\n",
    "                                                 CompleteMeasFitter, TensoredMeasFitter)\n",
    "import json\n",
    "from scipy.signal import savgol_filter\n",
    "import time\n",
    "from qiskit.tools.monitor import job_monitor"
   ]
  },
  {
   "cell_type": "code",
   "execution_count": 3,
   "metadata": {},
   "outputs": [],
   "source": [
    "from o_utils import ora # classifier utilities\n",
    "from o_plot import opl # utilities for result plot\n",
    "from c_utils import new_cut # circuit building utilities"
   ]
  },
  {
   "cell_type": "code",
   "execution_count": 4,
   "metadata": {},
   "outputs": [],
   "source": [
    "def json_dic_loader(dic_name):\n",
    "    f = open(data_directory+dic_name+'.json')\n",
    "    return json.load(f)"
   ]
  },
  {
   "cell_type": "code",
   "execution_count": 5,
   "metadata": {},
   "outputs": [],
   "source": [
    "#markdown for safety on demo\n",
    "def json_dic_dumper(dic, dic_name):\n",
    "    with open(data_directory+dic_name+'.json', 'w') as f:\n",
    "        json.dump(dic,f)   "
   ]
  },
  {
   "cell_type": "code",
   "execution_count": 6,
   "metadata": {},
   "outputs": [],
   "source": [
    "# common code for calling the classifier for ideal device and for real devices\n",
    "def add_single_dic(target_data_list):\n",
    "    start_time = time.time()                \n",
    "           \n",
    "    print(\"started\",time.strftime('%d/%m/%Y %H:%M:%S'),mitig_name,\n",
    "          \"mitigation\",mit_str,o_metric,model_name)\n",
    "    \n",
    "    # added for D,S,M choice. Mainstream : mixed set of 20 states\n",
    "    first = 0\n",
    "    last = nb_states\n",
    "    if unique_char == \"D\":\n",
    "        last = int(nb_states/2)\n",
    "    elif unique_char == \"S\":\n",
    "        first = int(nb_states/2)\n",
    "    \n",
    "    # get the classifier error curve in function of the number of shot and the \"safe shot number\" \n",
    "    error_curve, safe_rate, ernb = ora.provide_error_curve(PD_model=model_dic[model_name][first:last,:],\n",
    "                                                   PD_test=PD_test[first:last,:],\n",
    "                                                   trials=trials,\n",
    "                                                   window=window,\n",
    "                                                   epsilon=epsilon,\n",
    "                                                   max_shots=max_shots,\n",
    "                                                   pol=pol,\n",
    "                                                   verbosality=verbosality)\n",
    "\n",
    "    tail = savgol_filter(ernb, window, pol, axis=0)\n",
    "    len_curve = len(error_curve)\n",
    "    safe_shot_nb = len_curve - int((window-1)/2) # OK\n",
    "    print('safe_shot_nb',safe_shot_nb, 'safe_rate',safe_rate, \"nb trials:\",trials)\n",
    "    err_rates = tail[int((window-1)/2),:]/trials \n",
    "    err_rate_max = np.max(err_rates)\n",
    "    err_rate_min = np.min(err_rates)\n",
    "    r=4\n",
    "    print(\"savgol interpolated error rate mean:\", np.round(np.mean(err_rates),r),\n",
    "          \"min:\", np.round(err_rate_min,r),\n",
    "          \"max:\", np.round(err_rate_max,r), \"for\",\n",
    "          [ien for ien, jen in enumerate(err_rates) if jen == err_rate_max])\n",
    "    end_time = time.time()\n",
    "    \n",
    "    #save the data in a list of dictionaries :\n",
    "    single_dic={\"project\":mitig_name,\n",
    "                \"id_gates\":id_gates,\n",
    "                \"mitigation\":mit_str,\n",
    "                \"model\":model_name,\n",
    "                \"metric\":o_metric, \"device\":project_device,                              \n",
    "                \"curve_length\":len_curve, \n",
    "                \"shots\": safe_shot_nb,\n",
    "                \"shots_rate\": safe_rate,                                                                                    \n",
    "                \"error_curve\":error_curve,\n",
    "                \"trials\":trials,\"window\":window,\n",
    "                \"epsilon\":epsilon,\"SG_pol\": pol,                         \n",
    "                \"computation_time\":end_time-start_time,\n",
    "                \"time_completed\":time.strftime('%d/%m/%Y %H:%M:%S'),\n",
    "                \"trials\":trials,\n",
    "                \"QV\": QV_dic[project_device],\n",
    "                \"fidelity\": fidelity_dic[project_device],\n",
    "                \"error_nb\":ernb}\n",
    "    target_data_list.append(single_dic)\n",
    "    \n",
    "    print(\"completed\",time.strftime('%d/%m/%Y %H:%M:%S'),mitig_name,\n",
    "          \"mitigation\",mit_str,o_metric,model_name,\"\\n\")"
   ]
  },
  {
   "cell_type": "markdown",
   "metadata": {},
   "source": [
    "## Set up the simulator and layout for 5 qubits"
   ]
  },
  {
   "cell_type": "code",
   "execution_count": 7,
   "metadata": {},
   "outputs": [],
   "source": [
    "simulator = Aer.get_backend('qasm_simulator')"
   ]
  },
  {
   "cell_type": "code",
   "execution_count": 8,
   "metadata": {},
   "outputs": [],
   "source": [
    "#specify the layout of the devices\n",
    "used_qubits = 5\n",
    "qubit_list = [0,1,2,3,4]"
   ]
  },
  {
   "cell_type": "code",
   "execution_count": 9,
   "metadata": {},
   "outputs": [],
   "source": [
    "#short_version = False\n",
    "#program_name=\"QAD\" # 1st pilot project GHZ Psi+ / W Phi+\n",
    "program_name=\"AL2\" # 2d pilot project W Psi+ / Wbar Phi+\n",
    "Flag_char = \"DS\" # this for a mix of two types of separable states\n",
    "if len(Flag_char) >= 2:\n",
    "    unique_char = \"M\"\n",
    "else:\n",
    "    unique_char = Flag_char"
   ]
  },
  {
   "cell_type": "code",
   "execution_count": 51,
   "metadata": {},
   "outputs": [],
   "source": [
    "# These dictionaries for the devices used in the study\n",
    "if program_name == \"QAD\":\n",
    "    fidelity_dic = {'ibmq_athens': 0.925110, 'ibmq_valencia': 0.809101, 'ibmq_ourense': 0.802380,\"ibmqx2\": 0.627392, \n",
    "                    'ibmq_santiago': 0.919399, 'ibmq_vigo': 0.908840, 'ibmq_lima':0.771835, 'ideal_device': 1.0}\n",
    "    data_directory = \"data_files/\"\n",
    "elif program_name == \"AL2\":\n",
    "    fidelity_dic = {'ibmq_athens': 0.910145, 'ibmq_valencia': 0.794262, 'ibmq_ourense': 0.818974, \"ibmqx2\": 0.359528,\n",
    "                    'ibmq_santiago': 0.900024, 'ibmq_vigo': 0.841831, 'ibmq_quito': 0.839985, 'ibmq_lima':0.771835,\n",
    "                    'ibmq_belem':0.842281,'ideal_device': 1.0}\n",
    "    data_directory = \"data2_files/\"\n",
    "QV_dic = {'ibmq_athens': 32.0, 'ibmq_valencia': 16.0, 'ibmq_ourense': 8.0,\"ibmqx2\": 8.0, 'ibmq_santiago': 32.0,\n",
    "          'ibmq_vigo': 16.0, 'ideal_device': np.inf,  'ibmq_quito': 16.0, 'ibmq_lima': \"Lim\",'ibmq_belem':16.0}\n",
    "dev_dic =  {'ibmq_santiago': \"San\",'ibmq_athens': \"Ath\", 'ibmq_valencia': \"Val\", 'ibmq_vigo': 'Vig','ibmq_ourense': \"Our\",\n",
    "               \"ibmqx2\": 'Yor', 'ibmq_quito': \"Qui\", 'ibmq_lima': \"Lim\", 'ibmq_belem': \"Bel\",'ideal_device': \"Ide\" }"
   ]
  },
  {
   "cell_type": "code",
   "execution_count": 11,
   "metadata": {},
   "outputs": [],
   "source": [
    "# specify the device: here first the ideal noise-free device\n",
    "project_device = 'ideal_device'\n",
    "device_name = dev_dic[project_device]"
   ]
  },
  {
   "cell_type": "code",
   "execution_count": 12,
   "metadata": {},
   "outputs": [],
   "source": [
    "# specify the nb of id gates between state creation and measurements\n",
    "# zero for the ideal device\n",
    "id_gates = 0\n",
    "str_nb_id = str(id_gates)\n",
    "zfilled = str_nb_id.zfill(4-len(str_nb_id))"
   ]
  },
  {
   "cell_type": "code",
   "execution_count": 13,
   "metadata": {},
   "outputs": [
    {
     "name": "stdout",
     "output_type": "stream",
     "text": [
      "AL2_Ide\n",
      "AL2_Ide_M000\n"
     ]
    }
   ],
   "source": [
    "# tail of the file names for RAM storage\n",
    "mitig_name = program_name + \"_\" + device_name\n",
    "project_name = mitig_name + \"_\" + unique_char + zfilled\n",
    "print(mitig_name)\n",
    "print(project_name)"
   ]
  },
  {
   "cell_type": "code",
   "execution_count": 14,
   "metadata": {},
   "outputs": [
    {
     "name": "stdout",
     "output_type": "stream",
     "text": [
      "32 ['00000', '00001', '00010', '00011', '00100', '00101', '00110', '00111', '01000', '01001', '01010', '01011', '01100', '01101', '01110', '01111', '10000', '10001', '10010', '10011', '10100', '10101', '10110', '10111', '11000', '11001', '11010', '11011', '11100', '11101', '11110', '11111']\n"
     ]
    }
   ],
   "source": [
    "# establish the result label list\n",
    "# meas_calibs will be used for mitigation in the real device section\n",
    "qr = QuantumRegister(used_qubits) \n",
    "meas_calibs, label_list = complete_meas_cal(qubit_list=qubit_list, qr=qr, circlabel='mcal')\n",
    "nb_labels=len(label_list)\n",
    "print(nb_labels,label_list)"
   ]
  },
  {
   "cell_type": "code",
   "execution_count": 15,
   "metadata": {},
   "outputs": [
    {
     "data": {
      "text/plain": [
       "32"
      ]
     },
     "execution_count": 15,
     "metadata": {},
     "output_type": "execute_result"
    }
   ],
   "source": [
    "len(meas_calibs)"
   ]
  },
  {
   "cell_type": "code",
   "execution_count": 16,
   "metadata": {},
   "outputs": [],
   "source": [
    "# permutation list\n",
    "# here it is simple to write down the list, \n",
    "# but a version using itertools will be wellcome for >5 qubits projects\n",
    "if used_qubits == 5:\n",
    "    q_perm = [[0, 1, 2, 3, 4], [0, 1, 3, 2, 4], [0, 1, 4, 2, 3], [0, 2, 3, 1, 4], [0, 2, 4, 1, 3],\n",
    "          [0, 3, 4, 1, 2], [1, 2, 3, 0, 4], [1, 2, 4, 0, 3], [1, 3, 4, 0, 2], [2, 3, 4, 0, 1]]\n",
    "else:\n",
    "    print(\"work in progress - meanwhile please provide the list of permutations\")"
   ]
  },
  {
   "cell_type": "markdown",
   "metadata": {},
   "source": [
    "## Create the quantum states"
   ]
  },
  {
   "cell_type": "code",
   "execution_count": 17,
   "metadata": {},
   "outputs": [
    {
     "data": {
      "text/plain": [
       "['W', 'Psi+', 'Wbar', 'Phi+']"
      ]
     },
     "execution_count": 17,
     "metadata": {},
     "output_type": "execute_result"
    }
   ],
   "source": [
    "# define the two subsets of 10 separable states\n",
    "if program_name == \"QAD\":\n",
    "    state_1a = [\"W\",\"Phi+\"]\n",
    "    state_1b = [\"GHZ\",\"Psi+\"]\n",
    "elif program_name == \"ALT\" or \"AL2\":\n",
    "    state_1a = [\"W\",\"Psi+\"]\n",
    "    state_1b = [\"Wbar\",\"Phi+\"]\n",
    "l_states = state_1a+state_1b\n",
    "l_states"
   ]
  },
  {
   "cell_type": "code",
   "execution_count": 18,
   "metadata": {},
   "outputs": [],
   "source": [
    "# version 20 circuits for demonstration\n",
    "# (in the version run on real devices: two batches of 10 circuits, \"shallow\" and \"deep\")\n",
    "\n",
    "# these circuits limited to state creation are ready to be saved \n",
    "# for  ultimately building circuits adapted to noisy simulator and real devices\n",
    "# as option, these circuits will include a row of id gates between creation and measurements\n",
    "\n",
    "circ_ori = []\n",
    "for i_s in range(0,len(l_states),2):\n",
    "    for perm in q_perm:\n",
    "            mycircuit = QuantumCircuit(used_qubits, used_qubits)                                   \n",
    "            mycircuit = new_cut.circuit_builder(mycircuit, perm, l_states[i_s],l_states[i_s+1])\n",
    "            circ_ori.append(mycircuit)"
   ]
  },
  {
   "cell_type": "code",
   "execution_count": 19,
   "metadata": {},
   "outputs": [],
   "source": [
    "# add measurement section to the circuit set newly created:\n",
    "nb_states = len(circ_ori)\n",
    "circ_ideal = copy.deepcopy(circ_ori)\n",
    "for i_state in range(nb_states):\n",
    "    new_cut.add_barrier_and_measure(circ_ideal[i_state],qubit_list)"
   ]
  },
  {
   "cell_type": "code",
   "execution_count": 20,
   "metadata": {},
   "outputs": [],
   "source": [
    "ideal_dic = {}"
   ]
  },
  {
   "cell_type": "markdown",
   "metadata": {},
   "source": [
    "## Obtain result distributions on  noise free simulator\n",
    "#### You may skip this section and go to: \n",
    "####  \"Obtain the matrix of probability distribution of shape(nb_state,nb_labels) used by the classifier\""
   ]
  },
  {
   "cell_type": "code",
   "execution_count": 21,
   "metadata": {},
   "outputs": [],
   "source": [
    "# execute on noise free simulator  \n",
    "s_sim = 12000\n",
    "job_simul = execute(circ_ideal, backend=simulator, shots=s_sim)\n",
    "tot_results_simul = job_simul.result()"
   ]
  },
  {
   "cell_type": "code",
   "execution_count": 22,
   "metadata": {},
   "outputs": [],
   "source": [
    "# establish a dictionary of count results on noise free simulator:\n",
    "# (this step is only useful if ram storage is performed)\n",
    "void_counts = dict(zip(label_list, np.zeros(2**used_qubits)))\n",
    "tot_results_sim_dic = {}\n",
    "\n",
    "for i_state in range(nb_states):\n",
    "    counts_simul = copy.deepcopy(void_counts)\n",
    "    counts_simul.update(tot_results_simul.get_counts(i_state))\n",
    "    ideal_dic[str(i_state)]=counts_simul"
   ]
  },
  {
   "cell_type": "markdown",
   "metadata": {},
   "source": [
    "#markdown for security\n",
    "json_dic_dumper(ideal_dic,\"ideal_dic_\"+project_name)"
   ]
  },
  {
   "cell_type": "markdown",
   "metadata": {},
   "source": [
    "Example of circuit for separable state of the first type for project 2 : $|W\\rangle\\otimes|\\Psi^+\\rangle$"
   ]
  },
  {
   "cell_type": "code",
   "execution_count": 23,
   "metadata": {},
   "outputs": [
    {
     "name": "stdout",
     "output_type": "stream",
     "text": [
      "Ide circuit # 0\n"
     ]
    },
    {
     "data": {
      "image/png": "[encoded data removed]",
      "text/plain": [
       "<Figure size 929.397x385.28 with 1 Axes>"
      ]
     },
     "execution_count": 23,
     "metadata": {},
     "output_type": "execute_result"
    }
   ],
   "source": [
    "i_state_test = 0\n",
    "print(device_name, \"circuit #\",i_state_test)\n",
    "circ_ideal[i_state_test].draw(output='mpl')"
   ]
  },
  {
   "cell_type": "code",
   "execution_count": 24,
   "metadata": {},
   "outputs": [
    {
     "name": "stdout",
     "output_type": "stream",
     "text": [
      "Ide circuit # 0\n"
     ]
    },
    {
     "data": {
      "image/png": "[encoded data removed]",
      "text/plain": [
       "<Figure size 720x360 with 1 Axes>"
      ]
     },
     "execution_count": 24,
     "metadata": {},
     "output_type": "execute_result"
    }
   ],
   "source": [
    "print(device_name, \"circuit #\",i_state_test)\n",
    "plot_histogram(ideal_dic[str(i_state_test)],\n",
    "               legend=['noise free simulation'],\n",
    "               color = \"b\", figsize=(10.,5.))"
   ]
  },
  {
   "cell_type": "markdown",
   "metadata": {},
   "source": [
    "Example of circuit for separable state of the second type for project 2 : $|W\\rangle^{\\otimes X}\\otimes|\\Phi^+\\rangle$"
   ]
  },
  {
   "cell_type": "code",
   "execution_count": 25,
   "metadata": {},
   "outputs": [
    {
     "name": "stdout",
     "output_type": "stream",
     "text": [
      "Ide circuit # 10\n"
     ]
    },
    {
     "data": {
      "image/png": "[encoded data removed]",
      "text/plain": [
       "<Figure size 989.597x385.28 with 1 Axes>"
      ]
     },
     "execution_count": 25,
     "metadata": {},
     "output_type": "execute_result"
    }
   ],
   "source": [
    "i_state_test = 10\n",
    "print(device_name, \"circuit #\",i_state_test)\n",
    "circ_ideal[i_state_test].draw(output='mpl')"
   ]
  },
  {
   "cell_type": "code",
   "execution_count": 26,
   "metadata": {},
   "outputs": [
    {
     "name": "stdout",
     "output_type": "stream",
     "text": [
      "Ide circuit # 10\n"
     ]
    },
    {
     "data": {
      "image/png": "[encoded data removed]",
      "text/plain": [
       "<Figure size 720x360 with 1 Axes>"
      ]
     },
     "execution_count": 26,
     "metadata": {},
     "output_type": "execute_result"
    }
   ],
   "source": [
    "print(device_name, \"circuit #\",i_state_test)\n",
    "plot_histogram(ideal_dic[str(i_state_test)],\n",
    "               legend=['noise free simulation'],\n",
    "               color = \"b\", figsize=(10.,5.))"
   ]
  },
  {
   "cell_type": "markdown",
   "metadata": {},
   "source": [
    "### Obtain the matrix of probability distribution of shape(nb_state,nb_labels) used by the classifier"
   ]
  },
  {
   "cell_type": "code",
   "execution_count": 27,
   "metadata": {},
   "outputs": [],
   "source": [
    "# try loading the dictionary of results if its creation was skipped\n",
    "if len(ideal_dic) == 0:\n",
    "    ideal_dic = json_dic_loader(\"ideal_dic_\"+project_name)"
   ]
  },
  {
   "cell_type": "code",
   "execution_count": 28,
   "metadata": {},
   "outputs": [],
   "source": [
    "nb_states = len(ideal_dic)\n",
    "nb_labels = len(list(ideal_dic.values())[0])\n",
    "s_sim = sum(list(ideal_dic.values())[0].values())"
   ]
  },
  {
   "cell_type": "code",
   "execution_count": 29,
   "metadata": {},
   "outputs": [],
   "source": [
    "def print_first_and_last_row(PDM):\n",
    "    print(\"first and last rows of the probability distribution matrix of dimension \"+str(nb_states)+\"x\"+str(nb_labels))\n",
    "    print(np.round(PDM[0:1,:],4))\n",
    "    print(\"   ...\")\n",
    "    print(np.round(PDM[-1:,:],4))"
   ]
  },
  {
   "cell_type": "code",
   "execution_count": 30,
   "metadata": {},
   "outputs": [
    {
     "name": "stdout",
     "output_type": "stream",
     "text": [
      "first and last rows of the probability distribution matrix of dimension 20x32\n",
      "[[0.     0.     0.     0.     0.     0.     0.     0.     0.     0.1667\n",
      "  0.1667 0.     0.1667 0.     0.     0.     0.     0.1667 0.1667 0.\n",
      "  0.1667 0.     0.     0.     0.     0.     0.     0.     0.     0.\n",
      "  0.     0.    ]]\n",
      "   ...\n",
      "[[0.     0.     0.     0.     0.     0.     0.     0.     0.     0.\n",
      "  0.     0.     0.1667 0.     0.     0.1667 0.     0.     0.     0.\n",
      "  0.1667 0.     0.     0.1667 0.1667 0.     0.     0.1667 0.     0.\n",
      "  0.     0.    ]]\n"
     ]
    }
   ],
   "source": [
    "PD_ideal =  np.ndarray((nb_states,nb_labels))\n",
    "for i_state in range(nb_states):\n",
    "    PD_ideal[i_state, :] = list(ideal_dic[str(i_state)].values())\n",
    "# now a little trick to get the ideal values from the simulator approximated values\n",
    "with np.errstate(divide='ignore'): # ignore the divide by zero warning\n",
    "    PD_ideal = 1/np.round(s_sim/(PD_ideal))\n",
    "# have a look at the matrix head and tail:\n",
    "print_first_and_last_row(PD_ideal)"
   ]
  },
  {
   "cell_type": "markdown",
   "metadata": {},
   "source": [
    "## Monte Carlo simulation for the ideal device"
   ]
  },
  {
   "cell_type": "code",
   "execution_count": 31,
   "metadata": {},
   "outputs": [],
   "source": [
    "# here will be appended the data we want for the curve plot \n",
    "ideal_data_list=[]"
   ]
  },
  {
   "cell_type": "markdown",
   "metadata": {
    "scrolled": false
   },
   "source": [
    "###  you may skip this cell and get stored curves by running the next cell"
   ]
  },
  {
   "cell_type": "code",
   "execution_count": null,
   "metadata": {},
   "outputs": [],
   "source": [
    "# you may want to skip this cell as it will require a long time\n",
    "# because of the high number of trials required by the Monte Carlo simulation for each nb o shots value\n",
    "\n",
    "# the following values are defined in the study summary (readme file):\n",
    "trials=100 # to be set to 10000 if not demo \n",
    "window=5 # shorter window than for the real device counts\n",
    "epsilon = .001\n",
    "min_shots = 5\n",
    "max_shots = 100\n",
    "pol=2\n",
    "\n",
    "subset = None # variable not used here\n",
    "verbosality = 5 # printing step for intermediate results when increasing the experiment shot number \n",
    "\n",
    "PD_test = PD_ideal\n",
    "mitigation_dic =  {\"Na\": None} \n",
    "o_metrics_desired = ['jensenshannon', 'sqeuclidean']\n",
    "model_dic = {\"ideal_sim\": PD_ideal}\n",
    "for mit_str, mitigation in mitigation_dic.items():\n",
    "    if mitigation != None: # thus only for counts on real device\n",
    "        PD_exper = get_clean_matrix(empirical_dic, mitigation=mitigation,\n",
    "                                m_filter=meas_filter) \n",
    "    for o_metric in o_metrics_desired:           \n",
    "            for model_name in model_dic.keys():\n",
    "                add_single_dic(ideal_data_list)                "
   ]
  },
  {
   "cell_type": "markdown",
   "metadata": {},
   "source": [
    "markdown for safety\n",
    "json_dic_dumper(ideal_data_list,\"ideal_device_data_list_\"+project_name)"
   ]
  },
  {
   "cell_type": "code",
   "execution_count": 32,
   "metadata": {},
   "outputs": [],
   "source": [
    "# get the stored results of the Monte Carlo simulation in case you skipped the previous step\n",
    "if len(ideal_data_list) == 0:\n",
    "    ideal_data_list = json_dic_loader(\"ideal_device_data_list_\"+project_name)"
   ]
  },
  {
   "cell_type": "code",
   "execution_count": 33,
   "metadata": {},
   "outputs": [
    {
     "data": {
      "text/plain": [
       "<Figure size 432x288 with 0 Axes>"
      ]
     },
     "metadata": {},
     "output_type": "display_data"
    },
    {
     "data": {
      "image/png": "[encoded data removed]",
      "text/plain": [
       "<Figure size 864x576 with 1 Axes>"
      ]
     },
     "metadata": {
      "needs_background": "light"
     },
     "output_type": "display_data"
    }
   ],
   "source": [
    "# have a look at the mean error rate curves and error rate at save shot number n_s\n",
    "# NB the r_hat_mean curves and legend reported r_hat_max errors the unsmoothed values \n",
    "opl.plot_curves(ideal_data_list,np.array([0,1]),\n",
    "            \"Jensen-Shannon vs squared euclidean distance - $\\epsilon=0.001$\" , \n",
    "             [\"model\"], [\"device\",\"metric\"],\n",
    "             right_xlimit = 20, bottom_ylimit = -0.001, top_ylimit = 0.05)"
   ]
  },
  {
   "cell_type": "markdown",
   "metadata": {},
   "source": [
    "# Real device section"
   ]
  },
  {
   "cell_type": "code",
   "execution_count": 34,
   "metadata": {},
   "outputs": [
    {
     "name": "stderr",
     "output_type": "stream",
     "text": [
      "C:\\Users\\decpi\\Anaconda3\\envs\\QK20\\lib\\site-packages\\qiskit\\providers\\ibmq\\ibmqfactory.py:192: UserWarning: Timestamps in IBMQ backend properties, jobs, and job results are all now in local time instead of UTC.\n",
      "  warnings.warn('Timestamps in IBMQ backend properties, jobs, and job results '\n"
     ]
    },
    {
     "data": {
      "text/plain": [
       "[<IBMQSimulator('ibmq_qasm_simulator') from IBMQ(hub='ibm-q', group='open', project='main')>,\n",
       " <IBMQBackend('ibmqx2') from IBMQ(hub='ibm-q', group='open', project='main')>,\n",
       " <IBMQBackend('ibmq_16_melbourne') from IBMQ(hub='ibm-q', group='open', project='main')>,\n",
       " <IBMQBackend('ibmq_armonk') from IBMQ(hub='ibm-q', group='open', project='main')>,\n",
       " <IBMQBackend('ibmq_athens') from IBMQ(hub='ibm-q', group='open', project='main')>,\n",
       " <IBMQBackend('ibmq_santiago') from IBMQ(hub='ibm-q', group='open', project='main')>,\n",
       " <IBMQBackend('ibmq_lima') from IBMQ(hub='ibm-q', group='open', project='main')>,\n",
       " <IBMQBackend('ibmq_belem') from IBMQ(hub='ibm-q', group='open', project='main')>,\n",
       " <IBMQBackend('ibmq_quito') from IBMQ(hub='ibm-q', group='open', project='main')>]"
      ]
     },
     "execution_count": 34,
     "metadata": {},
     "output_type": "execute_result"
    }
   ],
   "source": [
    "from qiskit import IBMQ\n",
    "IBMQ.load_account()\n",
    "provider = IBMQ.get_provider(hub='ibm-q')\n",
    "provider.backends()"
   ]
  },
  {
   "cell_type": "code",
   "execution_count": 35,
   "metadata": {},
   "outputs": [
    {
     "name": "stdout",
     "output_type": "stream",
     "text": [
      "AL2_Bel\n"
     ]
    }
   ],
   "source": [
    "project_device = 'ibmq_belem'# you may choice here a different backend\n",
    "device_name = dev_dic[project_device]\n",
    "mitig_name = program_name + \"_\" + device_name\n",
    "print(mitig_name)"
   ]
  },
  {
   "cell_type": "code",
   "execution_count": 36,
   "metadata": {},
   "outputs": [],
   "source": [
    "#determine here the backend\n",
    "device = provider.get_backend(project_device) # the backend names are listed here above\n",
    "properties = device.properties()\n",
    "coupling_map = device.configuration().coupling_map"
   ]
  },
  {
   "cell_type": "markdown",
   "metadata": {},
   "source": [
    "# obtain mitigation filter"
   ]
  },
  {
   "cell_type": "code",
   "execution_count": 37,
   "metadata": {},
   "outputs": [
    {
     "name": "stdout",
     "output_type": "stream",
     "text": [
      "backend: ibmq_belem qubit_list: [0, 1, 2, 3, 4]\n",
      "6030b642dcdf9277b8ae6261\n",
      "Job Status: job has successfully run\n",
      "DMY:  20/02/2021 08:13:24\n"
     ]
    }
   ],
   "source": [
    "#markdown for demo\n",
    "nb_shots_cal = 8192 # set here the number of shots for the calibration phase\n",
    "print(\"backend:\", device.name(), \"qubit_list:\", qubit_list)\n",
    "job_cal = execute(meas_calibs, backend=device, shots=nb_shots_cal)\n",
    "print(job_cal.job_id())\n",
    "job_monitor(job_cal)\n",
    "time_exp = time.strftime('%d/%m/%Y %H:%M:%S')\n",
    "print(\"DMY: \",time_exp)"
   ]
  },
  {
   "cell_type": "code",
   "execution_count": 38,
   "metadata": {},
   "outputs": [],
   "source": [
    "#markdown for demo\n",
    "#here we save mitigation results\n",
    "cal_results = job_cal.result()\n",
    "cal_results_dic = cal_results.to_dict()\n",
    "#to make date in dictionary serializable if there is a 'date' key:\n",
    "if 'date' in cal_results_dic.keys():\n",
    "    cal_results_dic['date']=str(cal_results_dic['date'])"
   ]
  },
  {
   "cell_type": "code",
   "execution_count": 39,
   "metadata": {},
   "outputs": [],
   "source": [
    "#markdown for demo and security\n",
    "#dump\n",
    "json_dic_dumper(cal_results_dic,\"Q_cal_results_dic_\"+ mitig_name)"
   ]
  },
  {
   "cell_type": "code",
   "execution_count": 40,
   "metadata": {},
   "outputs": [
    {
     "name": "stdout",
     "output_type": "stream",
     "text": [
      "Average Measurement Fidelity was: 0.842281 for ibmq_belem\n"
     ]
    }
   ],
   "source": [
    "# retrieve the corresponding measurement mitigation filter obtained at experimental time\n",
    "# use a fake job because use of the from_dict method\n",
    "simulator = Aer.get_backend('qasm_simulator')\n",
    "fake_job_cal = execute(meas_calibs, backend=simulator, shots=1)\n",
    "fake_cal_results = fake_job_cal.result()\n",
    "cal_results_dic = json_dic_loader(\"Q_cal_results_dic_\"+mitig_name) \n",
    "if 'date' in cal_results_dic.keys():\n",
    "    str(cal_results_dic['date'])\n",
    "cal_results = fake_cal_results.from_dict(cal_results_dic)\n",
    "meas_fitter = CompleteMeasFitter(cal_results, label_list, qubit_list=qubit_list, circlabel='mcal')\n",
    "meas_filter = meas_fitter.filter\n",
    "# have a look at the average measurement fidefily of this device:\n",
    "print(\"Average Measurement Fidelity was: %f\" % meas_fitter.readout_fidelity(), \"for\",project_device)"
   ]
  },
  {
   "cell_type": "markdown",
   "metadata": {},
   "source": [
    "### Transpile the basic circuits for running on real device\n",
    "In this demo, these are not the circuits which were actually run on real devices (not the same transpiler seed).\n",
    "The optimization level is set to 2 instead of 3 in real experiments, for speed and also because at this moment there is a transpiler error occuring for ibmqx2: 'Maximum iteration reached. max_iteration=1000' "
   ]
  },
  {
   "cell_type": "code",
   "execution_count": 41,
   "metadata": {},
   "outputs": [
    {
     "name": "stdout",
     "output_type": "stream",
     "text": [
      "AL2_Bel_M000\n"
     ]
    }
   ],
   "source": [
    "id_gates = 0\n",
    "str_nb_id = str(id_gates)\n",
    "zfilled = str_nb_id.zfill(4-len(str_nb_id))\n",
    "project_name = mitig_name + \"_\" + unique_char + zfilled\n",
    "print(project_name)"
   ]
  },
  {
   "cell_type": "code",
   "execution_count": 42,
   "metadata": {},
   "outputs": [
    {
     "name": "stdout",
     "output_type": "stream",
     "text": [
      "Start at DMY:  20/02/2021 08:13:25\n",
      "circuit  0 length 54 DMY:  20/02/2021 08:13:25\n",
      "circuit  1 length 67 DMY:  20/02/2021 08:13:25\n",
      "circuit  2 length 59 DMY:  20/02/2021 08:13:25\n",
      "circuit  3 length 57 DMY:  20/02/2021 08:13:26\n",
      "circuit  4 length 69 DMY:  20/02/2021 08:13:26\n",
      "circuit  5 length 56 DMY:  20/02/2021 08:13:26\n",
      "circuit  6 length 54 DMY:  20/02/2021 08:13:26\n",
      "circuit  7 length 60 DMY:  20/02/2021 08:13:26\n",
      "circuit  8 length 53 DMY:  20/02/2021 08:13:26\n",
      "circuit  9 length 58 DMY:  20/02/2021 08:13:26\n",
      "circuit 10 length 58 DMY:  20/02/2021 08:13:26\n",
      "circuit 11 length 70 DMY:  20/02/2021 08:13:26\n",
      "circuit 12 length 60 DMY:  20/02/2021 08:13:26\n",
      "circuit 13 length 55 DMY:  20/02/2021 08:13:27\n",
      "circuit 14 length 56 DMY:  20/02/2021 08:13:27\n",
      "circuit 15 length 53 DMY:  20/02/2021 08:13:27\n",
      "circuit 16 length 59 DMY:  20/02/2021 08:13:27\n",
      "circuit 17 length 56 DMY:  20/02/2021 08:13:27\n",
      "circuit 18 length 73 DMY:  20/02/2021 08:13:27\n",
      "circuit 19 length 72 DMY:  20/02/2021 08:13:27\n",
      "Completed at DMY:  20/02/2021 08:13:27\n"
     ]
    }
   ],
   "source": [
    "# transpile\n",
    "verbose = True  \n",
    "summary_dic = {}\n",
    "seed_transpiler_list = list(range(nb_states))\n",
    "real_circs = []\n",
    "start_time = time.strftime('%d/%m/%Y %H:%M:%S')    \n",
    "print(\"Start at DMY: \",start_time)\n",
    "for i_state in list(range(nb_states)):    \n",
    "    # prepare circuit to be transpiled\n",
    "    circuit = copy.deepcopy(circ_ori[i_state])\n",
    "    if id_gates > 0:\n",
    "        circuit.barrier()\n",
    "        for id_gates_index in range(id_gates):\n",
    "            for index, value in enumerate(qubit_list):\n",
    "                circuit.id(value)\n",
    "    \n",
    "    new_cut.add_barrier_and_measure(circuit, qubit_list)\n",
    "    \n",
    "    summary = []        \n",
    "    depth_list = [] \n",
    "\n",
    "    Q_state_opt_new = transpile(circuit, backend=device,\n",
    "                        coupling_map = coupling_map,\n",
    "                        seed_transpiler=seed_transpiler_list[i_state],\n",
    "                        optimization_level=2,\n",
    "                        initial_layout=qubit_list)\n",
    "\n",
    "    summary_dic[i_state] = {\"depth\": Q_state_opt_new.depth(),\n",
    "                            'circuit':Q_state_opt_new}\n",
    "    real_circs.append(Q_state_opt_new)\n",
    "    if verbose:\n",
    "        print(\"circuit %2i\" % i_state,\"length\",summary_dic[i_state][\"depth\"],\n",
    "              \"DMY: \",time.strftime('%d/%m/%Y %H:%M:%S')) \n",
    "\n",
    "end_time = time.strftime('%d/%m/%Y %H:%M:%S')  \n",
    "print(\"Completed at DMY: \",end_time)    "
   ]
  },
  {
   "cell_type": "code",
   "execution_count": 43,
   "metadata": {},
   "outputs": [
    {
     "name": "stdout",
     "output_type": "stream",
     "text": [
      "ibmq_belem circuit # 10 circuit length: 58\n"
     ]
    }
   ],
   "source": [
    "i_state_test = 10\n",
    "print(project_device, \"circuit #\",i_state_test,\n",
    "      \"circuit length:\",real_circs[i_state_test].depth()) #summary_dic[i_state_test]['depth'])"
   ]
  },
  {
   "cell_type": "markdown",
   "metadata": {},
   "source": [
    "# you may want to skip this if large nb of id gates before measurement\n",
    "real_circs[i_state_test].draw(output='mpl')"
   ]
  },
  {
   "cell_type": "code",
   "execution_count": 44,
   "metadata": {},
   "outputs": [
    {
     "name": "stdout",
     "output_type": "stream",
     "text": [
      "ibmq_belem circuit # 10 on noise free simulator\n"
     ]
    },
    {
     "data": {
      "image/png": "[encoded data removed]",
      "text/plain": [
       "<Figure size 720x360 with 1 Axes>"
      ]
     },
     "execution_count": 44,
     "metadata": {},
     "output_type": "execute_result"
    }
   ],
   "source": [
    "#check a circuit on noise-free simulator\n",
    "job_simul = execute(real_circs[i_state_test], backend=simulator, shots=s_sim)\n",
    "print(project_device, \"circuit #\",i_state_test, \"on noise free simulator\")\n",
    "plot_histogram(job_simul.result().get_counts(),\n",
    "               legend=['noise free simulation'],\n",
    "               color = \"b\", figsize=(10.,5.))"
   ]
  },
  {
   "cell_type": "markdown",
   "metadata": {},
   "source": [
    "# run job"
   ]
  },
  {
   "cell_type": "code",
   "execution_count": 45,
   "metadata": {},
   "outputs": [
    {
     "name": "stdout",
     "output_type": "stream",
     "text": [
      "backend: ibmq_belem qubit_list: [0, 1, 2, 3, 4]\n",
      "DMY:  20_02_2021_08_13_28\n",
      "job id: 6030b6a75f4b0b6ef307075e\n",
      "Job Status: job has successfully run\n",
      "DMY:  20_02_2021_08_14_44 job id: 6030b6a75f4b0b6ef307075e\n"
     ]
    }
   ],
   "source": [
    "#markdown for demo\n",
    "#run the circuits\n",
    "nb_shots = 8192\n",
    "print(\"backend:\", device.name(), \"qubit_list:\", qubit_list)\n",
    "time_exp = time.strftime('%d_%m_%Y_%H_%M_%S')\n",
    "print(\"DMY: \",time_exp) \n",
    "job_real = execute(real_circs, backend=device, optimization_level=0, shots=nb_shots)\n",
    "job_real_id = job_real.job_id()\n",
    "print(\"job id:\", job_real_id)\n",
    "job_monitor(job_real)\n",
    "time_exp = time.strftime('%d_%m_%Y_%H_%M_%S')\n",
    "print(\"DMY: \",time_exp, \"job id:\", job_real_id)\n",
    "tot_results_real = job_real.result()\n",
    "\n",
    "empirical_dic ={}\n",
    "for i_state_count, state_count in enumerate(tot_results_real.get_counts()):\n",
    "    empirical_dic[str(i_state_count)] = state_count"
   ]
  },
  {
   "cell_type": "code",
   "execution_count": 46,
   "metadata": {},
   "outputs": [],
   "source": [
    "#markdown for safety\n",
    "json_dic_dumper(job_real_id,\"job_real_id_\"+ project_name)"
   ]
  },
  {
   "cell_type": "code",
   "execution_count": 47,
   "metadata": {},
   "outputs": [],
   "source": [
    "#markdown for safety at demo\n",
    "json_dic_dumper(empirical_dic,\"experimental_\"+ project_name)"
   ]
  },
  {
   "cell_type": "code",
   "execution_count": 48,
   "metadata": {},
   "outputs": [
    {
     "name": "stdout",
     "output_type": "stream",
     "text": [
      "backend: ibmq_belem qubit_list: [0, 1, 2, 3, 4]\n",
      "DMY:  20_02_2021_08_14_46\n",
      "job id: 6030b6f46595d95ba3f206b3\n",
      "Job Status: job has successfully run\n",
      "DMY:  20_02_2021_08_17_47 job id: 6030b6f46595d95ba3f206b3\n"
     ]
    }
   ],
   "source": [
    "#markdown for demo\n",
    "\n",
    "#2d JOB RUN\n",
    "nb_shots = 8192\n",
    "#run the circuits\n",
    "print(\"backend:\", device.name(), \"qubit_list:\", qubit_list)\n",
    "time_exp = time.strftime('%d_%m_%Y_%H_%M_%S')\n",
    "print(\"DMY: \",time_exp) \n",
    "job_test = execute(real_circs, backend=device, optimization_level=0, shots=nb_shots)\n",
    "job_test_id = job_test.job_id()\n",
    "print(\"job id:\", job_test_id)\n",
    "job_monitor(job_test)\n",
    "time_exp = time.strftime('%d_%m_%Y_%H_%M_%S')\n",
    "print(\"DMY: \",time_exp, \"job id:\", job_test_id)\n",
    "\n",
    "tot_results_test = job_test.result()\n",
    "\n",
    "test_dic ={}\n",
    "for i_state_count, state_count in enumerate(tot_results_test.get_counts()):\n",
    "    test_dic[str(i_state_count)] = state_count"
   ]
  },
  {
   "cell_type": "code",
   "execution_count": 49,
   "metadata": {},
   "outputs": [],
   "source": [
    "#markdown for safety at demo\n",
    "json_dic_dumper(job_test_id,\"job_test_id_\"+ project_name)\n",
    "json_dic_dumper(test_dic,\"test_\"+ project_name)"
   ]
  },
  {
   "cell_type": "markdown",
   "metadata": {},
   "source": [
    "### Load  the transpiled circuits that were actually run \n",
    "##### legacy: valid only for the GHZ Psi+ / W Phi- combination\n",
    "otherwise go instead to:\n",
    "#### \"Obtain the matrix of probability distribution of shape(nb_state,nb_labels) used by the classifier\"\n"
   ]
  },
  {
   "cell_type": "code",
   "execution_count": 52,
   "metadata": {},
   "outputs": [],
   "source": [
    "#changing keys of dictionary for merging:    \n",
    "def key_change(ini_dict, i_subset):\n",
    "    ini_list = []\n",
    "    len_ini = len(ini_dict)\n",
    "    for i in range(len_ini):\n",
    "        ini_list.append(str(i+i_subset*len_ini))\n",
    "    return dict(zip(ini_list, list(ini_dict.values()))) "
   ]
  },
  {
   "cell_type": "code",
   "execution_count": 53,
   "metadata": {},
   "outputs": [],
   "source": [
    "if program_name == \"QAD\":\n",
    "    #retrieve the data corresponding to the 1st project\n",
    "    lfc = list(Flag_char)\n",
    "    circ_ideal =[]\n",
    "    empirical_dic = {}\n",
    "\n",
    "    for i_subset, subset in enumerate(lfc):\n",
    "        qasm_circs_dic = json_dic_loader('qasm_circs_dic_QAD_'+device_name+'_'+ subset + zfilled)\n",
    "        j=0 # j included for project with several transpilation sessions for each device - not used here\n",
    "        qasm_circs = qasm_circs_dic[str(j)]\n",
    "        nb_circs = len(qasm_circs)        \n",
    "        for i_circs in range(nb_circs):\n",
    "            circ_ideal.append(QuantumCircuit().from_qasm_str(qasm_circs[i_circs]))\n",
    "        empirical_dic = {**empirical_dic,\n",
    "                     **key_change(json_dic_loader(\"experimental\"+\"_\"+mitig_name +\"_\"\\\n",
    "                                  +subset+zfilled), i_subset)}\n",
    "    test_dic = copy.deepcopy(empirical_dic)\n",
    "    #nb_states = len(circ_ideal)"
   ]
  },
  {
   "cell_type": "markdown",
   "metadata": {},
   "source": [
    "### Obtain the matrix of probability distribution of shape(nb_state,nb_labels) used by the classifier"
   ]
  },
  {
   "cell_type": "code",
   "execution_count": 54,
   "metadata": {},
   "outputs": [],
   "source": [
    "if program_name == \"AL2\":\n",
    "    empirical_dic = json_dic_loader('experimental_'+project_name) \n",
    "    test_dic = json_dic_loader('test_'+project_name) "
   ]
  },
  {
   "cell_type": "code",
   "execution_count": 55,
   "metadata": {},
   "outputs": [],
   "source": [
    "def rectify_counts(tot_res, test_cqi,mitigation,m_filter) :       \n",
    "        \n",
    "        void_counts = dict(zip(label_list, np.zeros(2**used_qubits)))\n",
    "        try:\n",
    "            counts_results_real_test = tot_res[str(test_cqi)]\n",
    "        except KeyError as error:            \n",
    "            counts_results_real_test = tot_res[test_cqi]\n",
    "\n",
    "        raw_counts_test = copy.deepcopy(void_counts)\n",
    "        raw_counts_test.update(counts_results_real_test)\n",
    "\n",
    "        if mitigation:\n",
    "            mitigated_results_test = meas_filter.apply(raw_counts_test, method = 'least_squares')\n",
    "            returned_counts = copy.deepcopy(void_counts)\n",
    "            returned_counts.update(mitigated_results_test)\n",
    "                        \n",
    "        else:\n",
    "            returned_counts = copy.deepcopy(raw_counts_test)\n",
    "            \n",
    "        return returned_counts"
   ]
  },
  {
   "cell_type": "markdown",
   "metadata": {},
   "source": [
    "### Obtain the matrix of probability distribution of shape(nb_state,nb_labels) used by the classifier"
   ]
  },
  {
   "cell_type": "code",
   "execution_count": 56,
   "metadata": {},
   "outputs": [],
   "source": [
    "def get_clean_matrix(dic, mitigation,m_filter):\n",
    "    clean_matrix =  np.ndarray((nb_states,nb_labels)) \n",
    "    for i_state in range(nb_states):\n",
    "        rectified_counts = rectify_counts(dic,i_state, mitigation,m_filter) # get a rectified counts dictionary       \n",
    "        clean_matrix[i_state, :] = list(rectified_counts.values())\n",
    "    clean_matrix = clean_matrix/clean_matrix.sum(axis=1, keepdims=True)\n",
    "    return clean_matrix  "
   ]
  },
  {
   "cell_type": "code",
   "execution_count": 57,
   "metadata": {},
   "outputs": [
    {
     "name": "stdout",
     "output_type": "stream",
     "text": [
      "first and last rows of the probability distribution matrix of dimension 20x32\n",
      "[[4.500e-03 1.860e-02 1.540e-02 1.000e-03 1.930e-02 2.200e-03 1.300e-03\n",
      "  1.100e-03 2.930e-02 1.370e-01 1.344e-01 5.700e-03 1.383e-01 1.040e-02\n",
      "  1.100e-02 8.400e-03 2.980e-02 1.373e-01 1.272e-01 3.800e-03 1.245e-01\n",
      "  1.140e-02 1.070e-02 8.100e-03 9.000e-04 2.400e-03 2.300e-03 4.000e-04\n",
      "  2.600e-03 1.000e-04 6.000e-04 1.000e-04]]\n",
      "   ...\n",
      "[[0.0166 0.0024 0.004  0.0114 0.0148 0.0031 0.0049 0.0123 0.0298 0.0055\n",
      "  0.007  0.0199 0.1431 0.0238 0.037  0.1409 0.0216 0.0052 0.005  0.0149\n",
      "  0.0929 0.0145 0.0215 0.0712 0.1252 0.0201 0.0243 0.0729 0.0148 0.0032\n",
      "  0.0055 0.0109]]\n"
     ]
    }
   ],
   "source": [
    "# We need to create a first matrix version. It will then vary for each considered set of distribution\n",
    "mitigation = False\n",
    "PD_exper = get_clean_matrix(empirical_dic, mitigation=mitigation,\n",
    "                            m_filter=meas_filter) \n",
    "print_first_and_last_row(PD_exper)"
   ]
  },
  {
   "cell_type": "code",
   "execution_count": 58,
   "metadata": {},
   "outputs": [
    {
     "name": "stdout",
     "output_type": "stream",
     "text": [
      "first and last rows of the probability distribution matrix of dimension 20x32\n",
      "[[3.700e-03 1.820e-02 1.700e-02 1.100e-03 1.870e-02 1.200e-03 1.200e-03\n",
      "  1.700e-03 3.190e-02 1.353e-01 1.350e-01 5.400e-03 1.333e-01 1.140e-02\n",
      "  1.110e-02 8.400e-03 3.210e-02 1.367e-01 1.293e-01 6.600e-03 1.237e-01\n",
      "  9.900e-03 1.090e-02 6.300e-03 5.000e-04 2.700e-03 2.300e-03 1.000e-04\n",
      "  3.400e-03 5.000e-04 5.000e-04 1.000e-04]]\n",
      "   ...\n",
      "[[0.02   0.0032 0.0066 0.0138 0.0151 0.0024 0.005  0.0146 0.0255 0.0038\n",
      "  0.0096 0.02   0.149  0.0215 0.0483 0.1361 0.0215 0.0039 0.0066 0.0159\n",
      "  0.0895 0.0114 0.0231 0.0708 0.1211 0.0181 0.0275 0.0669 0.0142 0.0023\n",
      "  0.0039 0.0088]]\n"
     ]
    }
   ],
   "source": [
    "if program_name == \"QAD\":\n",
    "    PD_test = copy.deepcopy(PD_exper)\n",
    "elif program_name == \"AL2\":\n",
    "    mitigation = False\n",
    "    PD_test = get_clean_matrix(test_dic, mitigation=mitigation,\n",
    "                                m_filter=meas_filter) \n",
    "    print_first_and_last_row(PD_test)"
   ]
  },
  {
   "cell_type": "markdown",
   "metadata": {},
   "source": [
    "## Monte Carlo simulation for the real device"
   ]
  },
  {
   "cell_type": "code",
   "execution_count": 64,
   "metadata": {},
   "outputs": [],
   "source": [
    "# here will be appended the data we want for the final plot of this notebook\n",
    "empirical_data_list=[]"
   ]
  },
  {
   "cell_type": "markdown",
   "metadata": {
    "scrolled": false
   },
   "source": [
    "###  you may want to skip this cell and get stored curves by running the next cell"
   ]
  },
  {
   "cell_type": "code",
   "execution_count": 65,
   "metadata": {},
   "outputs": [
    {
     "name": "stdout",
     "output_type": "stream",
     "text": [
      "AL2_Bel_M000 dict_keys(['empirical', 'ideal_sim']) jensenshannon\n",
      "started 20/02/2021 08:32:15 AL2_Bel mitigation no jensenshannon empirical\n",
      "10 0.094565 [ 824  791 1122  977  973 1054 1437 1267  863  954  334 1098  990  329\n",
      "  764  755 1134  790 1509  948]\n",
      "20 0.008025 [ 85  53 111  74  78  75 205  97  50  53  21  91  62  13  52  65 100  56\n",
      " 163 101]\n",
      "30 0.0007599999999999999 [ 9  4 10  7  7  4 35  6  2  7  0  7  9  0  4  7  7  5 16  6]\n",
      "40 0.00014 [ 0  1  2  0  1  0 16  2  0  0  0  0  1  1  0  1  1  1  1  0]\n",
      "safe_shot_nb 41 safe_rate 0.0008941724941724969 nb trials: 10000\n",
      "savgol interpolated error rate mean: 0.0001 min: -0.0 max: 0.0009 for [6]\n",
      "completed 20/02/2021 09:03:30 AL2_Bel mitigation no jensenshannon empirical \n",
      "\n",
      "started 20/02/2021 09:03:30 AL2_Bel mitigation no jensenshannon ideal_sim\n",
      "10 0.058820000000000004 [302 313 813 430 740 595 666 657 633 665 249 894 595 208 511 327 969 553\n",
      " 967 677]\n",
      "20 0.008525 [ 17  22 146  30 131  82  63  92  90  92  11 192  90  15  54  22 187  58\n",
      " 193 118]\n",
      "30 0.0015199999999999999 [ 1  2 35  5 32 18 10 18 19 17  0 30  9  1  7  1 29  9 44 17]\n",
      "40 0.000205 [0 1 9 0 4 1 2 4 1 4 0 1 0 0 1 0 6 0 7 0]\n",
      "50 2.5e-05 [0 0 2 0 0 1 0 1 0 0 0 0 1 0 0 0 0 0 0 0]\n",
      "safe_shot_nb 45 safe_rate 0.0009934731934731964 nb trials: 10000\n",
      "savgol interpolated error rate mean: 0.0001 min: -0.0 max: 0.001 for [2]\n",
      "completed 20/02/2021 09:37:20 AL2_Bel mitigation no jensenshannon ideal_sim \n",
      "\n",
      "AL2_Bel_M000 dict_keys(['empirical', 'ideal_sim']) sqeuclidean\n",
      "started 20/02/2021 09:37:20 AL2_Bel mitigation no sqeuclidean empirical\n",
      "10 0.09499500000000001 [ 886  787 1110  981 1057 1094 1486 1175  835  867  333 1089 1056  326\n",
      "  748  750 1163  799 1501  956]\n",
      "20 0.007745 [ 80  53  93  77  81  75 192  82  49  63   9  92  66  14  47  68  95  70\n",
      " 159  84]\n",
      "30 0.0007700000000000001 [ 6  3  7 10  5  2 33 10  2  5  2 11  8  1  4  5 14  6 15  5]\n",
      "40 0.00011 [2 1 1 1 0 0 6 0 0 0 0 1 0 1 0 0 2 0 6 1]\n",
      "safe_shot_nb 38 safe_rate 0.000988811188811192 nb trials: 10000\n",
      "savgol interpolated error rate mean: 0.0002 min: -0.0 max: 0.001 for [6]\n",
      "completed 20/02/2021 10:06:33 AL2_Bel mitigation no sqeuclidean empirical \n",
      "\n",
      "started 20/02/2021 10:06:33 AL2_Bel mitigation no sqeuclidean ideal_sim\n",
      "10 0.0573 [ 283  354  777  362  680  631  620  688  640  627  219  829  583  203\n",
      "  509  333  951  520 1006  645]\n",
      "20 0.008834999999999999 [ 22  26 170  26 117  86  69  98  85  95  12 161  77  11  65  24 216  80\n",
      " 206 121]\n",
      "30 0.001395 [ 1  4 52  2 16 12  7 15 13 17  0 20  7  0  3  4 40  6 38 22]\n",
      "40 0.00022 [ 0  0 11  1  5  2  0  2  1  4  0  6  0  0  0  1  1  1  5  4]\n",
      "safe_shot_nb 41 safe_rate 0.0009088578088578118 nb trials: 10000\n",
      "savgol interpolated error rate mean: 0.0002 min: -0.0 max: 0.0009 for [2]\n",
      "completed 20/02/2021 10:37:28 AL2_Bel mitigation no sqeuclidean ideal_sim \n",
      "\n",
      "AL2_Bel_M000 dict_keys(['empirical', 'ideal_sim']) jensenshannon\n",
      "started 20/02/2021 10:37:29 AL2_Bel mitigation yes jensenshannon empirical\n",
      "10 0.03633 [ 67 204 570 358 690 650 364 713 423 578  22 443 359  42 258  90 425 185\n",
      " 537 288]\n",
      "20 0.001215 [ 0  3 26  6 29 29  5 27 17 27  0 17  7  1  4  1  9  5 24  6]\n",
      "30 5.5e-05 [0 0 0 0 4 1 1 2 0 1 0 0 0 0 1 0 0 0 1 0]\n",
      "safe_shot_nb 25 safe_rate 0.0008351981351981379 nb trials: 10000\n",
      "savgol interpolated error rate mean: 0.0003 min: -0.0 max: 0.0008 for [4]\n",
      "completed 20/02/2021 10:58:41 AL2_Bel mitigation yes jensenshannon empirical \n",
      "\n",
      "started 20/02/2021 10:58:41 AL2_Bel mitigation yes jensenshannon ideal_sim\n",
      "10 0.023275 [ 65 117 445 144 397 376 244 397 361 354  37 319 169  31 119  61 324 133\n",
      " 386 176]\n",
      "20 0.0018899999999999998 [ 1  4 36  7 54 39  7 30 31 44  1 21  7  0  6  0 35 11 36  8]\n",
      "30 0.000125 [0 0 7 0 4 1 1 2 2 2 0 2 0 0 0 0 1 0 3 0]\n",
      "safe_shot_nb 29 safe_rate 0.000690209790209793 nb trials: 10000\n",
      "savgol interpolated error rate mean: 0.0002 min: -0.0 max: 0.0007 for [2]\n",
      "completed 20/02/2021 11:23:03 AL2_Bel mitigation yes jensenshannon ideal_sim \n",
      "\n",
      "AL2_Bel_M000 dict_keys(['empirical', 'ideal_sim']) sqeuclidean\n",
      "started 20/02/2021 11:23:03 AL2_Bel mitigation yes sqeuclidean empirical\n",
      "10 0.036114999999999994 [ 77 182 624 325 708 621 399 682 407 545  19 419 351  43 242 107 432 186\n",
      " 590 264]\n",
      "20 0.001235 [ 1  8 25  5 29 23  6 28  9 26  0 22  9  0  8  3  9  1 27  8]\n",
      "30 7e-05 [0 0 0 0 3 0 0 3 1 4 0 1 0 0 0 0 0 0 2 0]\n",
      "safe_shot_nb 25 safe_rate 0.0008645687645687676 nb trials: 10000\n",
      "savgol interpolated error rate mean: 0.0002 min: -0.0 max: 0.0009 for [4]\n",
      "completed 20/02/2021 11:45:03 AL2_Bel mitigation yes sqeuclidean empirical \n",
      "\n",
      "started 20/02/2021 11:45:03 AL2_Bel mitigation yes sqeuclidean ideal_sim\n",
      "10 0.02332 [ 77 149 379 134 419 328 242 365 364 403  46 288 212  30 134  61 311 150\n",
      " 379 193]\n",
      "20 0.00205 [ 1  2 50  5 51 36 10 34 37 50  2 18 16  0  7  2 27 10 42 10]\n",
      "30 0.000135 [0 0 3 0 4 7 1 3 2 2 0 4 0 0 0 0 0 0 1 0]\n",
      "safe_shot_nb 29 safe_rate 0.0007785547785547815 nb trials: 10000\n",
      "savgol interpolated error rate mean: 0.0002 min: -0.0 max: 0.0008 for [2]\n",
      "completed 20/02/2021 12:08:27 AL2_Bel mitigation yes sqeuclidean ideal_sim \n",
      "\n"
     ]
    }
   ],
   "source": [
    "# you may want to skip this cell as it will require a long time\n",
    "# because of the high number of trials required by the Monte Carlo simulation for each nb o shots value\n",
    "\n",
    "# the following values are defined in the study summary notebook:\n",
    "trials=10000 # should be 1000 if not demo\n",
    "window=11\n",
    "epsilon = .001\n",
    "max_shots = 500\n",
    "pol=2\n",
    "\n",
    "verbosality = 10 # printing step for intermediate results when increasing the experiment shot number \n",
    "\n",
    "# In this section you can easily make your choice of combinations:\n",
    "# mitigation or not, metric, model \n",
    "\n",
    "mitigation_dic =  {\"no\":False, \"yes\" : True} \n",
    "#mitigation_dic =  {\"no\":False} \n",
    "#mitigation_dic =  {\"yes\" : True} \n",
    "\n",
    "o_metrics_desired = ['jensenshannon', 'sqeuclidean']\n",
    "#o_metrics_desired = ['jensenshannon']\n",
    "#o_metrics_desired = ['sqeuclidean']\n",
    "\n",
    "model_dic = {\"empirical\": PD_exper, \"ideal_sim\": PD_ideal}\n",
    "#model_dic = {\"empirical\": PD_exper}\n",
    "#model_dic = {\"ideal_sim\": PD_ideal}\n",
    "\n",
    "# Obtain a sequence of results in form of a list of dictionaries\n",
    "\n",
    "for mit_str, mitigation in mitigation_dic.items():\n",
    "    # here we toggle PD_exper as we toggled mitigation status\n",
    "    PD_exper = get_clean_matrix(empirical_dic, mitigation=mitigation,\n",
    "                            m_filter=meas_filter)\n",
    "    PD_test = get_clean_matrix(test_dic, mitigation=mitigation,\n",
    "                            m_filter=meas_filter)\n",
    "    for o_metric in o_metrics_desired:\n",
    "        print(project_name, model_dic.keys(), o_metric)        \n",
    "        for model_name in model_dic.keys():\n",
    "            add_single_dic(empirical_data_list)"
   ]
  },
  {
   "cell_type": "code",
   "execution_count": 66,
   "metadata": {},
   "outputs": [],
   "source": [
    "#markdown fo security\n",
    "json_dic_dumper(empirical_data_list,'Tnemp_data_list_'+project_name)"
   ]
  },
  {
   "cell_type": "code",
   "execution_count": 67,
   "metadata": {},
   "outputs": [],
   "source": [
    "# get the stored results of the Monte Carlo simulation in case you skipped the previous step\n",
    "if len(empirical_data_list) == 0:\n",
    "    empirical_data_list  = json_dic_loader('Tnemp_data_list_'+project_name) "
   ]
  },
  {
   "cell_type": "code",
   "execution_count": 68,
   "metadata": {},
   "outputs": [
    {
     "data": {
      "text/plain": [
       "<Figure size 432x288 with 0 Axes>"
      ]
     },
     "metadata": {},
     "output_type": "display_data"
    },
    {
     "data": {
      "image/png": "[encoded data removed]",
      "text/plain": [
       "<Figure size 864x576 with 1 Axes>"
      ]
     },
     "metadata": {
      "needs_background": "light"
     },
     "output_type": "display_data"
    }
   ],
   "source": [
    "# have a look at the mean error rate curves and error rate at save shot number n_s\n",
    "# NB the r_hat_mean curves and legend reported r_hat_max errors are the unsmoothed values \n",
    "opl.plot_curves(ideal_data_list + empirical_data_list,\n",
    "                np.array(range(2+len(empirical_data_list))),\n",
    "            \"$\\epsilon=0.001$\" , [\"device\"],\n",
    "            [\"model\",\"metric\",\"mitigation\",\"id_gates\"],\n",
    "            right_xlimit = 80, bottom_ylimit = -0.02, top_ylimit = 1)"
   ]
  },
  {
   "cell_type": "code",
   "execution_count": null,
   "metadata": {},
   "outputs": [],
   "source": [
    "import winsound\n",
    "duration = 2000  # milliseconds \n",
    "freq = 800  # Hz\n",
    "winsound.Beep(freq, duration)"
   ]
  },
  {
   "cell_type": "code",
   "execution_count": null,
   "metadata": {},
   "outputs": [],
   "source": [
    "import qiskit.tools.jupyter\n",
    "%qiskit_version_table"
   ]
  },
  {
   "cell_type": "code",
   "execution_count": null,
   "metadata": {},
   "outputs": [],
   "source": []
  }
 ],
 "metadata": {
  "kernelspec": {
   "display_name": "Python 3",
   "language": "python",
   "name": "python3"
  },
  "language_info": {
   "codemirror_mode": {
    "name": "ipython",
    "version": 3
   },
   "file_extension": ".py",
   "mimetype": "text/x-python",
   "name": "python",
   "nbconvert_exporter": "python",
   "pygments_lexer": "ipython3",
   "version": "3.8.1"
  },
  "varInspector": {
   "cols": {
    "lenName": 16,
    "lenType": 16,
    "lenVar": 40
   },
   "kernels_config": {
    "python": {
     "delete_cmd_postfix": "",
     "delete_cmd_prefix": "del ",
     "library": "var_list.py",
     "varRefreshCmd": "print(var_dic_list())"
    },
    "r": {
     "delete_cmd_postfix": ") ",
     "delete_cmd_prefix": "rm(",
     "library": "var_list.r",
     "varRefreshCmd": "cat(var_dic_list()) "
    }
   },
   "types_to_exclude": [
    "module",
    "function",
    "builtin_function_or_method",
    "instance",
    "_Feature"
   ],
   "window_display": false
  }
 },
 "nbformat": 4,
 "nbformat_minor": 2
}
