{
 "cells": [
  {
   "cell_type": "markdown",
   "metadata": {},
   "source": [
    "# Classification of quantum states with high dimensional entanglement "
   ]
  },
  {
   "cell_type": "markdown",
   "metadata": {},
   "source": [
    "## Circuits and computations\n",
    "Version compatible with 1st and 2d pilot studies"
   ]
  },
  {
   "cell_type": "code",
   "execution_count": 1,
   "metadata": {},
   "outputs": [],
   "source": [
    "import numpy as np\n",
    "import copy\n",
    "from qiskit import QuantumRegister, QuantumCircuit, ClassicalRegister, Aer, execute, transpile, assemble\n",
    "from qiskit.tools.visualization import *\n",
    "from qiskit.ignis.mitigation.measurement import (complete_meas_cal, tensored_meas_cal,\n",
    "                                                 CompleteMeasFitter, TensoredMeasFitter)\n",
    "import json\n",
    "from scipy.signal import savgol_filter\n",
    "import time\n",
    "from qiskit.tools.monitor import job_monitor"
   ]
  },
  {
   "cell_type": "code",
   "execution_count": 2,
   "metadata": {},
   "outputs": [],
   "source": [
    "from o_plot import opl # utilities for result plot\n",
    "from c_utils import new_cut # circuit building utilities"
   ]
  },
  {
   "cell_type": "code",
   "execution_count": 3,
   "metadata": {},
   "outputs": [],
   "source": [
    "def json_dic_loader(dic_name):\n",
    "    f = open(data_directory+dic_name+'.json')\n",
    "    return json.load(f)"
   ]
  },
  {
   "cell_type": "code",
   "execution_count": 4,
   "metadata": {},
   "outputs": [],
   "source": [
    "# common code for calling the classifier for ideal device and for real devices\n",
    "def add_single_dic(target_data_list, optimizer_type='old'):\n",
    "    start_time = time.time()                \n",
    "           \n",
    "    print(\"started\",time.strftime('%d/%m/%Y %H:%M:%S'),mitig_name,\n",
    "          \"mitigation\",mit_str,o_metric,model_name)\n",
    "    \n",
    "    # added for D,S,M choice. Mainstream : mixed set of 20 states\n",
    "    first = 0\n",
    "    last = nb_states\n",
    "    if unique_char == \"D\":\n",
    "        last = int(nb_states/2)\n",
    "    elif unique_char == \"S\":\n",
    "        first = int(nb_states/2)\n",
    "    \n",
    "    if optimizer_type=='old':\n",
    "        from o_utils.ora import provide_error_curve as provide_error_curve \n",
    "    elif optimizer_type=='new':\n",
    "        from o_utils.ora import provide_error_curve_new as provide_error_curve\n",
    "    else:\n",
    "        raise ValueErrror('define a proper optimizer type!')\n",
    "        \n",
    "    \n",
    "    # get the classifier error curve in function of the number of shot and the \"safe shot number\" \n",
    "    error_curve, safe_rate, ernb = provide_error_curve(PD_model=model_dic[model_name][first:last,:],\n",
    "                                                   PD_test=PD_test[first:last,:],\n",
    "                                                   trials=trials,\n",
    "                                                   window=window,\n",
    "                                                   epsilon=epsilon,\n",
    "                                                   max_shots=max_shots,\n",
    "                                                   pol=pol,\n",
    "                                                   verbosality=verbosality)\n",
    "\n",
    "\n",
    "    tail = savgol_filter(ernb, window, pol, axis=0)\n",
    "    len_curve = len(error_curve)\n",
    "    safe_shot_nb = len_curve - int((window-1)/2) # OK\n",
    "    print('safe_shot_nb',safe_shot_nb, 'safe_rate',safe_rate, \"nb trials:\",trials)\n",
    "    err_rates = tail[int((window-1)/2),:]/trials \n",
    "    err_rate_max = np.max(err_rates)\n",
    "    err_rate_min = np.min(err_rates)\n",
    "    r=4\n",
    "    print(\"savgol interpolated error rate mean:\", np.round(np.mean(err_rates),r),\n",
    "          \"min:\", np.round(err_rate_min,r),\n",
    "          \"max:\", np.round(err_rate_max,r), \"for\",\n",
    "          [ien for ien, jen in enumerate(err_rates) if jen == err_rate_max])\n",
    "    end_time = time.time()\n",
    "    \n",
    "    #save the data in a list of dictionaries :\n",
    "    single_dic={\"project\":mitig_name,\n",
    "                \"id_gates\":id_gates,\n",
    "                \"mitigation\":mit_str,\n",
    "                \"model\":model_name,\n",
    "                \"metric\":o_metric, \"device\":project_device,                              \n",
    "                \"curve_length\":len_curve, \n",
    "                \"shots\": safe_shot_nb,\n",
    "                \"shots_rate\": safe_rate,                                                                                    \n",
    "                \"error_curve\":error_curve,\n",
    "                \"trials\":trials,\"window\":window,\n",
    "                \"epsilon\":epsilon,\"SG_pol\": pol,                         \n",
    "                \"computation_time\":end_time-start_time,\n",
    "                \"time_completed\":time.strftime('%d/%m/%Y %H:%M:%S'),\n",
    "                \"trials\":trials,\n",
    "                \"QV\": QV_dic[project_device],\n",
    "                \"fidelity\": fidelity_dic[project_device],\n",
    "                \"error_nb\":ernb}\n",
    "    target_data_list.append(single_dic)\n",
    "    \n",
    "    print(\"completed\",time.strftime('%d/%m/%Y %H:%M:%S'),mitig_name,\n",
    "          \"mitigation\",mit_str,o_metric,model_name,\"\\n\")"
   ]
  },
  {
   "cell_type": "markdown",
   "metadata": {},
   "source": [
    "## Set up the simulator and layout for 5 qubits"
   ]
  },
  {
   "cell_type": "code",
   "execution_count": 5,
   "metadata": {},
   "outputs": [],
   "source": [
    "simulator = Aer.get_backend('qasm_simulator')"
   ]
  },
  {
   "cell_type": "code",
   "execution_count": 6,
   "metadata": {},
   "outputs": [],
   "source": [
    "#specify the layout of the devices\n",
    "used_qubits = 5\n",
    "qubit_list = [0,1,2,3,4]"
   ]
  },
  {
   "cell_type": "code",
   "execution_count": 7,
   "metadata": {},
   "outputs": [],
   "source": [
    "#short_version = False\n",
    "#program_name=\"QAD\" # 1st pilot project GHZ Psi+ / W Phi+\n",
    "program_name=\"AL2\" # 2d pilot project W Psi+ / Wbar Phi+\n",
    "Flag_char = \"DS\" # this for a mix of two types of separable states\n",
    "if len(Flag_char) >= 2:\n",
    "    unique_char = \"M\"\n",
    "else:\n",
    "    unique_char = Flag_char"
   ]
  },
  {
   "cell_type": "code",
   "execution_count": 8,
   "metadata": {},
   "outputs": [],
   "source": [
    "# These dictionaries for the devices used in the study\n",
    "if program_name == \"QAD\":\n",
    "    fidelity_dic = {'ibmq_athens': 0.925110, 'ibmq_valencia': 0.809101, 'ibmq_ourense': 0.802380,\n",
    "                \"ibmqx2\": 0.627392, 'ibmq_santiago': 0.919399, 'ibmq_vigo': 0.908840, 'ideal_device': 1.0}\n",
    "    data_directory = \"data_files/\"\n",
    "elif program_name == \"AL2\":\n",
    "    fidelity_dic = {'ibmq_athens': 0.910145, 'ibmq_valencia': 0.794262, 'ibmq_ourense': 0.818974,\n",
    "                \"ibmqx2\": 0.359528, 'ibmq_santiago': 0.900024, 'ibmq_vigo': 0.841831, 'ideal_device': 1.0}\n",
    "    data_directory = \"data2_files/\"\n",
    "QV_dic = {'ibmq_athens': 32.0, 'ibmq_valencia': 16.0, 'ibmq_ourense': 8.0, \n",
    "          \"ibmqx2\": 8.0, 'ibmq_santiago': 32.0, 'ibmq_vigo': 16.0, 'ideal_device': np.inf}\n",
    "dev_dic =  {'ibmq_santiago': \"San\",'ibmq_athens': \"Ath\", 'ibmq_valencia': \"Val\", 'ibmq_vigo': 'Vig','ibmq_ourense': \"Our\",\n",
    "               \"ibmqx2\": 'Yor',  'ideal_device': \"Ide\"}"
   ]
  },
  {
   "cell_type": "code",
   "execution_count": 9,
   "metadata": {},
   "outputs": [],
   "source": [
    "# specify the device: here first the ideal noise-free device\n",
    "project_device = 'ideal_device'\n",
    "device_name = dev_dic[project_device]"
   ]
  },
  {
   "cell_type": "code",
   "execution_count": 10,
   "metadata": {},
   "outputs": [],
   "source": [
    "# specify the nb of id gates between state creation and measurements\n",
    "# zero for the ideal device\n",
    "id_gates = 0\n",
    "str_nb_id = str(id_gates)\n",
    "zfilled = str_nb_id.zfill(4-len(str_nb_id))"
   ]
  },
  {
   "cell_type": "code",
   "execution_count": 11,
   "metadata": {},
   "outputs": [
    {
     "name": "stdout",
     "output_type": "stream",
     "text": [
      "AL2_Ide\n",
      "AL2_Ide_M000\n"
     ]
    }
   ],
   "source": [
    "# tail of the file names for RAM storage\n",
    "mitig_name = program_name + \"_\" + device_name\n",
    "project_name = mitig_name + \"_\" + unique_char + zfilled\n",
    "print(mitig_name)\n",
    "print(project_name)"
   ]
  },
  {
   "cell_type": "code",
   "execution_count": 12,
   "metadata": {},
   "outputs": [
    {
     "name": "stdout",
     "output_type": "stream",
     "text": [
      "32 ['00000', '00001', '00010', '00011', '00100', '00101', '00110', '00111', '01000', '01001', '01010', '01011', '01100', '01101', '01110', '01111', '10000', '10001', '10010', '10011', '10100', '10101', '10110', '10111', '11000', '11001', '11010', '11011', '11100', '11101', '11110', '11111']\n"
     ]
    }
   ],
   "source": [
    "# establish the result label list\n",
    "# meas_calibs will be used for mitigation in the real device section\n",
    "qr = QuantumRegister(used_qubits) \n",
    "meas_calibs, label_list = complete_meas_cal(qubit_list=qubit_list, qr=qr, circlabel='mcal')\n",
    "nb_labels=len(label_list)\n",
    "print(nb_labels,label_list)"
   ]
  },
  {
   "cell_type": "code",
   "execution_count": 13,
   "metadata": {},
   "outputs": [
    {
     "data": {
      "text/plain": [
       "32"
      ]
     },
     "execution_count": 13,
     "metadata": {},
     "output_type": "execute_result"
    }
   ],
   "source": [
    "len(meas_calibs)"
   ]
  },
  {
   "cell_type": "code",
   "execution_count": 14,
   "metadata": {},
   "outputs": [],
   "source": [
    "# permutation list\n",
    "# here it is simple to write down the list, \n",
    "# but a version using itertools will be wellcome for >5 qubits projects\n",
    "if used_qubits == 5:\n",
    "    q_perm = [[0, 1, 2, 3, 4], [0, 1, 3, 2, 4], [0, 1, 4, 2, 3], [0, 2, 3, 1, 4], [0, 2, 4, 1, 3],\n",
    "          [0, 3, 4, 1, 2], [1, 2, 3, 0, 4], [1, 2, 4, 0, 3], [1, 3, 4, 0, 2], [2, 3, 4, 0, 1]]\n",
    "else:\n",
    "    print(\"work in progress - meanwhile please provide the list of permutations\")"
   ]
  },
  {
   "cell_type": "markdown",
   "metadata": {},
   "source": [
    "## Create the quantum states"
   ]
  },
  {
   "cell_type": "code",
   "execution_count": 15,
   "metadata": {},
   "outputs": [
    {
     "data": {
      "text/plain": [
       "['W', 'Psi+', 'Wbar', 'Phi+']"
      ]
     },
     "execution_count": 15,
     "metadata": {},
     "output_type": "execute_result"
    }
   ],
   "source": [
    "# define the two subsets of 10 separable states\n",
    "if program_name == \"QAD\":\n",
    "    state_1a = [\"W\",\"Phi+\"]\n",
    "    state_1b = [\"GHZ\",\"Psi+\"]\n",
    "elif program_name == \"ALT\" or \"AL2\":\n",
    "    state_1a = [\"W\",\"Psi+\"]\n",
    "    state_1b = [\"Wbar\",\"Phi+\"]\n",
    "l_states = state_1a+state_1b\n",
    "l_states"
   ]
  },
  {
   "cell_type": "code",
   "execution_count": 16,
   "metadata": {},
   "outputs": [],
   "source": [
    "# version 20 circuits for demonstration\n",
    "# (in the version run on real devices: two batches of 10 circuits, \"shallow\" and \"deep\")\n",
    "\n",
    "# these circuits limited to state creation are ready to be saved \n",
    "# for  ultimately building circuits adapted to noisy simulator and real devices\n",
    "# as option, these circuits will include a row of id gates between creation and measurements\n",
    "\n",
    "circ_ori = []\n",
    "for i_s in range(0,len(l_states),2):\n",
    "    for perm in q_perm:\n",
    "            mycircuit = QuantumCircuit(used_qubits, used_qubits)                                   \n",
    "            mycircuit = new_cut.circuit_builder(mycircuit, perm, l_states[i_s],l_states[i_s+1])\n",
    "            circ_ori.append(mycircuit)"
   ]
  },
  {
   "cell_type": "code",
   "execution_count": 17,
   "metadata": {},
   "outputs": [],
   "source": [
    "# add measurement section to the circuit set newly created:\n",
    "nb_states = len(circ_ori)\n",
    "circ_ideal = copy.deepcopy(circ_ori)\n",
    "for i_state in range(nb_states):\n",
    "    new_cut.add_barrier_and_measure(circ_ideal[i_state],qubit_list)"
   ]
  },
  {
   "cell_type": "code",
   "execution_count": 18,
   "metadata": {},
   "outputs": [],
   "source": [
    "ideal_dic = {}"
   ]
  },
  {
   "cell_type": "markdown",
   "metadata": {},
   "source": [
    "## Obtain result distributions on  noise free simulator"
   ]
  },
  {
   "cell_type": "markdown",
   "metadata": {},
   "source": [
    "### Obtain the matrix of probability distribution of shape(nb_state,nb_labels) used by the classifier"
   ]
  },
  {
   "cell_type": "code",
   "execution_count": 19,
   "metadata": {},
   "outputs": [],
   "source": [
    "# try loading the dictionary of results if its creation was skipped\n",
    "if len(ideal_dic) == 0:\n",
    "    ideal_dic = json_dic_loader(\"ideal_dic_\"+project_name)"
   ]
  },
  {
   "cell_type": "code",
   "execution_count": 20,
   "metadata": {},
   "outputs": [],
   "source": [
    "nb_states = len(ideal_dic)\n",
    "nb_labels = len(list(ideal_dic.values())[0])\n",
    "s_sim = sum(list(ideal_dic.values())[0].values())"
   ]
  },
  {
   "cell_type": "code",
   "execution_count": 21,
   "metadata": {},
   "outputs": [],
   "source": [
    "def print_first_and_last_row(PDM):\n",
    "    print(\"first and last rows of the probability distribution matrix of dimension \"+str(nb_states)+\"x\"+str(nb_labels))\n",
    "    print(np.round(PDM[0:1,:],4))\n",
    "    print(\"   ...\")\n",
    "    print(np.round(PDM[-1:,:],4))"
   ]
  },
  {
   "cell_type": "code",
   "execution_count": 22,
   "metadata": {},
   "outputs": [
    {
     "name": "stdout",
     "output_type": "stream",
     "text": [
      "first and last rows of the probability distribution matrix of dimension 20x32\n",
      "[[0.     0.     0.     0.     0.     0.     0.     0.     0.     0.1667\n",
      "  0.1667 0.     0.1667 0.     0.     0.     0.     0.1667 0.1667 0.\n",
      "  0.1667 0.     0.     0.     0.     0.     0.     0.     0.     0.\n",
      "  0.     0.    ]]\n",
      "   ...\n",
      "[[0.     0.     0.     0.     0.     0.     0.     0.     0.     0.\n",
      "  0.     0.     0.1667 0.     0.     0.1667 0.     0.     0.     0.\n",
      "  0.1667 0.     0.     0.1667 0.1667 0.     0.     0.1667 0.     0.\n",
      "  0.     0.    ]]\n"
     ]
    }
   ],
   "source": [
    "PD_ideal =  np.ndarray((nb_states,nb_labels))\n",
    "for i_state in range(nb_states):\n",
    "    PD_ideal[i_state, :] = list(ideal_dic[str(i_state)].values())\n",
    "# now a little trick to get the ideal values from the simulator approximated values\n",
    "with np.errstate(divide='ignore'): # ignore the divide by zero warning\n",
    "    PD_ideal = 1/np.round(s_sim/(PD_ideal))\n",
    "# have a look at the matrix head and tail:\n",
    "print_first_and_last_row(PD_ideal)"
   ]
  },
  {
   "cell_type": "markdown",
   "metadata": {},
   "source": [
    "## Monte Carlo simulation for the ideal device"
   ]
  },
  {
   "cell_type": "code",
   "execution_count": 23,
   "metadata": {},
   "outputs": [],
   "source": [
    "# here will be appended the data we want for the curve plot \n",
    "ideal_data_list=[]"
   ]
  },
  {
   "cell_type": "markdown",
   "metadata": {
    "scrolled": false
   },
   "source": [
    "###  Old optimizer"
   ]
  },
  {
   "cell_type": "code",
   "execution_count": 24,
   "metadata": {},
   "outputs": [
    {
     "name": "stdout",
     "output_type": "stream",
     "text": [
      "started 30/05/2021 11:01:21 AL2_Ide mitigation Na jensenshannon ideal_sim\n",
      "5 0.03075 [ 42  57  48  33  29  95  37  34  53 118  17   3   3   1   3   1  12  10\n",
      "  15   4]\n",
      "10 0.0026 [6 3 5 5 2 5 3 5 7 7 0 1 0 2 0 0 1 0 0 0]\n",
      "15 0.00075 [3 1 0 2 0 2 2 2 0 2 1 0 0 0 0 0 0 0 0 0]\n",
      "safe_shot_nb 17 safe_rate 0.0005142857142857139 nb trials: 1000\n",
      "savgol interpolated error rate mean: 0.0001 min: -0.0002 max: 0.0005 for [9]\n",
      "completed 30/05/2021 11:02:29 AL2_Ide mitigation Na jensenshannon ideal_sim \n",
      "\n",
      "started 30/05/2021 11:02:29 AL2_Ide mitigation Na sqeuclidean ideal_sim\n",
      "5 0.03005 [ 40  42  58  38  39  65  42  31  52 132  15   2   6   5   3   1   3   5\n",
      "  10  12]\n",
      "10 0.00215 [4 5 2 2 4 8 3 2 6 5 0 0 1 0 0 0 1 0 0 0]\n",
      "15 0.00055 [0 1 1 3 2 0 1 0 3 0 0 0 0 0 0 0 0 0 0 0]\n",
      "20 5e-05 [0 0 0 0 0 0 1 0 0 0 0 0 0 0 0 0 0 0 0 0]\n",
      "safe_shot_nb 19 safe_rate 0.0004857142857142855 nb trials: 1000\n",
      "savgol interpolated error rate mean: 0.0 min: -0.0003 max: 0.0005 for [0]\n",
      "completed 30/05/2021 11:03:43 AL2_Ide mitigation Na sqeuclidean ideal_sim \n",
      "\n"
     ]
    }
   ],
   "source": [
    "# you may want to skip this cell as it will require a long time\n",
    "# because of the high number of trials required by the Monte Carlo simulation for each nb o shots value\n",
    "\n",
    "# the following values are defined in the study summary (readme file):\n",
    "trials=1000 # to be set to 10000 if not demo \n",
    "window=5 # shorter window than for the real device counts\n",
    "epsilon = .001\n",
    "min_shots = 5\n",
    "max_shots = 100\n",
    "pol=2\n",
    "\n",
    "subset = None # variable not used here\n",
    "verbosality = 5 # printing step for intermediate results when increasing the experiment shot number \n",
    "\n",
    "PD_test = PD_ideal\n",
    "mitigation_dic =  {\"Na\": None} \n",
    "o_metrics_desired = ['jensenshannon', 'sqeuclidean']\n",
    "model_dic = {\"ideal_sim\": PD_ideal}\n",
    "for mit_str, mitigation in mitigation_dic.items():\n",
    "    if mitigation != None: # thus only for counts on real device\n",
    "        PD_exper = get_clean_matrix(empirical_dic, mitigation=mitigation,\n",
    "                                m_filter=meas_filter) \n",
    "    for o_metric in o_metrics_desired:           \n",
    "            for model_name in model_dic.keys():\n",
    "                add_single_dic(ideal_data_list)                "
   ]
  },
  {
   "cell_type": "code",
   "execution_count": 25,
   "metadata": {},
   "outputs": [
    {
     "data": {
      "text/plain": [
       "<Figure size 432x288 with 0 Axes>"
      ]
     },
     "metadata": {},
     "output_type": "display_data"
    },
    {
     "data": {
      "image/png": "[encoded data removed]",
      "text/plain": [
       "<Figure size 864x576 with 1 Axes>"
      ]
     },
     "metadata": {
      "needs_background": "light"
     },
     "output_type": "display_data"
    }
   ],
   "source": [
    "# have a look at the mean error rate curves and error rate at save shot number n_s\n",
    "# NB the r_hat_mean curves and legend reported r_hat_max errors the unsmoothed values \n",
    "opl.plot_curves(ideal_data_list,np.array([0,1]),\n",
    "            \"Jensen-Shannon vs squared euclidean distance - $\\epsilon=0.001$\" , \n",
    "             [\"model\"], [\"device\",\"metric\"],\n",
    "             right_xlimit = 20, bottom_ylimit = -0.001, top_ylimit = 0.05)"
   ]
  },
  {
   "cell_type": "markdown",
   "metadata": {},
   "source": [
    "## New optimizer"
   ]
  },
  {
   "cell_type": "code",
   "execution_count": 26,
   "metadata": {},
   "outputs": [
    {
     "name": "stdout",
     "output_type": "stream",
     "text": [
      "started 30/05/2021 11:03:43 AL2_Ide mitigation Na jensenshannon ideal_sim\n",
      "9\n",
      "safe_shot_nb 19 safe_rate 0.0009 nb trials: 1000\n",
      "savgol interpolated error rate mean: 0.0 min: 0.0 max: 0.0 for [0, 1, 2, 3, 4, 5, 6, 7, 8, 9, 10, 11, 12, 13, 14, 15, 16, 17, 18, 19]\n",
      "completed 30/05/2021 11:04:23 AL2_Ide mitigation Na jensenshannon ideal_sim \n",
      "\n",
      "started 30/05/2021 11:04:23 AL2_Ide mitigation Na sqeuclidean ideal_sim\n",
      "9\n",
      "safe_shot_nb 19 safe_rate 0.0008 nb trials: 1000\n",
      "savgol interpolated error rate mean: 0.0 min: 0.0 max: 0.0 for [0, 1, 2, 3, 4, 5, 6, 7, 8, 9, 10, 11, 12, 13, 14, 15, 16, 17, 18, 19]\n",
      "completed 30/05/2021 11:05:07 AL2_Ide mitigation Na sqeuclidean ideal_sim \n",
      "\n"
     ]
    }
   ],
   "source": [
    "# here will be appended the data we want for the curve plot \n",
    "ideal_data_list=[]\n",
    "\n",
    "\n",
    "# the following values are defined in the study summary (readme file):\n",
    "trials=1000 # to be set to 10000 if not demo \n",
    "window=5 # shorter window than for the real device counts\n",
    "epsilon = .001\n",
    "min_shots = 5\n",
    "max_shots = 100\n",
    "pol=2\n",
    "\n",
    "subset = None # variable not used here\n",
    "verbosality = 5 # printing step for intermediate results when increasing the experiment shot number \n",
    "\n",
    "PD_test = PD_ideal\n",
    "mitigation_dic =  {\"Na\": None} \n",
    "o_metrics_desired = ['jensenshannon', 'sqeuclidean']\n",
    "model_dic = {\"ideal_sim\": PD_ideal}\n",
    "for mit_str, mitigation in mitigation_dic.items():\n",
    "    if mitigation != None: # thus only for counts on real device\n",
    "        PD_exper = get_clean_matrix(empirical_dic, mitigation=mitigation,\n",
    "                                m_filter=meas_filter) \n",
    "    for o_metric in o_metrics_desired:           \n",
    "            for model_name in model_dic.keys():\n",
    "                add_single_dic(ideal_data_list, optimizer_type='new')  "
   ]
  },
  {
   "cell_type": "code",
   "execution_count": 27,
   "metadata": {},
   "outputs": [
    {
     "data": {
      "text/plain": [
       "<Figure size 432x288 with 0 Axes>"
      ]
     },
     "metadata": {},
     "output_type": "display_data"
    },
    {
     "data": {
      "image/png": "[encoded data removed]",
      "text/plain": [
       "<Figure size 864x576 with 1 Axes>"
      ]
     },
     "metadata": {
      "needs_background": "light"
     },
     "output_type": "display_data"
    }
   ],
   "source": [
    "# have a look at the mean error rate curves and error rate at save shot number n_s\n",
    "# NB the r_hat_mean curves and legend reported r_hat_max errors the unsmoothed values \n",
    "opl.plot_curves(ideal_data_list,np.array([0,1]),\n",
    "            \"Jensen-Shannon vs squared euclidean distance - $\\epsilon=0.001$\" , \n",
    "             [\"model\"], [\"device\",\"metric\"],\n",
    "             right_xlimit = 20, bottom_ylimit = -0.001, top_ylimit = 0.05)"
   ]
  },
  {
   "cell_type": "markdown",
   "metadata": {},
   "source": [
    "# Real device section"
   ]
  },
  {
   "cell_type": "code",
   "execution_count": 28,
   "metadata": {},
   "outputs": [
    {
     "name": "stderr",
     "output_type": "stream",
     "text": [
      "/Users/ctuysuz/opt/anaconda3/envs/quantum/lib/python3.8/site-packages/qiskit/providers/ibmq/ibmqfactory.py:192: UserWarning: Timestamps in IBMQ backend properties, jobs, and job results are all now in local time instead of UTC.\n",
      "  warnings.warn('Timestamps in IBMQ backend properties, jobs, and job results '\n"
     ]
    },
    {
     "data": {
      "text/plain": [
       "[<IBMQSimulator('ibmq_qasm_simulator') from IBMQ(hub='ibm-q', group='open', project='main')>,\n",
       " <IBMQBackend('ibmqx2') from IBMQ(hub='ibm-q', group='open', project='main')>,\n",
       " <IBMQBackend('ibmq_16_melbourne') from IBMQ(hub='ibm-q', group='open', project='main')>,\n",
       " <IBMQBackend('ibmq_armonk') from IBMQ(hub='ibm-q', group='open', project='main')>,\n",
       " <IBMQBackend('ibmq_athens') from IBMQ(hub='ibm-q', group='open', project='main')>,\n",
       " <IBMQBackend('ibmq_santiago') from IBMQ(hub='ibm-q', group='open', project='main')>,\n",
       " <IBMQBackend('ibmq_lima') from IBMQ(hub='ibm-q', group='open', project='main')>,\n",
       " <IBMQBackend('ibmq_belem') from IBMQ(hub='ibm-q', group='open', project='main')>,\n",
       " <IBMQBackend('ibmq_quito') from IBMQ(hub='ibm-q', group='open', project='main')>,\n",
       " <IBMQSimulator('simulator_statevector') from IBMQ(hub='ibm-q', group='open', project='main')>,\n",
       " <IBMQSimulator('simulator_mps') from IBMQ(hub='ibm-q', group='open', project='main')>,\n",
       " <IBMQSimulator('simulator_extended_stabilizer') from IBMQ(hub='ibm-q', group='open', project='main')>,\n",
       " <IBMQSimulator('simulator_stabilizer') from IBMQ(hub='ibm-q', group='open', project='main')>,\n",
       " <IBMQBackend('ibmq_manila') from IBMQ(hub='ibm-q', group='open', project='main')>]"
      ]
     },
     "execution_count": 28,
     "metadata": {},
     "output_type": "execute_result"
    }
   ],
   "source": [
    "from qiskit import IBMQ\n",
    "IBMQ.load_account()\n",
    "provider = IBMQ.get_provider(hub='ibm-q')\n",
    "provider.backends()"
   ]
  },
  {
   "cell_type": "code",
   "execution_count": 29,
   "metadata": {},
   "outputs": [
    {
     "name": "stdout",
     "output_type": "stream",
     "text": [
      "AL2_Ath\n"
     ]
    }
   ],
   "source": [
    "project_device = 'ibmq_athens'# you may choice here a different backend\n",
    "device_name = dev_dic[project_device]\n",
    "mitig_name = program_name + \"_\" + device_name\n",
    "print(mitig_name)"
   ]
  },
  {
   "cell_type": "code",
   "execution_count": 30,
   "metadata": {},
   "outputs": [],
   "source": [
    "#determine here the backend\n",
    "device = provider.get_backend(project_device) # the backend names are listed here above\n",
    "properties = device.properties()\n",
    "coupling_map = device.configuration().coupling_map"
   ]
  },
  {
   "cell_type": "markdown",
   "metadata": {},
   "source": [
    "# obtain mitigation filter"
   ]
  },
  {
   "cell_type": "code",
   "execution_count": 31,
   "metadata": {},
   "outputs": [
    {
     "name": "stdout",
     "output_type": "stream",
     "text": [
      "Average Measurement Fidelity was: 0.910145 for ibmq_athens\n"
     ]
    }
   ],
   "source": [
    "# retrieve the corresponding measurement mitigation filter obtained at experimental time\n",
    "# use a fake job because use of the from_dict method\n",
    "simulator = Aer.get_backend('qasm_simulator')\n",
    "fake_job_cal = execute(meas_calibs, backend=simulator, shots=1)\n",
    "fake_cal_results = fake_job_cal.result()\n",
    "cal_results_dic = json_dic_loader(\"cal_results_dic_\"+mitig_name) \n",
    "if 'date' in cal_results_dic.keys():\n",
    "    str(cal_results_dic['date'])\n",
    "cal_results = fake_cal_results.from_dict(cal_results_dic)\n",
    "meas_fitter = CompleteMeasFitter(cal_results, label_list, qubit_list=qubit_list, circlabel='mcal')\n",
    "meas_filter = meas_fitter.filter\n",
    "# have a look at the average measurement fidefily of this device:\n",
    "print(\"Average Measurement Fidelity was: %f\" % meas_fitter.readout_fidelity(), \"for\",project_device)"
   ]
  },
  {
   "cell_type": "markdown",
   "metadata": {},
   "source": [
    "### Transpile the basic circuits for running on real device\n",
    "In this demo, these are not the circuits which were actually run on real devices (not the same transpiler seed).\n",
    "The optimization level is set to 2 instead of 3 in real experiments, for speed and also because at this moment there is a transpiler error occuring for ibmqx2: 'Maximum iteration reached. max_iteration=1000' "
   ]
  },
  {
   "cell_type": "code",
   "execution_count": 32,
   "metadata": {},
   "outputs": [
    {
     "name": "stdout",
     "output_type": "stream",
     "text": [
      "AL2_Ath_M000\n"
     ]
    }
   ],
   "source": [
    "id_gates = 0\n",
    "str_nb_id = str(id_gates)\n",
    "zfilled = str_nb_id.zfill(4-len(str_nb_id))\n",
    "project_name = mitig_name + \"_\" + unique_char + zfilled\n",
    "print(project_name)"
   ]
  },
  {
   "cell_type": "code",
   "execution_count": 33,
   "metadata": {},
   "outputs": [
    {
     "name": "stdout",
     "output_type": "stream",
     "text": [
      "Start at DMY:  30/05/2021 11:05:25\n",
      "circuit  0 length 24 DMY:  30/05/2021 11:05:25\n",
      "circuit  1 length 26 DMY:  30/05/2021 11:05:26\n",
      "circuit  2 length 34 DMY:  30/05/2021 11:05:26\n",
      "circuit  3 length 30 DMY:  30/05/2021 11:05:26\n",
      "circuit  4 length 33 DMY:  30/05/2021 11:05:26\n",
      "circuit  5 length 28 DMY:  30/05/2021 11:05:26\n",
      "circuit  6 length 33 DMY:  30/05/2021 11:05:26\n",
      "circuit  7 length 31 DMY:  30/05/2021 11:05:26\n",
      "circuit  8 length 25 DMY:  30/05/2021 11:05:26\n",
      "circuit  9 length 23 DMY:  30/05/2021 11:05:27\n",
      "circuit 10 length 28 DMY:  30/05/2021 11:05:27\n",
      "circuit 11 length 23 DMY:  30/05/2021 11:05:27\n",
      "circuit 12 length 29 DMY:  30/05/2021 11:05:27\n",
      "circuit 13 length 34 DMY:  30/05/2021 11:05:27\n",
      "circuit 14 length 36 DMY:  30/05/2021 11:05:27\n",
      "circuit 15 length 30 DMY:  30/05/2021 11:05:27\n",
      "circuit 16 length 36 DMY:  30/05/2021 11:05:28\n",
      "circuit 17 length 38 DMY:  30/05/2021 11:05:28\n",
      "circuit 18 length 28 DMY:  30/05/2021 11:05:28\n",
      "circuit 19 length 26 DMY:  30/05/2021 11:05:28\n",
      "Completed at DMY:  30/05/2021 11:05:28\n"
     ]
    }
   ],
   "source": [
    "# transpile\n",
    "verbose = True  \n",
    "summary_dic = {}\n",
    "seed_transpiler_list = list(range(nb_states))\n",
    "real_circs = []\n",
    "start_time = time.strftime('%d/%m/%Y %H:%M:%S')    \n",
    "print(\"Start at DMY: \",start_time)\n",
    "for i_state in list(range(nb_states)):    \n",
    "    # prepare circuit to be transpiled\n",
    "    circuit = copy.deepcopy(circ_ori[i_state])\n",
    "    if id_gates > 0:\n",
    "        circuit.barrier()\n",
    "        for id_gates_index in range(id_gates):\n",
    "            for index, value in enumerate(qubit_list):\n",
    "                circuit.id(value)\n",
    "    \n",
    "    new_cut.add_barrier_and_measure(circuit, qubit_list)\n",
    "    \n",
    "    summary = []        \n",
    "    depth_list = [] \n",
    "\n",
    "    Q_state_opt_new = transpile(circuit, backend=device,\n",
    "                        coupling_map = coupling_map,\n",
    "                        seed_transpiler=seed_transpiler_list[i_state],\n",
    "                        optimization_level=2,\n",
    "                        initial_layout=qubit_list)\n",
    "\n",
    "    summary_dic[i_state] = {\"depth\": Q_state_opt_new.depth(),\n",
    "                            'circuit':Q_state_opt_new}\n",
    "    real_circs.append(Q_state_opt_new)\n",
    "    if verbose:\n",
    "        print(\"circuit %2i\" % i_state,\"length\",summary_dic[i_state][\"depth\"],\n",
    "              \"DMY: \",time.strftime('%d/%m/%Y %H:%M:%S')) \n",
    "\n",
    "end_time = time.strftime('%d/%m/%Y %H:%M:%S')  \n",
    "print(\"Completed at DMY: \",end_time)    "
   ]
  },
  {
   "cell_type": "markdown",
   "metadata": {},
   "source": [
    "# run job"
   ]
  },
  {
   "cell_type": "markdown",
   "metadata": {},
   "source": [
    "### Load  the transpiled circuits that were actually run \n"
   ]
  },
  {
   "cell_type": "code",
   "execution_count": 34,
   "metadata": {},
   "outputs": [],
   "source": [
    "#changing keys of dictionary for merging:    \n",
    "def key_change(ini_dict, i_subset):\n",
    "    ini_list = []\n",
    "    len_ini = len(ini_dict)\n",
    "    for i in range(len_ini):\n",
    "        ini_list.append(str(i+i_subset*len_ini))\n",
    "    return dict(zip(ini_list, list(ini_dict.values()))) "
   ]
  },
  {
   "cell_type": "code",
   "execution_count": 35,
   "metadata": {},
   "outputs": [],
   "source": [
    "if program_name == \"QAD\":\n",
    "    #retrieve the data corresponding to the 1st project\n",
    "    lfc = list(Flag_char)\n",
    "    circ_ideal =[]\n",
    "    empirical_dic = {}\n",
    "\n",
    "    for i_subset, subset in enumerate(lfc):\n",
    "        qasm_circs_dic = json_dic_loader('qasm_circs_dic_QAD_'+device_name+'_'+ subset + zfilled)\n",
    "        j=0 # j included for project with several transpilation sessions for each device - not used here\n",
    "        qasm_circs = qasm_circs_dic[str(j)]\n",
    "        nb_circs = len(qasm_circs)        \n",
    "        for i_circs in range(nb_circs):\n",
    "            circ_ideal.append(QuantumCircuit().from_qasm_str(qasm_circs[i_circs]))\n",
    "        empirical_dic = {**empirical_dic,\n",
    "                     **key_change(json_dic_loader(\"experimental\"+\"_\"+mitig_name +\"_\"\\\n",
    "                                  +subset+zfilled), i_subset)}\n",
    "    test_dic = copy.deepcopy(empirical_dic)\n",
    "    #nb_states = len(circ_ideal)"
   ]
  },
  {
   "cell_type": "markdown",
   "metadata": {},
   "source": [
    "### Obtain the matrix of probability distribution of shape(nb_state,nb_labels) used by the classifier"
   ]
  },
  {
   "cell_type": "code",
   "execution_count": 36,
   "metadata": {},
   "outputs": [],
   "source": [
    "if program_name == \"AL2\":\n",
    "    empirical_dic = json_dic_loader('experimental_'+project_name) \n",
    "    test_dic = json_dic_loader('test_'+project_name) "
   ]
  },
  {
   "cell_type": "code",
   "execution_count": 37,
   "metadata": {},
   "outputs": [],
   "source": [
    "def rectify_counts(tot_res, test_cqi,mitigation,m_filter) :       \n",
    "        \n",
    "        void_counts = dict(zip(label_list, np.zeros(2**used_qubits)))\n",
    "        try:\n",
    "            counts_results_real_test = tot_res[str(test_cqi)]\n",
    "        except KeyError as error:            \n",
    "            counts_results_real_test = tot_res[test_cqi]\n",
    "\n",
    "        raw_counts_test = copy.deepcopy(void_counts)\n",
    "        raw_counts_test.update(counts_results_real_test)\n",
    "\n",
    "        if mitigation:\n",
    "            mitigated_results_test = meas_filter.apply(raw_counts_test, method = 'least_squares')\n",
    "            returned_counts = copy.deepcopy(void_counts)\n",
    "            returned_counts.update(mitigated_results_test)\n",
    "                        \n",
    "        else:\n",
    "            returned_counts = copy.deepcopy(raw_counts_test)\n",
    "            \n",
    "        return returned_counts"
   ]
  },
  {
   "cell_type": "markdown",
   "metadata": {},
   "source": [
    "### Obtain the matrix of probability distribution of shape(nb_state,nb_labels) used by the classifier"
   ]
  },
  {
   "cell_type": "code",
   "execution_count": 38,
   "metadata": {},
   "outputs": [],
   "source": [
    "def get_clean_matrix(dic, mitigation,m_filter):\n",
    "    clean_matrix =  np.ndarray((nb_states,nb_labels)) \n",
    "    for i_state in range(nb_states):\n",
    "        rectified_counts = rectify_counts(dic,i_state, mitigation,m_filter) # get a rectified counts dictionary       \n",
    "        clean_matrix[i_state, :] = list(rectified_counts.values())\n",
    "    clean_matrix = clean_matrix/clean_matrix.sum(axis=1, keepdims=True)\n",
    "    return clean_matrix  "
   ]
  },
  {
   "cell_type": "code",
   "execution_count": 39,
   "metadata": {},
   "outputs": [
    {
     "name": "stdout",
     "output_type": "stream",
     "text": [
      "first and last rows of the probability distribution matrix of dimension 20x32\n",
      "[[0.0021 0.0095 0.0105 0.     0.0095 0.0004 0.0005 0.0004 0.0231 0.1349\n",
      "  0.1444 0.0029 0.1351 0.0063 0.0078 0.0051 0.0234 0.1427 0.1523 0.0023\n",
      "  0.1346 0.007  0.0089 0.0066 0.0016 0.0078 0.0084 0.0005 0.0098 0.0006\n",
      "  0.0004 0.0005]]\n",
      "   ...\n",
      "[[9.400e-03 5.000e-04 4.000e-04 1.170e-02 1.030e-02 2.000e-04 1.000e-04\n",
      "  9.500e-03 1.430e-02 5.000e-04 9.000e-04 1.390e-02 1.437e-01 4.900e-03\n",
      "  5.000e-03 1.440e-01 1.610e-02 7.000e-04 2.000e-04 1.820e-02 1.135e-01\n",
      "  3.500e-03 3.800e-03 1.207e-01 1.472e-01 6.800e-03 5.700e-03 1.508e-01\n",
      "  2.150e-02 1.100e-03 5.000e-04 2.030e-02]]\n"
     ]
    }
   ],
   "source": [
    "# We need to create a first matrix version. It will then vary for each considered set of distribution\n",
    "mitigation = False\n",
    "PD_exper = get_clean_matrix(empirical_dic, mitigation=mitigation,\n",
    "                            m_filter=meas_filter) \n",
    "print_first_and_last_row(PD_exper)"
   ]
  },
  {
   "cell_type": "code",
   "execution_count": 40,
   "metadata": {},
   "outputs": [
    {
     "name": "stdout",
     "output_type": "stream",
     "text": [
      "first and last rows of the probability distribution matrix of dimension 20x32\n",
      "[[2.300e-03 1.230e-02 1.160e-02 1.000e-04 1.260e-02 4.000e-04 1.300e-03\n",
      "  4.000e-04 2.510e-02 1.302e-01 1.464e-01 3.800e-03 1.298e-01 5.400e-03\n",
      "  1.160e-02 6.300e-03 2.440e-02 1.421e-01 1.447e-01 2.600e-03 1.404e-01\n",
      "  7.800e-03 1.100e-02 6.700e-03 1.100e-03 6.500e-03 7.200e-03 1.000e-04\n",
      "  5.200e-03 2.000e-04 2.000e-04 1.000e-04]]\n",
      "   ...\n",
      "[[1.060e-02 1.000e-04 2.000e-04 9.900e-03 1.140e-02 1.000e-04 2.000e-04\n",
      "  1.270e-02 1.570e-02 7.000e-04 5.000e-04 1.720e-02 1.534e-01 5.500e-03\n",
      "  4.500e-03 1.460e-01 1.820e-02 6.000e-04 6.000e-04 1.680e-02 1.152e-01\n",
      "  4.500e-03 3.300e-03 1.099e-01 1.494e-01 4.400e-03 3.800e-03 1.461e-01\n",
      "  1.950e-02 5.000e-04 5.000e-04 1.770e-02]]\n"
     ]
    }
   ],
   "source": [
    "if program_name == \"QAD\":\n",
    "    PD_test = copy.deepcopy(PD_exper)\n",
    "elif program_name == \"AL2\":\n",
    "    mitigation = False\n",
    "    PD_test = get_clean_matrix(test_dic, mitigation=mitigation,\n",
    "                                m_filter=meas_filter) \n",
    "    print_first_and_last_row(PD_test)"
   ]
  },
  {
   "cell_type": "markdown",
   "metadata": {},
   "source": [
    "## Monte Carlo simulation for the real device"
   ]
  },
  {
   "cell_type": "code",
   "execution_count": 41,
   "metadata": {},
   "outputs": [],
   "source": [
    "# here will be appended the data we want for the final plot of this notebook\n",
    "empirical_data_list=[]"
   ]
  },
  {
   "cell_type": "code",
   "execution_count": 42,
   "metadata": {},
   "outputs": [
    {
     "name": "stdout",
     "output_type": "stream",
     "text": [
      "AL2_Ath_M000 dict_keys(['empirical', 'ideal_sim']) jensenshannon\n",
      "started 30/05/2021 11:05:28 AL2_Ath mitigation no jensenshannon empirical\n",
      "10 0.0624 [ 52  33 118  49 120 103 239 141  27   9   8   8  41  61  47  19  59  82\n",
      "  19  13]\n",
      "20 0.0036 [ 1  0  8  3  4  8 26  9  0  0  0  0  0  2  3  0  3  5  0  0]\n",
      "30 0.00035 [0 0 1 0 0 1 3 0 0 0 0 0 1 0 0 0 0 1 0 0]\n",
      "40 5e-05 [0 0 0 0 1 0 0 0 0 0 0 0 0 0 0 0 0 0 0 0]\n",
      "safe_shot_nb 36 safe_rate 0.0009324009324009354 nb trials: 1000\n",
      "savgol interpolated error rate mean: 0.0001 min: 0.0 max: 0.0009 for [6]\n",
      "completed 30/05/2021 11:08:06 AL2_Ath mitigation no jensenshannon empirical \n",
      "\n",
      "started 30/05/2021 11:08:06 AL2_Ath mitigation no jensenshannon ideal_sim\n",
      "10 0.0324 [ 18  24  66  24  59  37 103  38  27  16   6   6  24  25  28  15  52  57\n",
      "  19   4]\n",
      "20 0.00315 [ 1  1  5  0  6  5 16 12  1  1  0  0  1  2  2  0  4  6  0  0]\n",
      "30 0.0003 [0 0 1 0 1 0 1 1 0 0 0 0 1 1 0 0 0 0 0 0]\n",
      "40 0.0 [0 0 0 0 0 0 0 0 0 0 0 0 0 0 0 0 0 0 0 0]\n",
      "safe_shot_nb 37 safe_rate 0.0007645687645687669 nb trials: 1000\n",
      "savgol interpolated error rate mean: 0.0001 min: -0.0001 max: 0.0008 for [2]\n",
      "completed 30/05/2021 11:10:52 AL2_Ath mitigation no jensenshannon ideal_sim \n",
      "\n",
      "AL2_Ath_M000 dict_keys(['empirical', 'ideal_sim']) sqeuclidean\n",
      "started 30/05/2021 11:10:52 AL2_Ath mitigation no sqeuclidean empirical\n",
      "10 0.0615 [ 66  34 100  46 125 104 229 133  23  16  10   9  39  45  59  13  65  86\n",
      "  18  10]\n",
      "20 0.00415 [ 0  1 10  1  9  7 23 17  2  0  0  0  1  1  0  1  5  4  1  0]\n",
      "30 0.00055 [0 0 0 0 2 3 6 0 0 0 0 0 0 0 0 0 0 0 0 0]\n",
      "40 0.0001 [0 0 1 0 0 0 1 0 0 0 0 0 0 0 0 0 0 0 0 0]\n",
      "safe_shot_nb 37 safe_rate 0.0008484848484848509 nb trials: 1000\n",
      "savgol interpolated error rate mean: 0.0001 min: -0.0001 max: 0.0008 for [2]\n",
      "completed 30/05/2021 11:13:41 AL2_Ath mitigation no sqeuclidean empirical \n",
      "\n",
      "started 30/05/2021 11:13:41 AL2_Ath mitigation no sqeuclidean ideal_sim\n",
      "10 0.0305 [18 19 53 26 61 47 86 43 20 16  3  7 28 21 40 11 55 40 12  4]\n",
      "20 0.0024500000000000004 [ 1  1  8  0  3  6 12  5  0  0  1  0  1  2  1  1  6  1  0  0]\n",
      "30 0.00035 [0 0 0 0 1 0 2 1 0 0 0 0 0 0 0 0 2 1 0 0]\n",
      "safe_shot_nb 34 safe_rate 0.0007529137529137551 nb trials: 1000\n",
      "savgol interpolated error rate mean: 0.0002 min: -0.0001 max: 0.0008 for [17]\n",
      "completed 30/05/2021 11:16:16 AL2_Ath mitigation no sqeuclidean ideal_sim \n",
      "\n",
      "AL2_Ath_M000 dict_keys(['empirical', 'ideal_sim']) jensenshannon\n",
      "started 30/05/2021 11:16:16 AL2_Ath mitigation yes jensenshannon empirical\n",
      "10 0.04325 [ 30  20  69  31  94  74 186 116  21  10   0   3  26  28  36   5  45  61\n",
      "   8   2]\n",
      "20 0.00215 [ 1  1  2  1  2  7 22  3  0  0  0  0  1  0  0  0  2  1  0  0]\n",
      "30 0.0003 [0 0 1 0 0 0 3 1 0 0 0 0 0 0 0 0 0 1 0 0]\n",
      "40 0.0 [0 0 0 0 0 0 0 0 0 0 0 0 0 0 0 0 0 0 0 0]\n",
      "safe_shot_nb 35 safe_rate 0.0009836829836829869 nb trials: 1000\n",
      "savgol interpolated error rate mean: 0.0001 min: -0.0001 max: 0.001 for [6]\n",
      "completed 30/05/2021 11:18:39 AL2_Ath mitigation yes jensenshannon empirical \n",
      "\n",
      "started 30/05/2021 11:18:39 AL2_Ath mitigation yes jensenshannon ideal_sim\n",
      "10 0.02 [ 8  8 49 24 30 41 63 28 14 14  2  0 10 25 22  2 28 26  5  1]\n",
      "20 0.00145 [0 0 5 0 3 4 6 2 0 2 0 0 0 1 0 0 3 3 0 0]\n",
      "30 5e-05 [0 0 0 0 1 0 0 0 0 0 0 0 0 0 0 0 0 0 0 0]\n",
      "safe_shot_nb 27 safe_rate 0.000927738927738931 nb trials: 1000\n",
      "savgol interpolated error rate mean: 0.0002 min: -0.0002 max: 0.0009 for [6]\n",
      "completed 30/05/2021 11:20:40 AL2_Ath mitigation yes jensenshannon ideal_sim \n",
      "\n",
      "AL2_Ath_M000 dict_keys(['empirical', 'ideal_sim']) sqeuclidean\n",
      "started 30/05/2021 11:20:40 AL2_Ath mitigation yes sqeuclidean empirical\n",
      "10 0.0441 [ 32  22  65  25  96 103 206  90  26   8   1   4  19  28  37   6  48  52\n",
      "  12   2]\n",
      "20 0.00185 [ 0  0  2  0  3  6 14  5  1  1  0  0  0  0  1  0  1  3  0  0]\n",
      "30 0.00015 [0 0 0 0 0 1 2 0 0 0 0 0 0 0 0 0 0 0 0 0]\n",
      "safe_shot_nb 32 safe_rate 0.0007668997668997698 nb trials: 1000\n",
      "savgol interpolated error rate mean: 0.0001 min: -0.0001 max: 0.0008 for [6]\n",
      "completed 30/05/2021 11:23:08 AL2_Ath mitigation yes sqeuclidean empirical \n",
      "\n",
      "started 30/05/2021 11:23:08 AL2_Ath mitigation yes sqeuclidean ideal_sim\n",
      "10 0.02135 [ 9 16 39 19 49 33 67 28 15 13  1  0 21 18 20  3 35 33  8  0]\n",
      "20 0.00195 [ 0  0  3  1  4  8 10  3  1  1  0  0  0  0  3  0  2  3  0  0]\n",
      "30 0.0 [0 0 0 0 0 0 0 0 0 0 0 0 0 0 0 0 0 0 0 0]\n",
      "safe_shot_nb 30 safe_rate 0.0008834498834498869 nb trials: 1000\n",
      "savgol interpolated error rate mean: 0.0001 min: -0.0002 max: 0.0009 for [6]\n",
      "completed 30/05/2021 11:25:10 AL2_Ath mitigation yes sqeuclidean ideal_sim \n",
      "\n"
     ]
    }
   ],
   "source": [
    "# the following values are defined in the study summary notebook:\n",
    "trials=1000 # should be 1000 if not demo\n",
    "window=11\n",
    "epsilon = .001\n",
    "max_shots = 500\n",
    "pol=2\n",
    "\n",
    "verbosality = 10 # printing step for intermediate results when increasing the experiment shot number \n",
    "\n",
    "# In this section you can easily make your choice of combinations:\n",
    "# mitigation or not, metric, model \n",
    "\n",
    "mitigation_dic =  {\"no\":False, \"yes\" : True} \n",
    "#mitigation_dic =  {\"no\":False} \n",
    "#mitigation_dic =  {\"yes\" : True} \n",
    "\n",
    "o_metrics_desired = ['jensenshannon', 'sqeuclidean']\n",
    "#o_metrics_desired = ['jensenshannon']\n",
    "#o_metrics_desired = ['sqeuclidean']\n",
    "\n",
    "model_dic = {\"empirical\": PD_exper, \"ideal_sim\": PD_ideal}\n",
    "#model_dic = {\"empirical\": PD_exper}\n",
    "#model_dic = {\"ideal_sim\": PD_ideal}\n",
    "\n",
    "# Obtain a sequence of results in form of a list of dictionaries\n",
    "\n",
    "for mit_str, mitigation in mitigation_dic.items():\n",
    "    # here we toggle PD_exper as we toggled mitigation status\n",
    "    PD_exper = get_clean_matrix(empirical_dic, mitigation=mitigation,\n",
    "                            m_filter=meas_filter)\n",
    "    PD_test = get_clean_matrix(test_dic, mitigation=mitigation,\n",
    "                            m_filter=meas_filter)\n",
    "    for o_metric in o_metrics_desired:\n",
    "        print(project_name, model_dic.keys(), o_metric)        \n",
    "        for model_name in model_dic.keys():\n",
    "            add_single_dic(empirical_data_list)"
   ]
  },
  {
   "cell_type": "code",
   "execution_count": 43,
   "metadata": {},
   "outputs": [
    {
     "data": {
      "text/plain": [
       "<Figure size 432x288 with 0 Axes>"
      ]
     },
     "metadata": {},
     "output_type": "display_data"
    },
    {
     "data": {
      "image/png": "[encoded data removed]",
      "text/plain": [
       "<Figure size 864x576 with 1 Axes>"
      ]
     },
     "metadata": {
      "needs_background": "light"
     },
     "output_type": "display_data"
    }
   ],
   "source": [
    "# have a look at the mean error rate curves and error rate at save shot number n_s\n",
    "# NB the r_hat_mean curves and legend reported r_hat_max errors are the unsmoothed values \n",
    "opl.plot_curves(ideal_data_list + empirical_data_list,\n",
    "                np.array(range(2+len(empirical_data_list))),\n",
    "            \"$\\epsilon=0.001$\" , [\"device\"],\n",
    "            [\"model\",\"metric\",\"mitigation\",\"id_gates\"],\n",
    "            right_xlimit = 80, bottom_ylimit = -0.02, top_ylimit = 1)"
   ]
  },
  {
   "cell_type": "markdown",
   "metadata": {},
   "source": [
    "## New optimizer"
   ]
  },
  {
   "cell_type": "code",
   "execution_count": 44,
   "metadata": {},
   "outputs": [
    {
     "name": "stdout",
     "output_type": "stream",
     "text": [
      "AL2_Ath_M000 dict_keys(['empirical', 'ideal_sim']) jensenshannon\n",
      "started 30/05/2021 11:25:10 AL2_Ath mitigation no jensenshannon empirical\n",
      "21\n",
      "safe_shot_nb 40 safe_rate 0.00055 nb trials: 1000\n",
      "savgol interpolated error rate mean: 0.0 min: 0.0 max: 0.0 for [0, 1, 2, 3, 4, 5, 6, 7, 8, 9, 10, 11, 12, 13, 14, 15, 16, 17, 18, 19]\n",
      "completed 30/05/2021 11:26:32 AL2_Ath mitigation no jensenshannon empirical \n",
      "\n",
      "started 30/05/2021 11:26:32 AL2_Ath mitigation no jensenshannon ideal_sim\n",
      "21\n",
      "safe_shot_nb 40 safe_rate 0.00085 nb trials: 1000\n",
      "savgol interpolated error rate mean: 0.0 min: 0.0 max: 0.0 for [0, 1, 2, 3, 4, 5, 6, 7, 8, 9, 10, 11, 12, 13, 14, 15, 16, 17, 18, 19]\n",
      "completed 30/05/2021 11:28:06 AL2_Ath mitigation no jensenshannon ideal_sim \n",
      "\n",
      "AL2_Ath_M000 dict_keys(['empirical', 'ideal_sim']) sqeuclidean\n",
      "started 30/05/2021 11:28:06 AL2_Ath mitigation no sqeuclidean empirical\n",
      "21\n",
      "safe_shot_nb 40 safe_rate 0.00085 nb trials: 1000\n",
      "savgol interpolated error rate mean: 0.0 min: 0.0 max: 0.0 for [0, 1, 2, 3, 4, 5, 6, 7, 8, 9, 10, 11, 12, 13, 14, 15, 16, 17, 18, 19]\n",
      "completed 30/05/2021 11:29:40 AL2_Ath mitigation no sqeuclidean empirical \n",
      "\n",
      "started 30/05/2021 11:29:40 AL2_Ath mitigation no sqeuclidean ideal_sim\n",
      "10\n",
      "safe_shot_nb 29 safe_rate 0.00055 nb trials: 1000\n",
      "savgol interpolated error rate mean: -0.002 min: -0.0052 max: -0.0002 for [10, 19]\n",
      "completed 30/05/2021 11:31:02 AL2_Ath mitigation no sqeuclidean ideal_sim \n",
      "\n",
      "AL2_Ath_M000 dict_keys(['empirical', 'ideal_sim']) jensenshannon\n",
      "started 30/05/2021 11:31:03 AL2_Ath mitigation yes jensenshannon empirical\n",
      "10\n",
      "safe_shot_nb 29 safe_rate 0.0009 nb trials: 1000\n",
      "savgol interpolated error rate mean: -0.0025 min: -0.0122 max: 0.0 for [10, 11]\n",
      "completed 30/05/2021 11:32:18 AL2_Ath mitigation yes jensenshannon empirical \n",
      "\n",
      "started 30/05/2021 11:32:18 AL2_Ath mitigation yes jensenshannon ideal_sim\n",
      "10\n",
      "safe_shot_nb 29 safe_rate 0.00045 nb trials: 1000\n",
      "savgol interpolated error rate mean: -0.0014 min: -0.0048 max: 0.0 for [19]\n",
      "completed 30/05/2021 11:33:32 AL2_Ath mitigation yes jensenshannon ideal_sim \n",
      "\n",
      "AL2_Ath_M000 dict_keys(['empirical', 'ideal_sim']) sqeuclidean\n",
      "started 30/05/2021 11:33:32 AL2_Ath mitigation yes sqeuclidean empirical\n",
      "10\n",
      "safe_shot_nb 29 safe_rate 0.00065 nb trials: 1000\n",
      "savgol interpolated error rate mean: -0.0026 min: -0.0117 max: 0.0 for [10]\n",
      "completed 30/05/2021 11:34:47 AL2_Ath mitigation yes sqeuclidean empirical \n",
      "\n",
      "started 30/05/2021 11:34:47 AL2_Ath mitigation yes sqeuclidean ideal_sim\n",
      "10\n",
      "safe_shot_nb 29 safe_rate 0.0007 nb trials: 1000\n",
      "savgol interpolated error rate mean: -0.0012 min: -0.005 max: 0.0 for [19]\n",
      "completed 30/05/2021 11:36:00 AL2_Ath mitigation yes sqeuclidean ideal_sim \n",
      "\n"
     ]
    }
   ],
   "source": [
    "# here will be appended the data we want for the final plot of this notebook\n",
    "empirical_data_list=[]\n",
    "\n",
    "# the following values are defined in the study summary notebook:\n",
    "trials=1000 # should be 1000 if not demo\n",
    "window=11\n",
    "epsilon = .001\n",
    "max_shots = 500\n",
    "pol=2\n",
    "\n",
    "verbosality = 10 # printing step for intermediate results when increasing the experiment shot number \n",
    "\n",
    "# In this section you can easily make your choice of combinations:\n",
    "# mitigation or not, metric, model \n",
    "\n",
    "mitigation_dic =  {\"no\":False, \"yes\" : True} \n",
    "#mitigation_dic =  {\"no\":False} \n",
    "#mitigation_dic =  {\"yes\" : True} \n",
    "\n",
    "o_metrics_desired = ['jensenshannon', 'sqeuclidean']\n",
    "#o_metrics_desired = ['jensenshannon']\n",
    "#o_metrics_desired = ['sqeuclidean']\n",
    "\n",
    "model_dic = {\"empirical\": PD_exper, \"ideal_sim\": PD_ideal}\n",
    "#model_dic = {\"empirical\": PD_exper}\n",
    "#model_dic = {\"ideal_sim\": PD_ideal}\n",
    "\n",
    "# Obtain a sequence of results in form of a list of dictionaries\n",
    "\n",
    "for mit_str, mitigation in mitigation_dic.items():\n",
    "    # here we toggle PD_exper as we toggled mitigation status\n",
    "    PD_exper = get_clean_matrix(empirical_dic, mitigation=mitigation,\n",
    "                            m_filter=meas_filter)\n",
    "    PD_test = get_clean_matrix(test_dic, mitigation=mitigation,\n",
    "                            m_filter=meas_filter)\n",
    "    for o_metric in o_metrics_desired:\n",
    "        print(project_name, model_dic.keys(), o_metric)        \n",
    "        for model_name in model_dic.keys():\n",
    "            add_single_dic(empirical_data_list, optimizer_type='new')"
   ]
  },
  {
   "cell_type": "code",
   "execution_count": 45,
   "metadata": {},
   "outputs": [
    {
     "data": {
      "text/plain": [
       "<Figure size 432x288 with 0 Axes>"
      ]
     },
     "metadata": {},
     "output_type": "display_data"
    },
    {
     "data": {
      "image/png": "[encoded data removed]",
      "text/plain": [
       "<Figure size 864x576 with 1 Axes>"
      ]
     },
     "metadata": {
      "needs_background": "light"
     },
     "output_type": "display_data"
    }
   ],
   "source": [
    "# have a look at the mean error rate curves and error rate at save shot number n_s\n",
    "# NB the r_hat_mean curves and legend reported r_hat_max errors are the unsmoothed values \n",
    "opl.plot_curves(ideal_data_list + empirical_data_list,\n",
    "                np.array(range(2+len(empirical_data_list))),\n",
    "            \"$\\epsilon=0.001$\" , [\"device\"],\n",
    "            [\"model\",\"metric\",\"mitigation\",\"id_gates\"],\n",
    "            right_xlimit = 80, bottom_ylimit = -0.02, top_ylimit = 1)"
   ]
  }
 ],
 "metadata": {
  "kernelspec": {
   "display_name": "Python 3",
   "language": "python",
   "name": "python3"
  },
  "language_info": {
   "codemirror_mode": {
    "name": "ipython",
    "version": 3
   },
   "file_extension": ".py",
   "mimetype": "text/x-python",
   "name": "python",
   "nbconvert_exporter": "python",
   "pygments_lexer": "ipython3",
   "version": "3.8.3"
  },
  "varInspector": {
   "cols": {
    "lenName": 16,
    "lenType": 16,
    "lenVar": 40
   },
   "kernels_config": {
    "python": {
     "delete_cmd_postfix": "",
     "delete_cmd_prefix": "del ",
     "library": "var_list.py",
     "varRefreshCmd": "print(var_dic_list())"
    },
    "r": {
     "delete_cmd_postfix": ") ",
     "delete_cmd_prefix": "rm(",
     "library": "var_list.r",
     "varRefreshCmd": "cat(var_dic_list()) "
    }
   },
   "types_to_exclude": [
    "module",
    "function",
    "builtin_function_or_method",
    "instance",
    "_Feature"
   ],
   "window_display": false
  }
 },
 "nbformat": 4,
 "nbformat_minor": 2
}
