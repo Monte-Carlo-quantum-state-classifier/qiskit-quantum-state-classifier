{
 "cells": [
  {
   "cell_type": "code",
   "execution_count": 1,
   "metadata": {},
   "outputs": [],
   "source": [
    "import numpy as np\n",
    "import pandas as pd\n",
    "import json as json\n",
    "from scipy import stats\n",
    "from statsmodels.formula.api import ols\n",
    "import matplotlib.pyplot as plt\n",
    "from scipy.signal import savgol_filter"
   ]
  },
  {
   "cell_type": "code",
   "execution_count": 2,
   "metadata": {},
   "outputs": [],
   "source": [
    "from o_plot import opl # a small local package dedicated to this project"
   ]
  },
  {
   "cell_type": "code",
   "execution_count": 3,
   "metadata": {},
   "outputs": [],
   "source": [
    "# Prepare the data"
   ]
  },
  {
   "cell_type": "code",
   "execution_count": 4,
   "metadata": {},
   "outputs": [
    {
     "name": "stdout",
     "output_type": "stream",
     "text": [
      "148\n"
     ]
    }
   ],
   "source": [
    "# loading the data\n",
    "file_name = 'Up_to_Belem_TE4AL2_data_new.json'\n",
    "f = open(file_name)\n",
    "All_data = json.load(f)\n",
    "print(len(All_data))"
   ]
  },
  {
   "cell_type": "markdown",
   "metadata": {},
   "source": [
    "## Note for the interpretation of the curves and definition of the statistical variables\n",
    "\n",
    "The quantum state classifier (QSC) error rates $\\widehat{r}_i$ in function of the number of experimental shots $n$ were determined for each highly entangled quantum state $\\omega_i$ in the $\\Omega$ set, with $i=1...m$.\n",
    "\n",
    "The curves seen on the figures represents the mean of the QSC error rate $\\widehat{r}_{mean}$ over the $m$ quantum states at each $n$ value.\n",
    "\n",
    "This Monte Carlo simulation allowed to determine a safe shot number $n_s$ such that $\\forall i\\; \\widehat{r}_i\\le \\epsilon_s$. The value of $\\epsilon_s$ was set at 0.001.\n",
    "\n",
    "$\\widehat{r}_{max}$ is the maximal value observed among all the $\\widehat{r}_i$ values for the determined  number of shots $n_s$.\n",
    "\n",
    "Similarly, from the error curves stored in the data file, was computed the safe shot number $n_t$ such that $\\widehat{r}_{mean}\\le \\epsilon_t$. The value of $\\epsilon_t$ was set at 0.0005 after verifying that all $\\widehat{r}_{mean}$ at $n_s$ were $\\le \\epsilon_s$ in the different experimental settings. \n",
    "\n",
    "Correspondance between variables names in the text and in the data base:\n",
    "\n",
    "- $\\widehat{r}_{mean}$: error_curve\n",
    "- $n_s$: shots\n",
    "- max ($\\widehat{r}_i$) at $n_s$: shot_rate\n",
    "- $\\widehat{r}_{mean}$ at $n_s$: mns_rate\n",
    "- $n_t$: m_shots\n",
    "- $\\widehat{r}_{mean}$ at $n_t$: m_shot_rate\n",
    "\n",
    "\n"
   ]
  },
  {
   "cell_type": "code",
   "execution_count": 5,
   "metadata": {},
   "outputs": [],
   "source": [
    "# Calculate shot number 'm_shots' for mean error rate 'm_shot_rates' <= epsilon_t\n",
    "len_data = len(All_data)\n",
    "epsilon_t = 0.0005\n",
    "window = 11\n",
    "for i in range(len_data):            \n",
    "    curve = np.array(All_data[i]['error_curve'])\n",
    "    # filter the curve only for real devices:\n",
    "    if All_data[i]['device']!=\"ideal_device\":    \n",
    "        curve = savgol_filter(curve,window,2) \n",
    "    # find the safe shot number:    \n",
    "    len_c = len(curve)                               \n",
    "    n_a = np.argmin(np.flip(curve)<=epsilon_t)+1                          \n",
    "    if n_a == 1:\n",
    "        n_a = np.nan\n",
    "        m_r = np.nan\n",
    "    else:\n",
    "        m_r = curve[len_c-n_a+1]\n",
    "    All_data[i]['min_r_shots'] = len_c-n_a\n",
    "    All_data[i]['min_r'] = m_r"
   ]
  },
  {
   "cell_type": "code",
   "execution_count": 6,
   "metadata": {},
   "outputs": [],
   "source": [
    "# find mean error rate at n_s\n",
    "for i in range(len_data):\n",
    "    i_shot = All_data[i][\"shots\"]\n",
    "    if not np.isnan(i_shot):\n",
    "        j = int(i_shot)-1        \n",
    "        All_data[i]['mns_rate'] = All_data[i]['error_curve'][j]\n",
    "    else:\n",
    "        All_data[i]['mns_rate'] = np.nan"
   ]
  },
  {
   "cell_type": "code",
   "execution_count": 7,
   "metadata": {},
   "outputs": [],
   "source": [
    "#defining the pandas data frame for statistics excluding from here ibmqx2 data\n",
    "df_All= pd.DataFrame(All_data,columns=['shot_rates','shots', 'device', 'fidelity',\n",
    "                                        'mitigation','model','id_gates',\n",
    "                                        'QV', 'metric','error_curve',\n",
    "                                        'mns_rate','min_r_shots',\n",
    "                                        'min_r']).query(\"device != 'ibmqx2'\")\n",
    "\n",
    "# any shot number >= 488 indicates that the curve calculation \n",
    "# was ended after reaching n = 500, hence this data correction:\n",
    "df_All.loc[df_All.shots>=488,\"shots\"]=np.nan\n",
    "\n",
    "# add the variable neperian log of safe shot number: \n",
    "df_All['log_shots'] = np.log(df_All['shots'])\n",
    "df_All['log_min_r_shots'] = np.log(df_All['min_r_shots'])\n",
    "\n",
    "# add the delta shots variables \n",
    "# we know that we need 16 shots anyway in the ideal conditions for this case\n",
    "# THIS LINE OF CODE FOR AVERAGE THRESHOLD OPTION\n",
    "df_All['d_shots'] = df_All['min_r_shots'] - 14 # this  is valid for both metrics\n"
   ]
  },
  {
   "cell_type": "markdown",
   "metadata": {},
   "source": [
    "### Error rates in function of chosen $\\epsilon_s$ and $\\epsilon_t$"
   ]
  },
  {
   "cell_type": "code",
   "execution_count": 8,
   "metadata": {},
   "outputs": [
    {
     "name": "stdout",
     "output_type": "stream",
     "text": [
      "max mean error rate at n_s over all experiments = 0.000515\n"
     ]
    }
   ],
   "source": [
    "print(\"max mean error rate at n_s over all experiments =\", round(max(df_All.mns_rate[:-2]),6))"
   ]
  },
  {
   "cell_type": "code",
   "execution_count": 9,
   "metadata": {},
   "outputs": [
    {
     "name": "stdout",
     "output_type": "stream",
     "text": [
      "min mean error rate at n_t over all experiments = 0.000225\n"
     ]
    }
   ],
   "source": [
    "print(\"min mean error rate at n_t over all experiments =\", round(min(df_All.min_r[:-2]),6))"
   ]
  },
  {
   "cell_type": "code",
   "execution_count": 10,
   "metadata": {},
   "outputs": [
    {
     "name": "stdout",
     "output_type": "stream",
     "text": [
      "max mean error rate at n_t over all experiments = 0.0005\n"
     ]
    }
   ],
   "source": [
    "print(\"max mean error rate at n_t over all experiments =\", round(max(df_All.min_r[:-2]),6))"
   ]
  },
  {
   "cell_type": "code",
   "execution_count": 11,
   "metadata": {},
   "outputs": [
    {
     "data": {
      "text/plain": [
       "<AxesSubplot:ylabel='Frequency'>"
      ]
     },
     "execution_count": 11,
     "metadata": {},
     "output_type": "execute_result"
    },
    {
     "data": {
      "image/png": "[encoded data removed]",
      "text/plain": [
       "<Figure size 432x288 with 1 Axes>"
      ]
     },
     "metadata": {
      "needs_background": "light"
     },
     "output_type": "display_data"
    }
   ],
   "source": [
    "df_All.mns_rate[:-2].plot.hist(alpha=0.5, legend = True)\n",
    "df_All.min_r[:-2].plot.hist(alpha=0.5, legend = True)"
   ]
  },
  {
   "cell_type": "markdown",
   "metadata": {},
   "source": [
    "### Determine the options\n",
    "Running sequentially these cells will end up with the main streaming options"
   ]
  },
  {
   "cell_type": "code",
   "execution_count": 12,
   "metadata": {},
   "outputs": [],
   "source": [
    "# this for Jensen-Shannon metric \n",
    "s_metric = 'jensenshannon'\n",
    "sm = np.array([96+16+16+16]) # added Quito and Lima and Belem\n",
    "SAD=0\n",
    "# ! will be unselected by running the next cell"
   ]
  },
  {
   "cell_type": "code",
   "execution_count": 13,
   "metadata": {},
   "outputs": [],
   "source": [
    "# mainstream option for metric: squared euclidean distance\n",
    "# skip this cell if you don't want this option\n",
    "s_metric = 'sqeuclidean'\n",
    "sm = np.array([97+16+16+16]) # added Quito and Lima and Belem\n",
    "SAD=2   "
   ]
  },
  {
   "cell_type": "markdown",
   "metadata": {},
   "source": [
    "## 1. Compare distribution models\n"
   ]
  },
  {
   "cell_type": "code",
   "execution_count": 14,
   "metadata": {},
   "outputs": [],
   "source": [
    "# this for no mitigation\n",
    "mit = 'no'\n",
    "MIT=-4"
   ]
  },
  {
   "cell_type": "code",
   "execution_count": 15,
   "metadata": {
    "scrolled": true
   },
   "outputs": [
    {
     "name": "stderr",
     "output_type": "stream",
     "text": [
      "<ipython-input-15-af347b9ea33a>:2: UserWarning: Boolean Series key will be reindexed to match DataFrame index.\n",
      "  df_mod = df_All[df_All.mitigation == mit][df_All.metric == s_metric]\n"
     ]
    }
   ],
   "source": [
    "# select data according to the options\n",
    "df_mod = df_All[df_All.mitigation == mit][df_All.metric == s_metric]"
   ]
  },
  {
   "cell_type": "code",
   "execution_count": 16,
   "metadata": {},
   "outputs": [
    {
     "name": "stdout",
     "output_type": "stream",
     "text": [
      "mitigation: no   metric: sqeuclidean\n"
     ]
    },
    {
     "data": {
      "text/html": [
       "<div>\n",
       "<style scoped>\n",
       "    .dataframe tbody tr th:only-of-type {\n",
       "        vertical-align: middle;\n",
       "    }\n",
       "\n",
       "    .dataframe tbody tr th {\n",
       "        vertical-align: top;\n",
       "    }\n",
       "\n",
       "    .dataframe thead tr th {\n",
       "        text-align: left;\n",
       "    }\n",
       "\n",
       "    .dataframe thead tr:last-of-type th {\n",
       "        text-align: right;\n",
       "    }\n",
       "</style>\n",
       "<table border=\"1\" class=\"dataframe\">\n",
       "  <thead>\n",
       "    <tr>\n",
       "      <th></th>\n",
       "      <th colspan=\"6\" halign=\"left\">d_shots</th>\n",
       "      <th colspan=\"6\" halign=\"left\">min_r_shots</th>\n",
       "    </tr>\n",
       "    <tr>\n",
       "      <th></th>\n",
       "      <th>count</th>\n",
       "      <th>mean</th>\n",
       "      <th>std</th>\n",
       "      <th>min</th>\n",
       "      <th>50%</th>\n",
       "      <th>max</th>\n",
       "      <th>count</th>\n",
       "      <th>mean</th>\n",
       "      <th>std</th>\n",
       "      <th>min</th>\n",
       "      <th>50%</th>\n",
       "      <th>max</th>\n",
       "    </tr>\n",
       "    <tr>\n",
       "      <th>device</th>\n",
       "      <th></th>\n",
       "      <th></th>\n",
       "      <th></th>\n",
       "      <th></th>\n",
       "      <th></th>\n",
       "      <th></th>\n",
       "      <th></th>\n",
       "      <th></th>\n",
       "      <th></th>\n",
       "      <th></th>\n",
       "      <th></th>\n",
       "      <th></th>\n",
       "    </tr>\n",
       "  </thead>\n",
       "  <tbody>\n",
       "    <tr>\n",
       "      <th>ibmq_athens</th>\n",
       "      <td>4.0</td>\n",
       "      <td>25.75</td>\n",
       "      <td>15.261608</td>\n",
       "      <td>13.0</td>\n",
       "      <td>22.5</td>\n",
       "      <td>45.0</td>\n",
       "      <td>4.0</td>\n",
       "      <td>39.75</td>\n",
       "      <td>15.261608</td>\n",
       "      <td>27.0</td>\n",
       "      <td>36.5</td>\n",
       "      <td>59.0</td>\n",
       "    </tr>\n",
       "    <tr>\n",
       "      <th>ibmq_belem</th>\n",
       "      <td>4.0</td>\n",
       "      <td>35.50</td>\n",
       "      <td>22.708295</td>\n",
       "      <td>17.0</td>\n",
       "      <td>29.0</td>\n",
       "      <td>67.0</td>\n",
       "      <td>4.0</td>\n",
       "      <td>49.50</td>\n",
       "      <td>22.708295</td>\n",
       "      <td>31.0</td>\n",
       "      <td>43.0</td>\n",
       "      <td>81.0</td>\n",
       "    </tr>\n",
       "    <tr>\n",
       "      <th>ibmq_lima</th>\n",
       "      <td>4.0</td>\n",
       "      <td>71.00</td>\n",
       "      <td>71.712389</td>\n",
       "      <td>24.0</td>\n",
       "      <td>42.0</td>\n",
       "      <td>176.0</td>\n",
       "      <td>4.0</td>\n",
       "      <td>85.00</td>\n",
       "      <td>71.712389</td>\n",
       "      <td>38.0</td>\n",
       "      <td>56.0</td>\n",
       "      <td>190.0</td>\n",
       "    </tr>\n",
       "    <tr>\n",
       "      <th>ibmq_ourense</th>\n",
       "      <td>4.0</td>\n",
       "      <td>28.75</td>\n",
       "      <td>9.810708</td>\n",
       "      <td>19.0</td>\n",
       "      <td>27.5</td>\n",
       "      <td>41.0</td>\n",
       "      <td>4.0</td>\n",
       "      <td>42.75</td>\n",
       "      <td>9.810708</td>\n",
       "      <td>33.0</td>\n",
       "      <td>41.5</td>\n",
       "      <td>55.0</td>\n",
       "    </tr>\n",
       "    <tr>\n",
       "      <th>ibmq_quito</th>\n",
       "      <td>4.0</td>\n",
       "      <td>107.75</td>\n",
       "      <td>108.444686</td>\n",
       "      <td>28.0</td>\n",
       "      <td>67.5</td>\n",
       "      <td>268.0</td>\n",
       "      <td>4.0</td>\n",
       "      <td>121.75</td>\n",
       "      <td>108.444686</td>\n",
       "      <td>42.0</td>\n",
       "      <td>81.5</td>\n",
       "      <td>282.0</td>\n",
       "    </tr>\n",
       "    <tr>\n",
       "      <th>ibmq_santiago</th>\n",
       "      <td>4.0</td>\n",
       "      <td>21.25</td>\n",
       "      <td>6.291529</td>\n",
       "      <td>14.0</td>\n",
       "      <td>22.0</td>\n",
       "      <td>27.0</td>\n",
       "      <td>4.0</td>\n",
       "      <td>35.25</td>\n",
       "      <td>6.291529</td>\n",
       "      <td>28.0</td>\n",
       "      <td>36.0</td>\n",
       "      <td>41.0</td>\n",
       "    </tr>\n",
       "    <tr>\n",
       "      <th>ibmq_valencia</th>\n",
       "      <td>4.0</td>\n",
       "      <td>31.00</td>\n",
       "      <td>9.556847</td>\n",
       "      <td>20.0</td>\n",
       "      <td>31.0</td>\n",
       "      <td>42.0</td>\n",
       "      <td>4.0</td>\n",
       "      <td>45.00</td>\n",
       "      <td>9.556847</td>\n",
       "      <td>34.0</td>\n",
       "      <td>45.0</td>\n",
       "      <td>56.0</td>\n",
       "    </tr>\n",
       "    <tr>\n",
       "      <th>ibmq_vigo</th>\n",
       "      <td>4.0</td>\n",
       "      <td>24.00</td>\n",
       "      <td>11.518102</td>\n",
       "      <td>14.0</td>\n",
       "      <td>21.5</td>\n",
       "      <td>39.0</td>\n",
       "      <td>4.0</td>\n",
       "      <td>38.00</td>\n",
       "      <td>11.518102</td>\n",
       "      <td>28.0</td>\n",
       "      <td>35.5</td>\n",
       "      <td>53.0</td>\n",
       "    </tr>\n",
       "  </tbody>\n",
       "</table>\n",
       "</div>"
      ],
      "text/plain": [
       "              d_shots                                        min_r_shots  \\\n",
       "                count    mean         std   min   50%    max       count   \n",
       "device                                                                     \n",
       "ibmq_athens       4.0   25.75   15.261608  13.0  22.5   45.0         4.0   \n",
       "ibmq_belem        4.0   35.50   22.708295  17.0  29.0   67.0         4.0   \n",
       "ibmq_lima         4.0   71.00   71.712389  24.0  42.0  176.0         4.0   \n",
       "ibmq_ourense      4.0   28.75    9.810708  19.0  27.5   41.0         4.0   \n",
       "ibmq_quito        4.0  107.75  108.444686  28.0  67.5  268.0         4.0   \n",
       "ibmq_santiago     4.0   21.25    6.291529  14.0  22.0   27.0         4.0   \n",
       "ibmq_valencia     4.0   31.00    9.556847  20.0  31.0   42.0         4.0   \n",
       "ibmq_vigo         4.0   24.00   11.518102  14.0  21.5   39.0         4.0   \n",
       "\n",
       "                                                      \n",
       "                 mean         std   min   50%    max  \n",
       "device                                                \n",
       "ibmq_athens     39.75   15.261608  27.0  36.5   59.0  \n",
       "ibmq_belem      49.50   22.708295  31.0  43.0   81.0  \n",
       "ibmq_lima       85.00   71.712389  38.0  56.0  190.0  \n",
       "ibmq_ourense    42.75    9.810708  33.0  41.5   55.0  \n",
       "ibmq_quito     121.75  108.444686  42.0  81.5  282.0  \n",
       "ibmq_santiago   35.25    6.291529  28.0  36.0   41.0  \n",
       "ibmq_valencia   45.00    9.556847  34.0  45.0   56.0  \n",
       "ibmq_vigo       38.00   11.518102  28.0  35.5   53.0  "
      ]
     },
     "execution_count": 16,
     "metadata": {},
     "output_type": "execute_result"
    }
   ],
   "source": [
    "print(\"mitigation:\",mit,\"  metric:\",s_metric )\n",
    "df_mod.groupby('device')[['d_shots','min_r_shots']].describe(percentiles=[0.5])"
   ]
  },
  {
   "cell_type": "markdown",
   "metadata": {},
   "source": [
    "## Ideal vs empirical model: "
   ]
  },
  {
   "cell_type": "markdown",
   "metadata": {},
   "source": [
    "## without mitigation"
   ]
  },
  {
   "cell_type": "markdown",
   "metadata": {},
   "source": [
    "### excess shots for creation + Bob measurement"
   ]
  },
  {
   "cell_type": "markdown",
   "metadata": {},
   "source": [
    "#### Paired t-test and Wilcoxon test"
   ]
  },
  {
   "cell_type": "code",
   "execution_count": 18,
   "metadata": {
    "scrolled": false
   },
   "outputs": [
    {
     "name": "stdout",
     "output_type": "stream",
     "text": [
      "mitigation: no   metric: sqeuclidean variable: d_shots\n",
      "           count    mean        std   min   50%   max\n",
      "model                                                \n",
      "empirical    8.0  18.625   5.289815  13.0  18.0  28.0\n",
      "ideal_sim    8.0  27.500  17.262677  14.0  22.0  67.0 \n",
      "\n",
      "paired data\n",
      "[14. 13. 20. 14. 19. 28. 24. 17.]\n",
      "[18. 14. 35. 16. 23. 67. 26. 21.] \n",
      "\n",
      "Ttest_relResult(statistic=-1.9392621029650916, pvalue=0.09363669481734965)\n",
      "WilcoxonResult(statistic=0.0, pvalue=0.0078125) \n",
      "\n"
     ]
    }
   ],
   "source": [
    "for depvar in ['d_shots' ]:\n",
    "    print(\"mitigation:\",mit,\"  metric:\",s_metric, \"variable:\", depvar)\n",
    "    df_dep = df_mod.query(\"id_gates == 0.0\").groupby(['model'])[depvar]\n",
    "    print(df_dep.describe(percentiles=[0.5]),\"\\n\")\n",
    "    # no error rate curve obtained for ibmqx2 with the ideal model, hence this exclusion:\n",
    "    df_emp=df_mod.query(\"model == 'empirical' & id_gates == 0.0\")\n",
    "    df_ide=df_mod.query(\"model == 'ideal_sim' & id_gates == 0.0\")  #.reindex_like(df_emp,'nearest')\n",
    "    # back to numpy arrays from pandas: \n",
    "    print(\"paired data\")\n",
    "    print(np.asarray(df_emp[depvar]))\n",
    "    print(np.asarray(df_ide[depvar]),\"\\n\")\n",
    "\n",
    "    print(stats.ttest_rel(np.asarray(df_emp[depvar]),np.asarray(df_ide[depvar])))\n",
    "    print(stats.wilcoxon(np.asarray(df_emp[depvar]),np.asarray(df_ide[depvar])),\"\\n\")\n",
    "# added for delta calculations\n",
    "cb_shots_emp = np.asarray(df_emp[depvar])\n",
    "cb_shots_ide = np.asarray(df_ide[depvar])"
   ]
  },
  {
   "cell_type": "markdown",
   "metadata": {},
   "source": [
    "### excess shots for creation + transmission time of 256  id gates + Bob measurement"
   ]
  },
  {
   "cell_type": "markdown",
   "metadata": {},
   "source": [
    "#### Paired t-test and Wilcoxon test"
   ]
  },
  {
   "cell_type": "code",
   "execution_count": 19,
   "metadata": {
    "scrolled": false
   },
   "outputs": [
    {
     "name": "stdout",
     "output_type": "stream",
     "text": [
      "mitigation: no   metric: sqeuclidean variable: d_shots\n",
      "           count    mean        std   min   50%    max\n",
      "model                                                 \n",
      "empirical    8.0  38.375  15.801786  27.0  31.5   68.0\n",
      "ideal_sim    8.0  88.000  87.017240  26.0  43.5  268.0 \n",
      "\n",
      "paired data\n",
      "[27. 31. 27. 27. 32. 68. 58. 37.]\n",
      "[ 26.  45.  42.  39.  41. 268. 176.  67.] \n",
      "\n",
      "Ttest_relResult(statistic=-1.9635222279074889, pvalue=0.09034957260966052)\n",
      "WilcoxonResult(statistic=1.0, pvalue=0.015625) \n",
      "\n"
     ]
    }
   ],
   "source": [
    "for depvar in ['d_shots' ]:\n",
    "    print(\"mitigation:\",mit,\"  metric:\",s_metric, \"variable:\", depvar)\n",
    "    df_dep = df_mod.query(\"id_gates == 256.0 \").groupby(['model'])[depvar]\n",
    "    print(df_dep.describe(percentiles=[0.5]),\"\\n\")\n",
    "    # no error rate curve obtained for ibmqx2   with the ideal model, hence their exclusion:\n",
    "    df_emp=df_mod.query(\"model == 'empirical' & id_gates == 256.0 \")\n",
    "    df_ide=df_mod.query(\"model == 'ideal_sim' & id_gates == 256.0\")  #.reindex_like(df_emp,'nearest') \n",
    "    # back to numpy arrays from pandas: \n",
    "    print(\"paired data\")\n",
    "    print(np.asarray(df_emp[depvar]))\n",
    "    print(np.asarray(df_ide[depvar]),\"\\n\")\n",
    "    \n",
    "    print(stats.ttest_rel(np.asarray(df_emp[depvar]),np.asarray(df_ide[depvar])))\n",
    "    print(stats.wilcoxon(np.asarray(df_emp[depvar]),np.asarray(df_ide[depvar])),\"\\n\")\n",
    "# added for delta calculations\n",
    "tb_shots_emp = np.asarray(df_emp[depvar])\n",
    "tb_shots_ide = np.asarray(df_ide[depvar])"
   ]
  },
  {
   "cell_type": "markdown",
   "metadata": {},
   "source": [
    "### excess shots for  transmission time of 256  id gates + Bob measurement"
   ]
  },
  {
   "cell_type": "code",
   "execution_count": 20,
   "metadata": {
    "scrolled": false
   },
   "outputs": [
    {
     "name": "stdout",
     "output_type": "stream",
     "text": [
      "mitigation: no   metric: sqeuclidean\n",
      "19.75 +/- 10.697546447667333\n",
      "60.5 +/- 68.61304540683207\n",
      "[13. 18.  7. 13. 13. 40. 34. 20.]\n",
      "[  8.  31.   7.  23.  18. 201. 150.  46.]\n",
      "Ttest_relResult(statistic=-1.8528367853664818, pvalue=0.10632354920663743)\n",
      "WilcoxonResult(statistic=1.5, pvalue=0.034287967973591744)\n"
     ]
    },
    {
     "name": "stderr",
     "output_type": "stream",
     "text": [
      "C:\\Users\\decpi\\Anaconda3\\envs\\QK25\\lib\\site-packages\\scipy\\stats\\morestats.py:2967: UserWarning: Exact p-value calculation does not work if there are ties. Switching to normal approximation.\n",
      "  warnings.warn(\"Exact p-value calculation does not work if there are \"\n",
      "C:\\Users\\decpi\\Anaconda3\\envs\\QK25\\lib\\site-packages\\scipy\\stats\\morestats.py:2981: UserWarning: Sample size too small for normal approximation.\n",
      "  warnings.warn(\"Sample size too small for normal approximation.\")\n"
     ]
    }
   ],
   "source": [
    "\n",
    "print(\"mitigation:\",mit,\"  metric:\",s_metric)\n",
    "d_tb_emp = tb_shots_emp-cb_shots_emp\n",
    "d_tb_ide = tb_shots_ide-cb_shots_ide\n",
    "print(np.mean(d_tb_emp), '+/-',np.std(d_tb_emp))\n",
    "print(np.mean(d_tb_ide), '+/-', np.std(d_tb_ide))\n",
    "print(d_tb_emp)\n",
    "print(d_tb_ide)\n",
    "print(stats.ttest_rel(tb_shots_emp-cb_shots_emp,tb_shots_ide-cb_shots_ide))\n",
    "print(stats.wilcoxon(tb_shots_emp-cb_shots_emp,tb_shots_ide-cb_shots_ide))"
   ]
  },
  {
   "cell_type": "markdown",
   "metadata": {},
   "source": [
    "## with mitigation"
   ]
  },
  {
   "cell_type": "code",
   "execution_count": 21,
   "metadata": {},
   "outputs": [],
   "source": [
    "mit = 'yes'\n",
    "MIT= 0"
   ]
  },
  {
   "cell_type": "code",
   "execution_count": 22,
   "metadata": {
    "scrolled": true
   },
   "outputs": [
    {
     "name": "stderr",
     "output_type": "stream",
     "text": [
      "<ipython-input-22-af347b9ea33a>:2: UserWarning: Boolean Series key will be reindexed to match DataFrame index.\n",
      "  df_mod = df_All[df_All.mitigation == mit][df_All.metric == s_metric]\n"
     ]
    }
   ],
   "source": [
    "# select data according to the options\n",
    "df_mod = df_All[df_All.mitigation == mit][df_All.metric == s_metric]"
   ]
  },
  {
   "cell_type": "code",
   "execution_count": 23,
   "metadata": {},
   "outputs": [
    {
     "name": "stdout",
     "output_type": "stream",
     "text": [
      "mitigation: yes   metric: sqeuclidean\n"
     ]
    },
    {
     "data": {
      "text/html": [
       "<div>\n",
       "<style scoped>\n",
       "    .dataframe tbody tr th:only-of-type {\n",
       "        vertical-align: middle;\n",
       "    }\n",
       "\n",
       "    .dataframe tbody tr th {\n",
       "        vertical-align: top;\n",
       "    }\n",
       "\n",
       "    .dataframe thead tr th {\n",
       "        text-align: left;\n",
       "    }\n",
       "\n",
       "    .dataframe thead tr:last-of-type th {\n",
       "        text-align: right;\n",
       "    }\n",
       "</style>\n",
       "<table border=\"1\" class=\"dataframe\">\n",
       "  <thead>\n",
       "    <tr>\n",
       "      <th></th>\n",
       "      <th colspan=\"6\" halign=\"left\">d_shots</th>\n",
       "      <th colspan=\"6\" halign=\"left\">min_r_shots</th>\n",
       "    </tr>\n",
       "    <tr>\n",
       "      <th></th>\n",
       "      <th>count</th>\n",
       "      <th>mean</th>\n",
       "      <th>std</th>\n",
       "      <th>min</th>\n",
       "      <th>50%</th>\n",
       "      <th>max</th>\n",
       "      <th>count</th>\n",
       "      <th>mean</th>\n",
       "      <th>std</th>\n",
       "      <th>min</th>\n",
       "      <th>50%</th>\n",
       "      <th>max</th>\n",
       "    </tr>\n",
       "    <tr>\n",
       "      <th>device</th>\n",
       "      <th></th>\n",
       "      <th></th>\n",
       "      <th></th>\n",
       "      <th></th>\n",
       "      <th></th>\n",
       "      <th></th>\n",
       "      <th></th>\n",
       "      <th></th>\n",
       "      <th></th>\n",
       "      <th></th>\n",
       "      <th></th>\n",
       "      <th></th>\n",
       "    </tr>\n",
       "  </thead>\n",
       "  <tbody>\n",
       "    <tr>\n",
       "      <th>ibmq_athens</th>\n",
       "      <td>4.0</td>\n",
       "      <td>19.00</td>\n",
       "      <td>11.575837</td>\n",
       "      <td>9.0</td>\n",
       "      <td>17.0</td>\n",
       "      <td>33.0</td>\n",
       "      <td>4.0</td>\n",
       "      <td>33.00</td>\n",
       "      <td>11.575837</td>\n",
       "      <td>23.0</td>\n",
       "      <td>31.0</td>\n",
       "      <td>47.0</td>\n",
       "    </tr>\n",
       "    <tr>\n",
       "      <th>ibmq_belem</th>\n",
       "      <td>4.0</td>\n",
       "      <td>18.75</td>\n",
       "      <td>13.200379</td>\n",
       "      <td>7.0</td>\n",
       "      <td>16.0</td>\n",
       "      <td>36.0</td>\n",
       "      <td>4.0</td>\n",
       "      <td>32.75</td>\n",
       "      <td>13.200379</td>\n",
       "      <td>21.0</td>\n",
       "      <td>30.0</td>\n",
       "      <td>50.0</td>\n",
       "    </tr>\n",
       "    <tr>\n",
       "      <th>ibmq_lima</th>\n",
       "      <td>4.0</td>\n",
       "      <td>26.25</td>\n",
       "      <td>22.035955</td>\n",
       "      <td>8.0</td>\n",
       "      <td>21.0</td>\n",
       "      <td>55.0</td>\n",
       "      <td>4.0</td>\n",
       "      <td>40.25</td>\n",
       "      <td>22.035955</td>\n",
       "      <td>22.0</td>\n",
       "      <td>35.0</td>\n",
       "      <td>69.0</td>\n",
       "    </tr>\n",
       "    <tr>\n",
       "      <th>ibmq_ourense</th>\n",
       "      <td>4.0</td>\n",
       "      <td>13.25</td>\n",
       "      <td>4.991660</td>\n",
       "      <td>9.0</td>\n",
       "      <td>12.0</td>\n",
       "      <td>20.0</td>\n",
       "      <td>4.0</td>\n",
       "      <td>27.25</td>\n",
       "      <td>4.991660</td>\n",
       "      <td>23.0</td>\n",
       "      <td>26.0</td>\n",
       "      <td>34.0</td>\n",
       "    </tr>\n",
       "    <tr>\n",
       "      <th>ibmq_quito</th>\n",
       "      <td>4.0</td>\n",
       "      <td>62.75</td>\n",
       "      <td>55.162638</td>\n",
       "      <td>17.0</td>\n",
       "      <td>45.5</td>\n",
       "      <td>143.0</td>\n",
       "      <td>4.0</td>\n",
       "      <td>76.75</td>\n",
       "      <td>55.162638</td>\n",
       "      <td>31.0</td>\n",
       "      <td>59.5</td>\n",
       "      <td>157.0</td>\n",
       "    </tr>\n",
       "    <tr>\n",
       "      <th>ibmq_santiago</th>\n",
       "      <td>4.0</td>\n",
       "      <td>13.75</td>\n",
       "      <td>5.123475</td>\n",
       "      <td>8.0</td>\n",
       "      <td>14.0</td>\n",
       "      <td>19.0</td>\n",
       "      <td>4.0</td>\n",
       "      <td>27.75</td>\n",
       "      <td>5.123475</td>\n",
       "      <td>22.0</td>\n",
       "      <td>28.0</td>\n",
       "      <td>33.0</td>\n",
       "    </tr>\n",
       "    <tr>\n",
       "      <th>ibmq_valencia</th>\n",
       "      <td>4.0</td>\n",
       "      <td>11.75</td>\n",
       "      <td>4.787136</td>\n",
       "      <td>5.0</td>\n",
       "      <td>13.0</td>\n",
       "      <td>16.0</td>\n",
       "      <td>4.0</td>\n",
       "      <td>25.75</td>\n",
       "      <td>4.787136</td>\n",
       "      <td>19.0</td>\n",
       "      <td>27.0</td>\n",
       "      <td>30.0</td>\n",
       "    </tr>\n",
       "    <tr>\n",
       "      <th>ibmq_vigo</th>\n",
       "      <td>4.0</td>\n",
       "      <td>12.25</td>\n",
       "      <td>7.544314</td>\n",
       "      <td>5.0</td>\n",
       "      <td>11.5</td>\n",
       "      <td>21.0</td>\n",
       "      <td>4.0</td>\n",
       "      <td>26.25</td>\n",
       "      <td>7.544314</td>\n",
       "      <td>19.0</td>\n",
       "      <td>25.5</td>\n",
       "      <td>35.0</td>\n",
       "    </tr>\n",
       "  </tbody>\n",
       "</table>\n",
       "</div>"
      ],
      "text/plain": [
       "              d_shots                                      min_r_shots         \\\n",
       "                count   mean        std   min   50%    max       count   mean   \n",
       "device                                                                          \n",
       "ibmq_athens       4.0  19.00  11.575837   9.0  17.0   33.0         4.0  33.00   \n",
       "ibmq_belem        4.0  18.75  13.200379   7.0  16.0   36.0         4.0  32.75   \n",
       "ibmq_lima         4.0  26.25  22.035955   8.0  21.0   55.0         4.0  40.25   \n",
       "ibmq_ourense      4.0  13.25   4.991660   9.0  12.0   20.0         4.0  27.25   \n",
       "ibmq_quito        4.0  62.75  55.162638  17.0  45.5  143.0         4.0  76.75   \n",
       "ibmq_santiago     4.0  13.75   5.123475   8.0  14.0   19.0         4.0  27.75   \n",
       "ibmq_valencia     4.0  11.75   4.787136   5.0  13.0   16.0         4.0  25.75   \n",
       "ibmq_vigo         4.0  12.25   7.544314   5.0  11.5   21.0         4.0  26.25   \n",
       "\n",
       "                                             \n",
       "                     std   min   50%    max  \n",
       "device                                       \n",
       "ibmq_athens    11.575837  23.0  31.0   47.0  \n",
       "ibmq_belem     13.200379  21.0  30.0   50.0  \n",
       "ibmq_lima      22.035955  22.0  35.0   69.0  \n",
       "ibmq_ourense    4.991660  23.0  26.0   34.0  \n",
       "ibmq_quito     55.162638  31.0  59.5  157.0  \n",
       "ibmq_santiago   5.123475  22.0  28.0   33.0  \n",
       "ibmq_valencia   4.787136  19.0  27.0   30.0  \n",
       "ibmq_vigo       7.544314  19.0  25.5   35.0  "
      ]
     },
     "execution_count": 23,
     "metadata": {},
     "output_type": "execute_result"
    }
   ],
   "source": [
    "print(\"mitigation:\",mit,\"  metric:\",s_metric )\n",
    "df_mod.groupby('device')[['d_shots','min_r_shots']].describe(percentiles=[0.5])"
   ]
  },
  {
   "cell_type": "markdown",
   "metadata": {},
   "source": [
    "### excess shots for creation "
   ]
  },
  {
   "cell_type": "markdown",
   "metadata": {},
   "source": [
    "#### Paired t-test and Wilcoxon test"
   ]
  },
  {
   "cell_type": "code",
   "execution_count": 24,
   "metadata": {
    "scrolled": false
   },
   "outputs": [
    {
     "name": "stdout",
     "output_type": "stream",
     "text": [
      "mitigation: yes   metric: sqeuclidean variable: d_shots\n",
      "           count    mean        std  min   50%   max\n",
      "model                                               \n",
      "empirical    8.0   8.625   3.814914  5.0   8.0  17.0\n",
      "ideal_sim    8.0  14.625  12.827844  7.0  10.0  46.0 \n",
      "\n",
      "paired data\n",
      "[ 8. 10.  5.  5.  9. 17.  8.  7.]\n",
      "[11.  9. 14.  7. 10. 46. 10. 10.] \n",
      "\n",
      "Ttest_relResult(statistic=-1.7450837288061014, pvalue=0.12448258001624288)\n",
      "WilcoxonResult(statistic=1.5, pvalue=0.015625) \n",
      "\n"
     ]
    }
   ],
   "source": [
    "for depvar in ['d_shots' ]:\n",
    "    print(\"mitigation:\",mit,\"  metric:\",s_metric, \"variable:\", depvar)\n",
    "    df_dep = df_mod.query(\"id_gates == 0.0\").groupby(['model'])[depvar]\n",
    "    print(df_dep.describe(percentiles=[0.5]),\"\\n\")\n",
    "    # no error rate curve obtained for ibmqx2 with the ideal model, hence this exclusion:\n",
    "    df_emp=df_mod.query(\"model == 'empirical' & id_gates == 0.0 \")\n",
    "    df_ide=df_mod.query(\"model == 'ideal_sim' & id_gates == 0.0\")  #.reindex_like(df_emp,'nearest')\n",
    "    # back to numpy arrays from pandas: \n",
    "    print(\"paired data\")\n",
    "    print(np.asarray(df_emp[depvar]))\n",
    "    print(np.asarray(df_ide[depvar]),\"\\n\")\n",
    "\n",
    "    print(stats.ttest_rel(np.asarray(df_emp[depvar]),np.asarray(df_ide[depvar])))\n",
    "    print(stats.wilcoxon(np.asarray(df_emp[depvar]),np.asarray(df_ide[depvar])),\"\\n\")\n",
    "# added for delta calculations\n",
    "c_shots_emp = np.asarray(df_emp[depvar])\n",
    "c_shots_ide = np.asarray(df_ide[depvar])"
   ]
  },
  {
   "cell_type": "markdown",
   "metadata": {},
   "source": [
    "### excess shots for creation + transmission time of 256  id gates"
   ]
  },
  {
   "cell_type": "markdown",
   "metadata": {},
   "source": [
    "#### Paired t-test and Wilcoxon test"
   ]
  },
  {
   "cell_type": "code",
   "execution_count": 25,
   "metadata": {
    "scrolled": false
   },
   "outputs": [
    {
     "name": "stdout",
     "output_type": "stream",
     "text": [
      "mitigation: yes   metric: sqeuclidean variable: d_shots\n",
      "           count    mean        std   min   50%    max\n",
      "model                                                 \n",
      "empirical    8.0  23.000  10.915258  12.0  20.5   45.0\n",
      "ideal_sim    8.0  42.625  42.610990  16.0  27.0  143.0 \n",
      "\n",
      "paired data\n",
      "[19. 24. 12. 16. 14. 45. 32. 22.]\n",
      "[ 17.  33.  16.  21.  20. 143.  55.  36.] \n",
      "\n",
      "Ttest_relResult(statistic=-1.7060754673307206, pvalue=0.13175979056715553)\n",
      "WilcoxonResult(statistic=1.0, pvalue=0.015625) \n",
      "\n"
     ]
    }
   ],
   "source": [
    "for depvar in ['d_shots' ]:\n",
    "    print(\"mitigation:\",mit,\"  metric:\",s_metric, \"variable:\", depvar)\n",
    "    df_dep = df_mod.query(\"id_gates == 256.0 \").groupby(['model'])[depvar]\n",
    "    print(df_dep.describe(percentiles=[0.5]),\"\\n\")\n",
    "    # no error rate curve obtained for ibmqx2   with the ideal model, hence their exclusion:\n",
    "    df_emp=df_mod.query(\"model == 'empirical' & id_gates == 256.0 \")\n",
    "    df_ide=df_mod.query(\"model == 'ideal_sim' & id_gates == 256.0\")  #.reindex_like(df_emp,'nearest') \n",
    "    # back to numpy arrays from pandas: \n",
    "    print(\"paired data\")\n",
    "    print(np.asarray(df_emp[depvar]))\n",
    "    print(np.asarray(df_ide[depvar]),\"\\n\")\n",
    "    \n",
    "    print(stats.ttest_rel(np.asarray(df_emp[depvar]),np.asarray(df_ide[depvar])))\n",
    "    print(stats.wilcoxon(np.asarray(df_emp[depvar]),np.asarray(df_ide[depvar])),\"\\n\")\n",
    "# added for delta calculations\n",
    "t_shots_emp = np.asarray(df_emp[depvar])\n",
    "t_shots_ide = np.asarray(df_ide[depvar])"
   ]
  },
  {
   "cell_type": "markdown",
   "metadata": {},
   "source": [
    "### excess shots for  transmission time of 256  id gates"
   ]
  },
  {
   "cell_type": "code",
   "execution_count": 26,
   "metadata": {
    "scrolled": false
   },
   "outputs": [
    {
     "name": "stdout",
     "output_type": "stream",
     "text": [
      "mitigation: yes   metric: sqeuclidean\n",
      "14.375 7.448783457719791\n",
      "28.0 +/- 29.047375096555626\n",
      "[11. 14.  7. 11.  5. 28. 24. 15.]\n",
      "[ 6. 24.  2. 14. 10. 97. 45. 26.]\n",
      "Ttest_relResult(statistic=-1.6077415665563122, pvalue=0.1519271176467331)\n",
      "WilcoxonResult(statistic=6.0, pvalue=0.109375)\n"
     ]
    }
   ],
   "source": [
    "print(\"mitigation:\",mit,\"  metric:\",s_metric)\n",
    "d_t_emp = t_shots_emp-c_shots_emp\n",
    "d_t_ide = t_shots_ide-c_shots_ide\n",
    "\n",
    "print(np.mean(d_t_emp), np.std(d_t_emp))\n",
    "print(np.mean(d_t_ide), '+/-', np.std(d_t_ide))\n",
    "print(d_t_emp)\n",
    "print(d_t_ide)\n",
    "print(stats.ttest_rel(t_shots_emp-c_shots_emp,t_shots_ide-c_shots_ide))\n",
    "print(stats.wilcoxon(t_shots_emp-c_shots_emp,t_shots_ide-c_shots_ide))"
   ]
  },
  {
   "cell_type": "code",
   "execution_count": null,
   "metadata": {},
   "outputs": [],
   "source": []
  }
 ],
 "metadata": {
  "kernelspec": {
   "display_name": "Python 3",
   "language": "python",
   "name": "python3"
  },
  "language_info": {
   "codemirror_mode": {
    "name": "ipython",
    "version": 3
   },
   "file_extension": ".py",
   "mimetype": "text/x-python",
   "name": "python",
   "nbconvert_exporter": "python",
   "pygments_lexer": "ipython3",
   "version": "3.8.3"
  },
  "varInspector": {
   "cols": {
    "lenName": 16,
    "lenType": 16,
    "lenVar": 40
   },
   "kernels_config": {
    "python": {
     "delete_cmd_postfix": "",
     "delete_cmd_prefix": "del ",
     "library": "var_list.py",
     "varRefreshCmd": "print(var_dic_list())"
    },
    "r": {
     "delete_cmd_postfix": ") ",
     "delete_cmd_prefix": "rm(",
     "library": "var_list.r",
     "varRefreshCmd": "cat(var_dic_list()) "
    }
   },
   "types_to_exclude": [
    "module",
    "function",
    "builtin_function_or_method",
    "instance",
    "_Feature"
   ],
   "window_display": false
  }
 },
 "nbformat": 4,
 "nbformat_minor": 2
}
