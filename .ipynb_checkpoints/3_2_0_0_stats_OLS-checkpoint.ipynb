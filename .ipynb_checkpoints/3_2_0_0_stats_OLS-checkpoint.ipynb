{
 "cells": [
  {
   "cell_type": "code",
   "execution_count": 1,
   "metadata": {},
   "outputs": [],
   "source": [
    "import numpy as np\n",
    "import pandas as pd\n",
    "import json as json\n",
    "from scipy import stats\n",
    "from statsmodels.formula.api import ols\n",
    "import matplotlib.pyplot as plt\n",
    "from scipy.signal import savgol_filter"
   ]
  },
  {
   "cell_type": "code",
   "execution_count": 2,
   "metadata": {},
   "outputs": [],
   "source": [
    "from o_plot import opl # a small local package dedicated to this project"
   ]
  },
  {
   "cell_type": "code",
   "execution_count": 3,
   "metadata": {},
   "outputs": [],
   "source": [
    "# Prepare the data"
   ]
  },
  {
   "cell_type": "code",
   "execution_count": 4,
   "metadata": {},
   "outputs": [
    {
     "name": "stdout",
     "output_type": "stream",
     "text": [
      "148\n"
     ]
    }
   ],
   "source": [
    "# loading the data\n",
    "file_name = 'Up_to_Belem_TE4AL2_data_new.json'\n",
    "f = open(file_name)\n",
    "All_data = json.load(f)\n",
    "print(len(All_data))"
   ]
  },
  {
   "cell_type": "markdown",
   "metadata": {},
   "source": [
    "## Note for the interpretation of the curves and definition of the statistical variables\n",
    "\n",
    "The quantum state classifier (QSC) error rates $\\widehat{r}_i$ in function of the number of experimental shots $n$ were determined for each highly entangled quantum state $\\omega_i$ in the $\\Omega$ set, with $i=1...m$.\n",
    "\n",
    "The curves seen on the figures represents the mean of the QSC error rate $\\widehat{r}_{mean}$ over the $m$ quantum states at each $n$ value.\n",
    "\n",
    "This Monte Carlo simulation allowed to determine a safe shot number $n_s$ such that $\\forall i\\; \\widehat{r}_i\\le \\epsilon_s$. The value of $\\epsilon_s$ was set at 0.001.\n",
    "\n",
    "$\\widehat{r}_{max}$ is the maximal value observed among all the $\\widehat{r}_i$ values for the determined  number of shots $n_s$.\n",
    "\n",
    "Similarly, from the error curves stored in the data file, was computed the safe shot number $n_t$ such that $\\widehat{r}_{mean}\\le \\epsilon_t$. The value of $\\epsilon_t$ was set at 0.0005 after verifying that all $\\widehat{r}_{mean}$ at $n_s$ were $\\le \\epsilon_s$ in the different experimental settings. \n",
    "\n",
    "Correspondance between variables names in the text and in the data base:\n",
    "\n",
    "- $\\widehat{r}_{mean}$: error_curve\n",
    "- $n_s$: shots\n",
    "- max ($\\widehat{r}_i$) at $n_s$: shot_rate\n",
    "- $\\widehat{r}_{mean}$ at $n_s$: mns_rate\n",
    "- $n_t$: m_shots\n",
    "- $\\widehat{r}_{mean}$ at $n_t$: m_shot_rate\n",
    "\n",
    "\n"
   ]
  },
  {
   "cell_type": "code",
   "execution_count": 5,
   "metadata": {},
   "outputs": [],
   "source": [
    "# Calculate shot number 'm_shots' for mean error rate 'm_shot_rates' <= epsilon_t\n",
    "len_data = len(All_data)\n",
    "epsilon_t = 0.0005\n",
    "window = 11\n",
    "for i in range(len_data):            \n",
    "    curve = np.array(All_data[i]['error_curve'])\n",
    "    # filter the curve only for real devices:\n",
    "    if All_data[i]['device']!=\"ideal_device\":    \n",
    "        curve = savgol_filter(curve,window,2) \n",
    "    # find the safe shot number:    \n",
    "    len_c = len(curve)                               \n",
    "    n_a = np.argmin(np.flip(curve)<=epsilon_t)+1                          \n",
    "    if n_a == 1:\n",
    "        n_a = np.nan\n",
    "        m_r = np.nan\n",
    "    else:\n",
    "        m_r = curve[len_c-n_a+1]\n",
    "    All_data[i]['min_r_shots'] = len_c-n_a\n",
    "    All_data[i]['min_r'] = m_r"
   ]
  },
  {
   "cell_type": "code",
   "execution_count": 6,
   "metadata": {},
   "outputs": [],
   "source": [
    "# find mean error rate at n_s\n",
    "for i in range(len_data):\n",
    "    i_shot = All_data[i][\"shots\"]\n",
    "    if not np.isnan(i_shot):\n",
    "        j = int(i_shot)-1        \n",
    "        All_data[i]['mns_rate'] = All_data[i]['error_curve'][j]\n",
    "    else:\n",
    "        All_data[i]['mns_rate'] = np.nan"
   ]
  },
  {
   "cell_type": "code",
   "execution_count": 7,
   "metadata": {},
   "outputs": [],
   "source": [
    "#defining the pandas data frame for statistics excluding from here ibmqx2 data\n",
    "df_All= pd.DataFrame(All_data,columns=['shot_rates','shots', 'device', 'fidelity',\n",
    "                                        'mitigation','model','id_gates',\n",
    "                                        'QV', 'metric','error_curve',\n",
    "                                        'mns_rate','min_r_shots',\n",
    "                                        'min_r']).query(\"device != 'ibmqx2'\")\n",
    "\n",
    "# any shot number >= 488 indicates that the curve calculation \n",
    "# was ended after reaching n = 500, hence this data correction:\n",
    "df_All.loc[df_All.shots>=488,\"shots\"]=np.nan\n",
    "\n",
    "# add the variable neperian log of safe shot number: \n",
    "df_All['log_shots'] = np.log(df_All['shots'])\n",
    "df_All['log_min_r_shots'] = np.log(df_All['min_r_shots'])"
   ]
  },
  {
   "cell_type": "markdown",
   "metadata": {},
   "source": [
    "### Error rates in function of chosen $\\epsilon_s$ and $\\epsilon_t$"
   ]
  },
  {
   "cell_type": "code",
   "execution_count": 8,
   "metadata": {},
   "outputs": [
    {
     "name": "stdout",
     "output_type": "stream",
     "text": [
      "max mean error rate at n_s over all experiments = 0.000515\n"
     ]
    }
   ],
   "source": [
    "print(\"max mean error rate at n_s over all experiments =\", round(max(df_All.mns_rate[:-2]),6))"
   ]
  },
  {
   "cell_type": "code",
   "execution_count": 9,
   "metadata": {},
   "outputs": [
    {
     "name": "stdout",
     "output_type": "stream",
     "text": [
      "min mean error rate at n_t over all experiments = 0.000225\n"
     ]
    }
   ],
   "source": [
    "print(\"min mean error rate at n_t over all experiments =\", round(min(df_All.min_r[:-2]),6))"
   ]
  },
  {
   "cell_type": "code",
   "execution_count": 10,
   "metadata": {},
   "outputs": [
    {
     "name": "stdout",
     "output_type": "stream",
     "text": [
      "max mean error rate at n_t over all experiments = 0.0005\n"
     ]
    }
   ],
   "source": [
    "print(\"max mean error rate at n_t over all experiments =\", round(max(df_All.min_r[:-2]),6))"
   ]
  },
  {
   "cell_type": "code",
   "execution_count": 11,
   "metadata": {},
   "outputs": [
    {
     "data": {
      "text/plain": [
       "<AxesSubplot:ylabel='Frequency'>"
      ]
     },
     "execution_count": 11,
     "metadata": {},
     "output_type": "execute_result"
    },
    {
     "data": {
      "image/png": "[encoded data removed]",
      "text/plain": [
       "<Figure size 432x288 with 1 Axes>"
      ]
     },
     "metadata": {
      "needs_background": "light"
     },
     "output_type": "display_data"
    }
   ],
   "source": [
    "df_All.mns_rate[:-2].plot.hist(alpha=0.5, legend = True)\n",
    "df_All.min_r[:-2].plot.hist(alpha=0.5, legend = True)"
   ]
  },
  {
   "cell_type": "markdown",
   "metadata": {},
   "source": [
    "# Statistical overview\n",
    "\n",
    "For this section, an ordinary linear least square estimation is performed.\n",
    "The dependent variables tested are $n_s$ (shots) and $n_t$ (min_r_shots)"
   ]
  },
  {
   "cell_type": "code",
   "execution_count": 12,
   "metadata": {},
   "outputs": [
    {
     "name": "stdout",
     "output_type": "stream",
     "text": [
      "                            OLS Regression Results                            \n",
      "==============================================================================\n",
      "Dep. Variable:                  shots   R-squared:                       0.000\n",
      "Model:                            OLS   Adj. R-squared:                 -0.008\n",
      "Method:                 Least Squares   F-statistic:                 1.142e-05\n",
      "Date:                Sat, 05 Jun 2021   Prob (F-statistic):              0.997\n",
      "Time:                        14:55:23   Log-Likelihood:                -687.11\n",
      "No. Observations:                 128   AIC:                             1378.\n",
      "Df Residuals:                     126   BIC:                             1384.\n",
      "Df Model:                           1                                         \n",
      "Covariance Type:            nonrobust                                         \n",
      "=========================================================================================\n",
      "                            coef    std err          t      P>|t|      [0.025      0.975]\n",
      "-----------------------------------------------------------------------------------------\n",
      "Intercept                58.6406      6.538      8.970      0.000      45.703      71.578\n",
      "metric[T.sqeuclidean]    -0.0313      9.246     -0.003      0.997     -18.328      18.266\n",
      "==============================================================================\n",
      "Omnibus:                      134.419   Durbin-Watson:                   1.443\n",
      "Prob(Omnibus):                  0.000   Jarque-Bera (JB):             1845.638\n",
      "Skew:                           3.896   Prob(JB):                         0.00\n",
      "Kurtosis:                      19.892   Cond. No.                         2.62\n",
      "==============================================================================\n",
      "\n",
      "Notes:\n",
      "[1] Standard Errors assume that the covariance matrix of the errors is correctly specified.\n"
     ]
    }
   ],
   "source": [
    "stat_model = ols(\"shots ~  metric\",\n",
    "                 df_All.query(\"device != 'ideal_device'\")).fit()\n",
    "print(stat_model.summary())"
   ]
  },
  {
   "cell_type": "code",
   "execution_count": 13,
   "metadata": {},
   "outputs": [
    {
     "name": "stdout",
     "output_type": "stream",
     "text": [
      "                            OLS Regression Results                            \n",
      "==============================================================================\n",
      "Dep. Variable:            min_r_shots   R-squared:                       0.000\n",
      "Model:                            OLS   Adj. R-squared:                 -0.008\n",
      "Method:                 Least Squares   F-statistic:                 0.0001635\n",
      "Date:                Sat, 05 Jun 2021   Prob (F-statistic):              0.990\n",
      "Time:                        14:55:24   Log-Likelihood:                -657.43\n",
      "No. Observations:                 128   AIC:                             1319.\n",
      "Df Residuals:                     126   BIC:                             1325.\n",
      "Df Model:                           1                                         \n",
      "Covariance Type:            nonrobust                                         \n",
      "=========================================================================================\n",
      "                            coef    std err          t      P>|t|      [0.025      0.975]\n",
      "-----------------------------------------------------------------------------------------\n",
      "Intercept                46.7656      5.184      9.020      0.000      36.506      57.025\n",
      "metric[T.sqeuclidean]    -0.0938      7.332     -0.013      0.990     -14.603      14.416\n",
      "==============================================================================\n",
      "Omnibus:                      137.043   Durbin-Watson:                   1.397\n",
      "Prob(Omnibus):                  0.000   Jarque-Bera (JB):             2030.741\n",
      "Skew:                           3.970   Prob(JB):                         0.00\n",
      "Kurtosis:                      20.825   Cond. No.                         2.62\n",
      "==============================================================================\n",
      "\n",
      "Notes:\n",
      "[1] Standard Errors assume that the covariance matrix of the errors is correctly specified.\n"
     ]
    }
   ],
   "source": [
    "stat_model = ols(\"min_r_shots ~  metric\",\n",
    "                 df_All.query(\"device != 'ideal_device'\")).fit()\n",
    "print(stat_model.summary())"
   ]
  },
  {
   "cell_type": "code",
   "execution_count": 14,
   "metadata": {},
   "outputs": [
    {
     "name": "stdout",
     "output_type": "stream",
     "text": [
      "                            OLS Regression Results                            \n",
      "==============================================================================\n",
      "Dep. Variable:                  shots   R-squared:                       0.557\n",
      "Model:                            OLS   Adj. R-squared:                  0.473\n",
      "Method:                 Least Squares   F-statistic:                     6.657\n",
      "Date:                Sat, 05 Jun 2021   Prob (F-statistic):           1.38e-06\n",
      "Time:                        14:55:24   Log-Likelihood:                -317.60\n",
      "No. Observations:                  64   AIC:                             657.2\n",
      "Df Residuals:                      53   BIC:                             680.9\n",
      "Df Model:                          10                                         \n",
      "Covariance Type:            nonrobust                                         \n",
      "===========================================================================================\n",
      "                              coef    std err          t      P>|t|      [0.025      0.975]\n",
      "-------------------------------------------------------------------------------------------\n",
      "Intercept                  23.9531     15.758      1.520      0.134      -7.654      55.560\n",
      "model[T.ideal_sim]         28.9062      9.503      3.042      0.004       9.846      47.966\n",
      "mitigation[T.yes]         -24.8437      9.503     -2.614      0.012     -43.904      -5.784\n",
      "device[T.ibmq_belem]        5.6250     19.005      0.296      0.768     -32.495      43.745\n",
      "device[T.ibmq_lima]        34.7500     19.005      1.828      0.073      -3.370      72.870\n",
      "device[T.ibmq_ourense]     -0.1250     19.005     -0.007      0.995     -38.245      37.995\n",
      "device[T.ibmq_quito]       85.3750     19.005      4.492      0.000      47.255     123.495\n",
      "device[T.ibmq_santiago]     1.2500     19.005      0.066      0.948     -36.870      39.370\n",
      "device[T.ibmq_valencia]    -0.1250     19.005     -0.007      0.995     -38.245      37.995\n",
      "device[T.ibmq_vigo]        -4.8750     19.005     -0.257      0.799     -42.995      33.245\n",
      "id_gates                    0.1359      0.037      3.660      0.001       0.061       0.210\n",
      "==============================================================================\n",
      "Omnibus:                       62.059   Durbin-Watson:                   2.402\n",
      "Prob(Omnibus):                  0.000   Jarque-Bera (JB):              424.458\n",
      "Skew:                           2.714   Prob(JB):                     6.76e-93\n",
      "Kurtosis:                      14.389   Cond. No.                     1.53e+03\n",
      "==============================================================================\n",
      "\n",
      "Notes:\n",
      "[1] Standard Errors assume that the covariance matrix of the errors is correctly specified.\n",
      "[2] The condition number is large, 1.53e+03. This might indicate that there are\n",
      "strong multicollinearity or other numerical problems.\n"
     ]
    }
   ],
   "source": [
    "stat_model = ols(\"shots ~  model+mitigation+id_gates+device\",\n",
    "                 df_All.query(\"device != 'ideal_device'& metric == 'sqeuclidean'\")).fit()\n",
    "print(stat_model.summary())"
   ]
  },
  {
   "cell_type": "code",
   "execution_count": 15,
   "metadata": {},
   "outputs": [
    {
     "name": "stdout",
     "output_type": "stream",
     "text": [
      "                            OLS Regression Results                            \n",
      "==============================================================================\n",
      "Dep. Variable:            min_r_shots   R-squared:                       0.560\n",
      "Model:                            OLS   Adj. R-squared:                  0.477\n",
      "Method:                 Least Squares   F-statistic:                     6.745\n",
      "Date:                Sat, 05 Jun 2021   Prob (F-statistic):           1.16e-06\n",
      "Time:                        14:55:25   Log-Likelihood:                -302.08\n",
      "No. Observations:                  64   AIC:                             626.2\n",
      "Df Residuals:                      53   BIC:                             649.9\n",
      "Df Model:                          10                                         \n",
      "Covariance Type:            nonrobust                                         \n",
      "===========================================================================================\n",
      "                              coef    std err          t      P>|t|      [0.025      0.975]\n",
      "-------------------------------------------------------------------------------------------\n",
      "Intercept                  20.9844     12.365      1.697      0.096      -3.817      45.786\n",
      "model[T.ideal_sim]         21.0312      7.456      2.821      0.007       6.075      35.987\n",
      "mitigation[T.yes]         -20.9062      7.456     -2.804      0.007     -35.862      -5.950\n",
      "device[T.ibmq_belem]        4.7500     14.913      0.319      0.751     -25.162      34.662\n",
      "device[T.ibmq_lima]        26.2500     14.913      1.760      0.084      -3.662      56.162\n",
      "device[T.ibmq_ourense]     -1.3750     14.913     -0.092      0.927     -31.287      28.537\n",
      "device[T.ibmq_quito]       62.8750     14.913      4.216      0.000      32.963      92.787\n",
      "device[T.ibmq_santiago]    -4.8750     14.913     -0.327      0.745     -34.787      25.037\n",
      "device[T.ibmq_valencia]    -1.0000     14.913     -0.067      0.947     -30.912      28.912\n",
      "device[T.ibmq_vigo]        -4.2500     14.913     -0.285      0.777     -34.162      25.662\n",
      "id_gates                    0.1198      0.029      4.111      0.000       0.061       0.178\n",
      "==============================================================================\n",
      "Omnibus:                       66.568   Durbin-Watson:                   2.382\n",
      "Prob(Omnibus):                  0.000   Jarque-Bera (JB):              517.847\n",
      "Skew:                           2.927   Prob(JB):                    3.56e-113\n",
      "Kurtosis:                      15.646   Cond. No.                     1.53e+03\n",
      "==============================================================================\n",
      "\n",
      "Notes:\n",
      "[1] Standard Errors assume that the covariance matrix of the errors is correctly specified.\n",
      "[2] The condition number is large, 1.53e+03. This might indicate that there are\n",
      "strong multicollinearity or other numerical problems.\n"
     ]
    }
   ],
   "source": [
    "stat_model = ols(\"min_r_shots ~  model+mitigation+id_gates+device\",\n",
    "                 df_All.query(\"device != 'ideal_device'& metric == 'sqeuclidean'\")).fit()\n",
    "print(stat_model.summary())"
   ]
  },
  {
   "cell_type": "code",
   "execution_count": null,
   "metadata": {},
   "outputs": [],
   "source": []
  }
 ],
 "metadata": {
  "kernelspec": {
   "display_name": "Python 3",
   "language": "python",
   "name": "python3"
  },
  "language_info": {
   "codemirror_mode": {
    "name": "ipython",
    "version": 3
   },
   "file_extension": ".py",
   "mimetype": "text/x-python",
   "name": "python",
   "nbconvert_exporter": "python",
   "pygments_lexer": "ipython3",
   "version": "3.8.3"
  },
  "varInspector": {
   "cols": {
    "lenName": 16,
    "lenType": 16,
    "lenVar": 40
   },
   "kernels_config": {
    "python": {
     "delete_cmd_postfix": "",
     "delete_cmd_prefix": "del ",
     "library": "var_list.py",
     "varRefreshCmd": "print(var_dic_list())"
    },
    "r": {
     "delete_cmd_postfix": ") ",
     "delete_cmd_prefix": "rm(",
     "library": "var_list.r",
     "varRefreshCmd": "cat(var_dic_list()) "
    }
   },
   "types_to_exclude": [
    "module",
    "function",
    "builtin_function_or_method",
    "instance",
    "_Feature"
   ],
   "window_display": false
  }
 },
 "nbformat": 4,
 "nbformat_minor": 2
}
